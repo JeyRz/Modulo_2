{
 "cells": [
  {
   "cell_type": "markdown",
   "id": "89211eda-266b-401b-9a62-0c3c7d1bfb4b",
   "metadata": {},
   "source": [
    "## Análisis Exploratorio de nuestro Dataset"
   ]
  },
  {
   "cell_type": "markdown",
   "id": "09428749-f5b9-4b1e-9d1f-889b7f614a37",
   "metadata": {},
   "source": [
    "### 1. ¿El conjunto de datos que tengo realmente me sirve para responder algunas de las preguntas que me planteé?\n",
    "\n",
    "1. **\"100_mil_programadores_2020_Mintic.json\":**\n",
    "    Se está leyendo el conjundo de datos publicado por el Mintic \"100_mil_programadores_2020_Mintic.json\", donde se encuentra información de la población estudiantil en el 2020 que se inscribió al progrma 100 mil programadores. Este programa se creo con el fin de suplir la demanda del mercado y el déficit de programadores en Colombia.\n",
    "\n",
    "2. **\"Saber-11-2020-1.json\" y \"Saber-11-2020-2.json\":**\n",
    "    Resultados anonimizados de las pruebas de Saber 11 de Calendario A y B del año 2020. Que pueden dar información de las compencias según la población en la cual se encuentran los estudiantes mejor preparados"
   ]
  },
  {
   "cell_type": "markdown",
   "id": "795c6bfc-71fe-473a-b422-a6bc58be68e8",
   "metadata": {},
   "source": [
    "### 2. ¿Qué tamaño tiene mi conjunto de datos? ¿Serán datos suficientes?\n",
    "1. **\"100_mil_programadores_2020_Mintic.json\":**"
   ]
  },
  {
   "cell_type": "code",
   "execution_count": 1,
   "id": "917894b6-279a-4cce-ad70-631799ef4e52",
   "metadata": {},
   "outputs": [],
   "source": [
    "import json\n",
    "import pandas as pd\n",
    "import pprint"
   ]
  },
  {
   "cell_type": "code",
   "execution_count": 2,
   "id": "6d56069f-521a-4973-b93c-ccdcf3ae33a1",
   "metadata": {
    "tags": []
   },
   "outputs": [
    {
     "data": {
      "text/plain": [
       "(429699, 23)"
      ]
     },
     "execution_count": 2,
     "metadata": {},
     "output_type": "execute_result"
    }
   ],
   "source": [
    "# Paso del conjunto de datos \"100 mil programadores 2020\" a Data Frame\n",
    "datos_json = json.load(open(\"100_mil_programadores_2020_Mintic.json\", encoding=\"utf8\"))\n",
    "df_mintic = pd.DataFrame(datos_json[\"data\"])\n",
    "\n",
    "# El primer conjunto de datos contiene 429.699 registros. Cada registro corresponde a un estudiante\n",
    "df_mintic.shape"
   ]
  },
  {
   "cell_type": "markdown",
   "id": "0d9742ef-4c45-47a8-8f57-33a6f593c292",
   "metadata": {},
   "source": [
    "2. **\"Saber-11-2020-1.json\" y \"Saber-11-2020-2.json\" :**"
   ]
  },
  {
   "cell_type": "code",
   "execution_count": 3,
   "id": "63248773-986d-4033-b63a-9864c29d8c91",
   "metadata": {},
   "outputs": [
    {
     "data": {
      "text/plain": [
       "(15435, 86)"
      ]
     },
     "execution_count": 3,
     "metadata": {},
     "output_type": "execute_result"
    }
   ],
   "source": [
    "# Paso del conjunto de datos \"Saber-11-2020-1.json\" a Data Frame\n",
    "datos_json_2 = json.load(open(\"saber_11_2020_1.json\", encoding=\"utf8\"))\n",
    "df_saber_1 = pd.DataFrame(datos_json_2[\"data\"])\n",
    "\n",
    "# El primer conjunto de datos contiene 15.435 registros. Cada registro corresponde a un estudiante\n",
    "df_saber_1.shape"
   ]
  },
  {
   "cell_type": "code",
   "execution_count": 4,
   "id": "6b1b1f04-d654-4a16-9e04-c573c4be8987",
   "metadata": {},
   "outputs": [
    {
     "data": {
      "text/plain": [
       "(504872, 89)"
      ]
     },
     "execution_count": 4,
     "metadata": {},
     "output_type": "execute_result"
    }
   ],
   "source": [
    "# Paso del conjunto de datos \"Saber-11-2020-1.json\" a Data Frame\n",
    "datos_json_3 = json.load(open(\"saber_11_2020_2.json\", encoding=\"utf8\"))\n",
    "df_saber_2 = pd.DataFrame(datos_json_3[\"data\"])\n",
    "\n",
    "# El primer conjunto de datos contiene 504.872 registros. Cada registro corresponde a un estudiante\n",
    "df_saber_2.shape"
   ]
  },
  {
   "cell_type": "markdown",
   "id": "679d2896-fa98-44a3-8b88-8ecb6d6749b7",
   "metadata": {},
   "source": [
    "### 3. ¿Qué columnas tengo y qué información tengo en cada una de esas columnas?"
   ]
  },
  {
   "cell_type": "markdown",
   "id": "3bae03af-af5f-4ad3-a2b8-4b14fa3b5f54",
   "metadata": {},
   "source": [
    "Columnas e información de **100_mil_programadores_2020_Mintic.json**:\n",
    "\n",
    "En el json se encuentra la información meta data con el nombre de las columnas, en total son 23 en las cuales se encuentra información como: \n",
    "* Ubicación del estudaiante\n",
    "* Estrato social\n",
    "* Edad\n",
    "* Género\n",
    "* Grado\n",
    "* Ruta a la que se inscribió (1 o 2) según el programa"
   ]
  },
  {
   "cell_type": "code",
   "execution_count": 5,
   "id": "a16fd08d-6fa2-4291-a1be-e29d414d33c3",
   "metadata": {
    "tags": []
   },
   "outputs": [
    {
     "data": {
      "text/plain": [
       "\"['sid', 'id', 'position', 'created_at', 'created_meta', 'updated_at', 'updated_meta', 'meta', 'FECHA_CORTE', 'DEPARTAME_NOMBRE', 'MUNICIPIO_NOMBRE', 'ESTADO_FORMACION', 'ESTADOS', 'CONVOCATORIA', 'ESTRATO_SOCIAL', 'EDAD', 'GENERO', 'RUTA', 'GRADO', 'META_BENEFICIARIO', 'INVERSION', 'META_DINERO', 'FECHA_VIGENCIA']\""
      ]
     },
     "execution_count": 5,
     "metadata": {},
     "output_type": "execute_result"
    }
   ],
   "source": [
    "dic_meta = datos_json[\"meta\"][\"view\"]\n",
    "lista_columnas_mintic = [i[\"name\"] for i in dic_meta[\"columns\"]]\n",
    "pprint.saferepr(lista_columnas_mintic)"
   ]
  },
  {
   "cell_type": "markdown",
   "id": "1cac7949-9918-41c0-8dd8-33cf5b98b66a",
   "metadata": {},
   "source": [
    "Columnas e información de **Saber-11-2020-1.json\" y \"Saber-11-2020-2.json**:\n",
    "\n",
    "Ambos conjuntos de información aunque tienen diferente cantidad de columnas coinciden en la mayoría. Estas columnas tienen información de los resultados pruebas saber 11 de los calendarios 1 y 2, entre ellos:\n",
    "* Género del estudiante 'ESTU_GENERO'\n",
    "* Fecha de nacimiento 'ESTU_FECHANACIMIENTO'\n",
    "* Ubicación de residencia ESTU_PAIS_RESIDE', 'ESTU_DEPTO_RESIDE', 'ESTU_MCPIO_RESIDE'.\n",
    "* Estrato 'FAMI_ESTRATOVIVIENDA'\n",
    "* Condición de educación y económica de la familia\n",
    "* Puntajes de la prueba en cada área del conocimiento evaluada y puntajes en percentiles"
   ]
  },
  {
   "cell_type": "code",
   "execution_count": 6,
   "id": "1a6bc2e9-7532-4c20-9af4-b683399ba057",
   "metadata": {},
   "outputs": [
    {
     "data": {
      "text/plain": [
       "\"['sid', 'id', 'position', 'created_at', 'created_meta', 'updated_at', 'updated_meta', 'meta', 'ESTU_TIPODOCUMENTO', 'ESTU_NACIONALIDAD', 'ESTU_GENERO', 'ESTU_FECHANACIMIENTO', 'PERIODO', 'ESTU_CONSECUTIVO', 'ESTU_ESTUDIANTE', 'ESTU_PAIS_RESIDE', 'ESTU_TIENEETNIA', 'ESTU_DEPTO_RESIDE', 'ESTU_COD_RESIDE_DEPTO', 'ESTU_MCPIO_RESIDE', 'ESTU_COD_RESIDE_MCPIO', 'FAMI_ESTRATOVIVIENDA', 'FAMI_PERSONASHOGAR', 'FAMI_CUARTOSHOGAR', 'FAMI_EDUCACIONPADRE', 'FAMI_EDUCACIONMADRE', 'FAMI_TRABAJOLABORPADRE', 'FAMI_TRABAJOLABORMADRE', 'FAMI_TIENEINTERNET', 'FAMI_TIENESERVICIOTV', 'FAMI_TIENECOMPUTADOR', 'FAMI_TIENELAVADORA', 'FAMI_TIENEHORNOMICROOGAS', 'FAMI_TIENEAUTOMOVIL', 'FAMI_TIENEMOTOCICLETA', 'FAMI_TIENECONSOLAVIDEOJUEGOS', 'FAMI_NUMLIBROS', 'FAMI_COMELECHEDERIVADOS', 'FAMI_COMECARNEPESCADOHUEVO', 'FAMI_COMECEREALFRUTOSLEGUMBRE', 'FAMI_SITUACIONECONOMICA', 'ESTU_DEDICACIONLECTURADIARIA', 'ESTU_DEDICACIONINTERNET', 'ESTU_HORASSEMANATRABAJA', 'ESTU_TIPOREMUNERACION', 'COLE_CODIGO_ICFES', 'COLE_COD_DANE_ESTABLECIMIENTO', 'COLE_NOMBRE_ESTABLECIMIENTO', 'COLE_GENERO', 'COLE_NATURALEZA', 'COLE_CALENDARIO', 'COLE_BILINGUE', 'COLE_CARACTER', 'COLE_COD_DANE_SEDE', 'COLE_NOMBRE_SEDE', 'COLE_SEDE_PRINCIPAL', 'COLE_AREA_UBICACION', 'COLE_JORNADA', 'COLE_COD_MCPIO_UBICACION', 'COLE_MCPIO_UBICACION', 'COLE_COD_DEPTO_UBICACION', 'COLE_DEPTO_UBICACION', 'ESTU_PRIVADO_LIBERTAD', 'ESTU_COD_MCPIO_PRESENTACION', 'ESTU_MCPIO_PRESENTACION', 'ESTU_DEPTO_PRESENTACION', 'ESTU_COD_DEPTO_PRESENTACION', 'PUNT_LECTURA_CRITICA', 'PERCENTIL_LECTURA_CRITICA', 'DESEMP_LECTURA_CRITICA', 'PUNT_MATEMATICAS', 'PERCENTIL_MATEMATICAS', 'DESEMP_MATEMATICAS', 'PUNT_C_NATURALES', 'PERCENTIL_C_NATURALES', 'DESEMP_C_NATURALES', 'PUNT_SOCIALES_CIUDADANAS', 'PERCENTIL_SOCIALES_CIUDADANAS', 'DESEMP_SOCIALES_CIUDADANAS', 'PUNT_INGLES', 'PERCENTIL_INGLES', 'DESEMP_INGLES', 'PUNT_GLOBAL', 'PERCENTIL_GLOBAL', 'ESTU_ESTADOINVESTIGACION', 'ESTU_GENERACION-E']\""
      ]
     },
     "execution_count": 6,
     "metadata": {},
     "output_type": "execute_result"
    }
   ],
   "source": [
    "dic_meta_2 = datos_json_2[\"meta\"][\"view\"]\n",
    "lista_columnas_saber_1 = [i[\"name\"] for i in dic_meta_2[\"columns\"]]\n",
    "pprint.saferepr(lista_columnas_saber_1)"
   ]
  },
  {
   "cell_type": "code",
   "execution_count": 7,
   "id": "6fa4682e-f8bd-4e2f-bbbe-b63101c898fe",
   "metadata": {},
   "outputs": [
    {
     "data": {
      "text/plain": [
       "\"['sid', 'id', 'position', 'created_at', 'created_meta', 'updated_at', 'updated_meta', 'meta', 'ESTU_TIPODOCUMENTO', 'ESTU_NACIONALIDAD', 'ESTU_GENERO', 'ESTU_FECHANACIMIENTO', 'PERIODO', 'ESTU_CONSECUTIVO', 'ESTU_ESTUDIANTE', 'ESTU_PAIS_RESIDE', 'ESTU_TIENEETNIA', 'ESTU_DEPTO_RESIDE', 'ESTU_COD_RESIDE_DEPTO', 'ESTU_MCPIO_RESIDE', 'ESTU_COD_RESIDE_MCPIO', 'FAMI_ESTRATOVIVIENDA', 'FAMI_PERSONASHOGAR', 'FAMI_CUARTOSHOGAR', 'FAMI_EDUCACIONPADRE', 'FAMI_EDUCACIONMADRE', 'FAMI_TRABAJOLABORPADRE', 'FAMI_TRABAJOLABORMADRE', 'FAMI_TIENEINTERNET', 'FAMI_TIENESERVICIOTV', 'FAMI_TIENECOMPUTADOR', 'FAMI_TIENELAVADORA', 'FAMI_TIENEHORNOMICROOGAS', 'FAMI_TIENEAUTOMOVIL', 'FAMI_TIENEMOTOCICLETA', 'FAMI_TIENECONSOLAVIDEOJUEGOS', 'FAMI_NUMLIBROS', 'FAMI_COMELECHEDERIVADOS', 'FAMI_COMECARNEPESCADOHUEVO', 'FAMI_COMECEREALFRUTOSLEGUMBRE', 'FAMI_SITUACIONECONOMICA', 'ESTU_DEDICACIONLECTURADIARIA', 'ESTU_DEDICACIONINTERNET', 'ESTU_HORASSEMANATRABAJA', 'ESTU_TIPOREMUNERACION', 'COLE_CODIGO_ICFES', 'COLE_COD_DANE_ESTABLECIMIENTO', 'COLE_NOMBRE_ESTABLECIMIENTO', 'COLE_GENERO', 'COLE_NATURALEZA', 'COLE_CALENDARIO', 'COLE_BILINGUE', 'COLE_CARACTER', 'COLE_COD_DANE_SEDE', 'COLE_NOMBRE_SEDE', 'COLE_SEDE_PRINCIPAL', 'COLE_AREA_UBICACION', 'COLE_JORNADA', 'COLE_COD_MCPIO_UBICACION', 'COLE_MCPIO_UBICACION', 'COLE_COD_DEPTO_UBICACION', 'COLE_DEPTO_UBICACION', 'ESTU_PRIVADO_LIBERTAD', 'ESTU_COD_MCPIO_PRESENTACION', 'ESTU_MCPIO_PRESENTACION', 'ESTU_DEPTO_PRESENTACION', 'ESTU_COD_DEPTO_PRESENTACION', 'PUNT_LECTURA_CRITICA', 'PERCENTIL_LECTURA_CRITICA', 'DESEMP_LECTURA_CRITICA', 'PUNT_MATEMATICAS', 'PERCENTIL_MATEMATICAS', 'DESEMP_MATEMATICAS', 'PUNT_C_NATURALES', 'PERCENTIL_C_NATURALES', 'DESEMP_C_NATURALES', 'PUNT_SOCIALES_CIUDADANAS', 'PERCENTIL_SOCIALES_CIUDADANAS', 'DESEMP_SOCIALES_CIUDADANAS', 'PUNT_INGLES', 'PERCENTIL_INGLES', 'DESEMP_INGLES', 'PUNT_GLOBAL', 'PERCENTIL_GLOBAL', 'ESTU_INSE_INDIVIDUAL', 'ESTU_NSE_INDIVIDUAL', 'ESTU_NSE_ESTABLECIMIENTO', 'ESTU_ESTADOINVESTIGACION', 'ESTU_GENERACION-E']\""
      ]
     },
     "execution_count": 7,
     "metadata": {},
     "output_type": "execute_result"
    }
   ],
   "source": [
    "dic_meta_3 = datos_json_3[\"meta\"][\"view\"]\n",
    "lista_columnas_saber_2 = [i[\"name\"] for i in dic_meta_3[\"columns\"]]\n",
    "pprint.saferepr(lista_columnas_saber_2)"
   ]
  },
  {
   "cell_type": "markdown",
   "id": "60404607-249c-4be9-a8bd-1185296f4f7e",
   "metadata": {
    "tags": []
   },
   "source": [
    "#### Aplicación de nombres de columnas a dataFrames para cada conjunto de datos\n",
    "Debido a que el nombre de las columnas y los datos se encuentran separados en la lectura del json. Se procede a unir cada conjunto de datos con los nombres de cada columna antes de realizar el análisis de los datos de manera general"
   ]
  },
  {
   "cell_type": "markdown",
   "id": "5c02f52f-edf0-4575-8cda-f66a233ef4e2",
   "metadata": {},
   "source": [
    "##### Union de columnas y data para inscripción de 100 mil programadores del mintic"
   ]
  },
  {
   "cell_type": "code",
   "execution_count": 8,
   "id": "926c6d13-d8f1-4431-aa3a-8385b7a91cba",
   "metadata": {
    "tags": []
   },
   "outputs": [
    {
     "data": {
      "text/html": [
       "<div>\n",
       "<style scoped>\n",
       "    .dataframe tbody tr th:only-of-type {\n",
       "        vertical-align: middle;\n",
       "    }\n",
       "\n",
       "    .dataframe tbody tr th {\n",
       "        vertical-align: top;\n",
       "    }\n",
       "\n",
       "    .dataframe thead th {\n",
       "        text-align: right;\n",
       "    }\n",
       "</style>\n",
       "<table border=\"1\" class=\"dataframe\">\n",
       "  <thead>\n",
       "    <tr style=\"text-align: right;\">\n",
       "      <th></th>\n",
       "      <th>sid</th>\n",
       "      <th>id</th>\n",
       "      <th>position</th>\n",
       "      <th>created_at</th>\n",
       "      <th>created_meta</th>\n",
       "      <th>updated_at</th>\n",
       "      <th>updated_meta</th>\n",
       "      <th>meta</th>\n",
       "      <th>FECHA_CORTE</th>\n",
       "      <th>DEPARTAME_NOMBRE</th>\n",
       "      <th>...</th>\n",
       "      <th>CONVOCATORIA</th>\n",
       "      <th>ESTRATO_SOCIAL</th>\n",
       "      <th>EDAD</th>\n",
       "      <th>GENERO</th>\n",
       "      <th>RUTA</th>\n",
       "      <th>GRADO</th>\n",
       "      <th>META_BENEFICIARIO</th>\n",
       "      <th>INVERSION</th>\n",
       "      <th>META_DINERO</th>\n",
       "      <th>FECHA_VIGENCIA</th>\n",
       "    </tr>\n",
       "  </thead>\n",
       "  <tbody>\n",
       "    <tr>\n",
       "      <th>0</th>\n",
       "      <td>row-sas3_qatz~5pwp</td>\n",
       "      <td>00000000-0000-0000-C200-BA92F054D3BD</td>\n",
       "      <td>0</td>\n",
       "      <td>1633555239</td>\n",
       "      <td>None</td>\n",
       "      <td>1633555239</td>\n",
       "      <td>None</td>\n",
       "      <td>{ }</td>\n",
       "      <td>2021-10-01</td>\n",
       "      <td>QUINDIO</td>\n",
       "      <td>...</td>\n",
       "      <td>1</td>\n",
       "      <td>3</td>\n",
       "      <td>29</td>\n",
       "      <td>MASCULINO</td>\n",
       "      <td>RUTA 2</td>\n",
       "      <td>-1</td>\n",
       "      <td>None</td>\n",
       "      <td>None</td>\n",
       "      <td>None</td>\n",
       "      <td>2021-12-31</td>\n",
       "    </tr>\n",
       "    <tr>\n",
       "      <th>1</th>\n",
       "      <td>row-svx3_76du_vqqc</td>\n",
       "      <td>00000000-0000-0000-99AA-2E3888BFFB24</td>\n",
       "      <td>0</td>\n",
       "      <td>1633555239</td>\n",
       "      <td>None</td>\n",
       "      <td>1633555239</td>\n",
       "      <td>None</td>\n",
       "      <td>{ }</td>\n",
       "      <td>2021-10-01</td>\n",
       "      <td>QUINDIO</td>\n",
       "      <td>...</td>\n",
       "      <td>1</td>\n",
       "      <td>3</td>\n",
       "      <td>29</td>\n",
       "      <td>MASCULINO</td>\n",
       "      <td>RUTA 2</td>\n",
       "      <td>-1</td>\n",
       "      <td>None</td>\n",
       "      <td>None</td>\n",
       "      <td>None</td>\n",
       "      <td>2021-12-31</td>\n",
       "    </tr>\n",
       "    <tr>\n",
       "      <th>2</th>\n",
       "      <td>row-xxyq-jzbk_x9ss</td>\n",
       "      <td>00000000-0000-0000-D72E-7CF7C7526A22</td>\n",
       "      <td>0</td>\n",
       "      <td>1633555239</td>\n",
       "      <td>None</td>\n",
       "      <td>1633555239</td>\n",
       "      <td>None</td>\n",
       "      <td>{ }</td>\n",
       "      <td>2021-10-01</td>\n",
       "      <td>QUINDIO</td>\n",
       "      <td>...</td>\n",
       "      <td>1</td>\n",
       "      <td>3</td>\n",
       "      <td>29</td>\n",
       "      <td>MASCULINO</td>\n",
       "      <td>RUTA 2</td>\n",
       "      <td>-1</td>\n",
       "      <td>None</td>\n",
       "      <td>None</td>\n",
       "      <td>None</td>\n",
       "      <td>2021-12-31</td>\n",
       "    </tr>\n",
       "  </tbody>\n",
       "</table>\n",
       "<p>3 rows × 23 columns</p>\n",
       "</div>"
      ],
      "text/plain": [
       "                  sid                                    id  position  \\\n",
       "0  row-sas3_qatz~5pwp  00000000-0000-0000-C200-BA92F054D3BD         0   \n",
       "1  row-svx3_76du_vqqc  00000000-0000-0000-99AA-2E3888BFFB24         0   \n",
       "2  row-xxyq-jzbk_x9ss  00000000-0000-0000-D72E-7CF7C7526A22         0   \n",
       "\n",
       "   created_at created_meta  updated_at updated_meta meta FECHA_CORTE  \\\n",
       "0  1633555239         None  1633555239         None  { }  2021-10-01   \n",
       "1  1633555239         None  1633555239         None  { }  2021-10-01   \n",
       "2  1633555239         None  1633555239         None  { }  2021-10-01   \n",
       "\n",
       "  DEPARTAME_NOMBRE  ... CONVOCATORIA ESTRATO_SOCIAL EDAD     GENERO    RUTA  \\\n",
       "0          QUINDIO  ...            1              3   29  MASCULINO  RUTA 2   \n",
       "1          QUINDIO  ...            1              3   29  MASCULINO  RUTA 2   \n",
       "2          QUINDIO  ...            1              3   29  MASCULINO  RUTA 2   \n",
       "\n",
       "  GRADO META_BENEFICIARIO INVERSION META_DINERO FECHA_VIGENCIA  \n",
       "0    -1              None      None        None     2021-12-31  \n",
       "1    -1              None      None        None     2021-12-31  \n",
       "2    -1              None      None        None     2021-12-31  \n",
       "\n",
       "[3 rows x 23 columns]"
      ]
     },
     "execution_count": 8,
     "metadata": {},
     "output_type": "execute_result"
    }
   ],
   "source": [
    "df_mintic.columns = lista_columnas_mintic\n",
    "df_mintic.head(3)"
   ]
  },
  {
   "cell_type": "markdown",
   "id": "70e62bf4-fac9-488d-88b9-7aaae8145a7d",
   "metadata": {},
   "source": [
    "##### Union de columnas y data para saber 11 periodo 1"
   ]
  },
  {
   "cell_type": "code",
   "execution_count": 9,
   "id": "6a4c76d3-77e5-4fae-a234-2671a3c28f31",
   "metadata": {},
   "outputs": [
    {
     "data": {
      "text/html": [
       "<div>\n",
       "<style scoped>\n",
       "    .dataframe tbody tr th:only-of-type {\n",
       "        vertical-align: middle;\n",
       "    }\n",
       "\n",
       "    .dataframe tbody tr th {\n",
       "        vertical-align: top;\n",
       "    }\n",
       "\n",
       "    .dataframe thead th {\n",
       "        text-align: right;\n",
       "    }\n",
       "</style>\n",
       "<table border=\"1\" class=\"dataframe\">\n",
       "  <thead>\n",
       "    <tr style=\"text-align: right;\">\n",
       "      <th></th>\n",
       "      <th>sid</th>\n",
       "      <th>id</th>\n",
       "      <th>position</th>\n",
       "      <th>created_at</th>\n",
       "      <th>created_meta</th>\n",
       "      <th>updated_at</th>\n",
       "      <th>updated_meta</th>\n",
       "      <th>meta</th>\n",
       "      <th>ESTU_TIPODOCUMENTO</th>\n",
       "      <th>ESTU_NACIONALIDAD</th>\n",
       "      <th>...</th>\n",
       "      <th>PUNT_SOCIALES_CIUDADANAS</th>\n",
       "      <th>PERCENTIL_SOCIALES_CIUDADANAS</th>\n",
       "      <th>DESEMP_SOCIALES_CIUDADANAS</th>\n",
       "      <th>PUNT_INGLES</th>\n",
       "      <th>PERCENTIL_INGLES</th>\n",
       "      <th>DESEMP_INGLES</th>\n",
       "      <th>PUNT_GLOBAL</th>\n",
       "      <th>PERCENTIL_GLOBAL</th>\n",
       "      <th>ESTU_ESTADOINVESTIGACION</th>\n",
       "      <th>ESTU_GENERACION-E</th>\n",
       "    </tr>\n",
       "  </thead>\n",
       "  <tbody>\n",
       "    <tr>\n",
       "      <th>0</th>\n",
       "      <td>row-k9ci.duxc.nvtz</td>\n",
       "      <td>00000000-0000-0000-B30A-5F2FE234EE93</td>\n",
       "      <td>0</td>\n",
       "      <td>1615842361</td>\n",
       "      <td>None</td>\n",
       "      <td>1615842361</td>\n",
       "      <td>None</td>\n",
       "      <td>{ }</td>\n",
       "      <td>CC</td>\n",
       "      <td>COLOMBIA</td>\n",
       "      <td>...</td>\n",
       "      <td>24</td>\n",
       "      <td>1</td>\n",
       "      <td>1</td>\n",
       "      <td>36</td>\n",
       "      <td>7</td>\n",
       "      <td>A-</td>\n",
       "      <td>164</td>\n",
       "      <td>2</td>\n",
       "      <td>VALIDEZ OFICINA JURÍDICA</td>\n",
       "      <td>GENERACION E - GRATUIDAD</td>\n",
       "    </tr>\n",
       "    <tr>\n",
       "      <th>1</th>\n",
       "      <td>row-rawk~ti8k_t5yx</td>\n",
       "      <td>00000000-0000-0000-F3E5-3E18272D8C28</td>\n",
       "      <td>0</td>\n",
       "      <td>1615842361</td>\n",
       "      <td>None</td>\n",
       "      <td>1615842361</td>\n",
       "      <td>None</td>\n",
       "      <td>{ }</td>\n",
       "      <td>CC</td>\n",
       "      <td>COLOMBIA</td>\n",
       "      <td>...</td>\n",
       "      <td>44</td>\n",
       "      <td>23</td>\n",
       "      <td>2</td>\n",
       "      <td>30</td>\n",
       "      <td>3</td>\n",
       "      <td>A-</td>\n",
       "      <td>202</td>\n",
       "      <td>10</td>\n",
       "      <td>PUBLICAR</td>\n",
       "      <td>GENERACION E - GRATUIDAD</td>\n",
       "    </tr>\n",
       "    <tr>\n",
       "      <th>2</th>\n",
       "      <td>row-mefm-hu4n-mfrb</td>\n",
       "      <td>00000000-0000-0000-2E67-572B8AFB010B</td>\n",
       "      <td>0</td>\n",
       "      <td>1615842361</td>\n",
       "      <td>None</td>\n",
       "      <td>1615842361</td>\n",
       "      <td>None</td>\n",
       "      <td>{ }</td>\n",
       "      <td>CC</td>\n",
       "      <td>COLOMBIA</td>\n",
       "      <td>...</td>\n",
       "      <td>24</td>\n",
       "      <td>1</td>\n",
       "      <td>1</td>\n",
       "      <td>30</td>\n",
       "      <td>3</td>\n",
       "      <td>A-</td>\n",
       "      <td>162</td>\n",
       "      <td>2</td>\n",
       "      <td>PUBLICAR</td>\n",
       "      <td>GENERACION E - GRATUIDAD</td>\n",
       "    </tr>\n",
       "  </tbody>\n",
       "</table>\n",
       "<p>3 rows × 86 columns</p>\n",
       "</div>"
      ],
      "text/plain": [
       "                  sid                                    id  position  \\\n",
       "0  row-k9ci.duxc.nvtz  00000000-0000-0000-B30A-5F2FE234EE93         0   \n",
       "1  row-rawk~ti8k_t5yx  00000000-0000-0000-F3E5-3E18272D8C28         0   \n",
       "2  row-mefm-hu4n-mfrb  00000000-0000-0000-2E67-572B8AFB010B         0   \n",
       "\n",
       "   created_at created_meta  updated_at updated_meta meta ESTU_TIPODOCUMENTO  \\\n",
       "0  1615842361         None  1615842361         None  { }                 CC   \n",
       "1  1615842361         None  1615842361         None  { }                 CC   \n",
       "2  1615842361         None  1615842361         None  { }                 CC   \n",
       "\n",
       "  ESTU_NACIONALIDAD  ... PUNT_SOCIALES_CIUDADANAS  \\\n",
       "0          COLOMBIA  ...                       24   \n",
       "1          COLOMBIA  ...                       44   \n",
       "2          COLOMBIA  ...                       24   \n",
       "\n",
       "  PERCENTIL_SOCIALES_CIUDADANAS DESEMP_SOCIALES_CIUDADANAS PUNT_INGLES  \\\n",
       "0                             1                          1          36   \n",
       "1                            23                          2          30   \n",
       "2                             1                          1          30   \n",
       "\n",
       "  PERCENTIL_INGLES DESEMP_INGLES PUNT_GLOBAL PERCENTIL_GLOBAL  \\\n",
       "0                7            A-         164                2   \n",
       "1                3            A-         202               10   \n",
       "2                3            A-         162                2   \n",
       "\n",
       "   ESTU_ESTADOINVESTIGACION         ESTU_GENERACION-E  \n",
       "0  VALIDEZ OFICINA JURÍDICA  GENERACION E - GRATUIDAD  \n",
       "1                  PUBLICAR  GENERACION E - GRATUIDAD  \n",
       "2                  PUBLICAR  GENERACION E - GRATUIDAD  \n",
       "\n",
       "[3 rows x 86 columns]"
      ]
     },
     "execution_count": 9,
     "metadata": {},
     "output_type": "execute_result"
    }
   ],
   "source": [
    "df_saber_1.columns = lista_columnas_saber_1\n",
    "df_saber_1.head(3)"
   ]
  },
  {
   "cell_type": "markdown",
   "id": "6021a829-f61d-4d36-86c4-4983b7f710fb",
   "metadata": {},
   "source": [
    "##### Union de columnas y data para saber 11 periodo 2"
   ]
  },
  {
   "cell_type": "code",
   "execution_count": 10,
   "id": "c03d200a-57fd-4fbd-9f5f-7eef936e011d",
   "metadata": {},
   "outputs": [
    {
     "data": {
      "text/html": [
       "<div>\n",
       "<style scoped>\n",
       "    .dataframe tbody tr th:only-of-type {\n",
       "        vertical-align: middle;\n",
       "    }\n",
       "\n",
       "    .dataframe tbody tr th {\n",
       "        vertical-align: top;\n",
       "    }\n",
       "\n",
       "    .dataframe thead th {\n",
       "        text-align: right;\n",
       "    }\n",
       "</style>\n",
       "<table border=\"1\" class=\"dataframe\">\n",
       "  <thead>\n",
       "    <tr style=\"text-align: right;\">\n",
       "      <th></th>\n",
       "      <th>sid</th>\n",
       "      <th>id</th>\n",
       "      <th>position</th>\n",
       "      <th>created_at</th>\n",
       "      <th>created_meta</th>\n",
       "      <th>updated_at</th>\n",
       "      <th>updated_meta</th>\n",
       "      <th>meta</th>\n",
       "      <th>ESTU_TIPODOCUMENTO</th>\n",
       "      <th>ESTU_NACIONALIDAD</th>\n",
       "      <th>...</th>\n",
       "      <th>PUNT_INGLES</th>\n",
       "      <th>PERCENTIL_INGLES</th>\n",
       "      <th>DESEMP_INGLES</th>\n",
       "      <th>PUNT_GLOBAL</th>\n",
       "      <th>PERCENTIL_GLOBAL</th>\n",
       "      <th>ESTU_INSE_INDIVIDUAL</th>\n",
       "      <th>ESTU_NSE_INDIVIDUAL</th>\n",
       "      <th>ESTU_NSE_ESTABLECIMIENTO</th>\n",
       "      <th>ESTU_ESTADOINVESTIGACION</th>\n",
       "      <th>ESTU_GENERACION-E</th>\n",
       "    </tr>\n",
       "  </thead>\n",
       "  <tbody>\n",
       "    <tr>\n",
       "      <th>0</th>\n",
       "      <td>row-dkkz_ftt3~s52m</td>\n",
       "      <td>00000000-0000-0000-51A2-ED4E60A8A4C5</td>\n",
       "      <td>0</td>\n",
       "      <td>1615849165</td>\n",
       "      <td>None</td>\n",
       "      <td>1615849165</td>\n",
       "      <td>None</td>\n",
       "      <td>{ }</td>\n",
       "      <td>TI</td>\n",
       "      <td>SUIZA</td>\n",
       "      <td>...</td>\n",
       "      <td>55</td>\n",
       "      <td>81</td>\n",
       "      <td>A1</td>\n",
       "      <td>244</td>\n",
       "      <td>49</td>\n",
       "      <td>54.8823647351142</td>\n",
       "      <td>3</td>\n",
       "      <td>3</td>\n",
       "      <td>PUBLICAR</td>\n",
       "      <td>NO</td>\n",
       "    </tr>\n",
       "    <tr>\n",
       "      <th>1</th>\n",
       "      <td>row-87e6_b245_uisd</td>\n",
       "      <td>00000000-0000-0000-776F-6750069D0DFE</td>\n",
       "      <td>0</td>\n",
       "      <td>1615849165</td>\n",
       "      <td>None</td>\n",
       "      <td>1615849165</td>\n",
       "      <td>None</td>\n",
       "      <td>{ }</td>\n",
       "      <td>PEP</td>\n",
       "      <td>VENEZUELA</td>\n",
       "      <td>...</td>\n",
       "      <td>33</td>\n",
       "      <td>6</td>\n",
       "      <td>A-</td>\n",
       "      <td>238</td>\n",
       "      <td>44</td>\n",
       "      <td>49.2523109721028</td>\n",
       "      <td>2</td>\n",
       "      <td>2</td>\n",
       "      <td>PUBLICAR</td>\n",
       "      <td>NO</td>\n",
       "    </tr>\n",
       "    <tr>\n",
       "      <th>2</th>\n",
       "      <td>row-jt88-bz7a_wpg9</td>\n",
       "      <td>00000000-0000-0000-DC23-A86B8ADF5479</td>\n",
       "      <td>0</td>\n",
       "      <td>1615849165</td>\n",
       "      <td>None</td>\n",
       "      <td>1615849165</td>\n",
       "      <td>None</td>\n",
       "      <td>{ }</td>\n",
       "      <td>TI</td>\n",
       "      <td>VENEZUELA</td>\n",
       "      <td>...</td>\n",
       "      <td>59</td>\n",
       "      <td>87</td>\n",
       "      <td>A2</td>\n",
       "      <td>325</td>\n",
       "      <td>94</td>\n",
       "      <td>40.7336723796904</td>\n",
       "      <td>1</td>\n",
       "      <td>3</td>\n",
       "      <td>PUBLICAR</td>\n",
       "      <td>GENERACION E - GRATUIDAD</td>\n",
       "    </tr>\n",
       "  </tbody>\n",
       "</table>\n",
       "<p>3 rows × 89 columns</p>\n",
       "</div>"
      ],
      "text/plain": [
       "                  sid                                    id  position  \\\n",
       "0  row-dkkz_ftt3~s52m  00000000-0000-0000-51A2-ED4E60A8A4C5         0   \n",
       "1  row-87e6_b245_uisd  00000000-0000-0000-776F-6750069D0DFE         0   \n",
       "2  row-jt88-bz7a_wpg9  00000000-0000-0000-DC23-A86B8ADF5479         0   \n",
       "\n",
       "   created_at created_meta  updated_at updated_meta meta ESTU_TIPODOCUMENTO  \\\n",
       "0  1615849165         None  1615849165         None  { }                 TI   \n",
       "1  1615849165         None  1615849165         None  { }                PEP   \n",
       "2  1615849165         None  1615849165         None  { }                 TI   \n",
       "\n",
       "  ESTU_NACIONALIDAD  ... PUNT_INGLES PERCENTIL_INGLES DESEMP_INGLES  \\\n",
       "0             SUIZA  ...          55               81            A1   \n",
       "1         VENEZUELA  ...          33                6            A-   \n",
       "2         VENEZUELA  ...          59               87            A2   \n",
       "\n",
       "  PUNT_GLOBAL PERCENTIL_GLOBAL ESTU_INSE_INDIVIDUAL ESTU_NSE_INDIVIDUAL  \\\n",
       "0         244               49     54.8823647351142                   3   \n",
       "1         238               44     49.2523109721028                   2   \n",
       "2         325               94     40.7336723796904                   1   \n",
       "\n",
       "  ESTU_NSE_ESTABLECIMIENTO ESTU_ESTADOINVESTIGACION         ESTU_GENERACION-E  \n",
       "0                        3                 PUBLICAR                        NO  \n",
       "1                        2                 PUBLICAR                        NO  \n",
       "2                        3                 PUBLICAR  GENERACION E - GRATUIDAD  \n",
       "\n",
       "[3 rows x 89 columns]"
      ]
     },
     "execution_count": 10,
     "metadata": {},
     "output_type": "execute_result"
    }
   ],
   "source": [
    "df_saber_2.columns = lista_columnas_saber_2\n",
    "df_saber_2.head(3)"
   ]
  },
  {
   "cell_type": "markdown",
   "id": "1f805e8f-ec6c-479a-922a-2667d0c05b55",
   "metadata": {
    "tags": []
   },
   "source": [
    "### 4. Analisis de datos\n",
    "* ¿Qué tipos de datos tengo en cada columna? \n",
    "    Se realiza la consulta de los tipos de cada columna. \n",
    "    \n",
    "* ¿Parecen ser el tipo correcto de datos? ¿O es un tipo de datos \"incorrecto\"?\n",
    "    Según se observa el tipo de dato corresponde para cada DF con la información presentada\n",
    "\n",
    "* Si selecciono algunas filas al azar y las observo, ¿estoy obteniendo los datos que debería? ¿o hay datos que parecen estar \"sucios\" o \"incorrectos\"?\n",
    "    Según algunas filas consultadas, su correspondencia es correcta, según los nombres de la columna y datos esperadas, para cada DF."
   ]
  },
  {
   "cell_type": "code",
   "execution_count": 14,
   "id": "42687328-4234-42e4-9f51-8f1ecc383092",
   "metadata": {},
   "outputs": [
    {
     "data": {
      "text/plain": [
       "sid                  object\n",
       "id                   object\n",
       "position              int64\n",
       "created_at            int64\n",
       "created_meta         object\n",
       "updated_at            int64\n",
       "updated_meta         object\n",
       "meta                 object\n",
       "FECHA_CORTE          object\n",
       "DEPARTAME_NOMBRE     object\n",
       "MUNICIPIO_NOMBRE     object\n",
       "ESTADO_FORMACION     object\n",
       "ESTADOS              object\n",
       "CONVOCATORIA         object\n",
       "ESTRATO_SOCIAL       object\n",
       "EDAD                 object\n",
       "GENERO               object\n",
       "RUTA                 object\n",
       "GRADO                object\n",
       "META_BENEFICIARIO    object\n",
       "INVERSION            object\n",
       "META_DINERO          object\n",
       "FECHA_VIGENCIA       object\n",
       "dtype: object"
      ]
     },
     "execution_count": 14,
     "metadata": {},
     "output_type": "execute_result"
    }
   ],
   "source": [
    "df_mintic.dtypes"
   ]
  },
  {
   "cell_type": "code",
   "execution_count": 12,
   "id": "c0dc86d5-c3c1-422f-9ad7-c321c36e71e5",
   "metadata": {},
   "outputs": [
    {
     "data": {
      "text/plain": [
       "sid                         object\n",
       "id                          object\n",
       "position                     int64\n",
       "created_at                   int64\n",
       "created_meta                object\n",
       "                             ...  \n",
       "DESEMP_INGLES               object\n",
       "PUNT_GLOBAL                 object\n",
       "PERCENTIL_GLOBAL            object\n",
       "ESTU_ESTADOINVESTIGACION    object\n",
       "ESTU_GENERACION-E           object\n",
       "Length: 86, dtype: object"
      ]
     },
     "execution_count": 12,
     "metadata": {},
     "output_type": "execute_result"
    }
   ],
   "source": [
    "df_saber_1.dtypes"
   ]
  },
  {
   "cell_type": "code",
   "execution_count": 13,
   "id": "87c28ab3-0f04-482f-a830-4df62ce6b13c",
   "metadata": {},
   "outputs": [
    {
     "data": {
      "text/plain": [
       "sid                         object\n",
       "id                          object\n",
       "position                     int64\n",
       "created_at                   int64\n",
       "created_meta                object\n",
       "                             ...  \n",
       "ESTU_INSE_INDIVIDUAL        object\n",
       "ESTU_NSE_INDIVIDUAL         object\n",
       "ESTU_NSE_ESTABLECIMIENTO    object\n",
       "ESTU_ESTADOINVESTIGACION    object\n",
       "ESTU_GENERACION-E           object\n",
       "Length: 89, dtype: object"
      ]
     },
     "execution_count": 13,
     "metadata": {},
     "output_type": "execute_result"
    }
   ],
   "source": [
    "df_saber_2.dtypes"
   ]
  },
  {
   "cell_type": "code",
   "execution_count": null,
   "id": "e2e9dff1-6797-4abb-ac0a-6c35504de204",
   "metadata": {},
   "outputs": [],
   "source": []
  }
 ],
 "metadata": {
  "kernelspec": {
   "display_name": "Python 3 (ipykernel)",
   "language": "python",
   "name": "python3"
  },
  "language_info": {
   "codemirror_mode": {
    "name": "ipython",
    "version": 3
   },
   "file_extension": ".py",
   "mimetype": "text/x-python",
   "name": "python",
   "nbconvert_exporter": "python",
   "pygments_lexer": "ipython3",
   "version": "3.9.7"
  }
 },
 "nbformat": 4,
 "nbformat_minor": 5
}
