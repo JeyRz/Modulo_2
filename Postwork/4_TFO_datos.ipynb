{
 "cells": [
  {
   "cell_type": "markdown",
   "id": "ebb91ba8-dd20-4676-8b76-b91de5d7b853",
   "metadata": {},
   "source": [
    "# Transformación, filtración y ordenamiento de datos"
   ]
  },
  {
   "cell_type": "markdown",
   "id": "f74dcd43-5a6f-4d2e-9d00-ce558b94cde1",
   "metadata": {},
   "source": [
    "### 1. Revisión de tipos de datos de los dos dataFrames\n",
    "\n",
    "#### DF Mintic"
   ]
  },
  {
   "cell_type": "code",
   "execution_count": 322,
   "id": "7b202a83-3a1e-498e-9b77-f44ad9f5fd54",
   "metadata": {},
   "outputs": [
    {
     "data": {
      "text/plain": [
       "id                  object\n",
       "FECHA_CORTE         object\n",
       "DEPARTAME_NOMBRE    object\n",
       "MUNICIPIO_NOMBRE    object\n",
       "ESTADO_FORMACION    object\n",
       "ESTADOS             object\n",
       "ESTRATO_SOCIAL      object\n",
       "EDAD                object\n",
       "GENERO              object\n",
       "RUTA                object\n",
       "GRADO               object\n",
       "dtype: object"
      ]
     },
     "execution_count": 322,
     "metadata": {},
     "output_type": "execute_result"
    }
   ],
   "source": [
    "df_mintic_v2.dtypes"
   ]
  },
  {
   "cell_type": "code",
   "execution_count": 323,
   "id": "f96548ad-6aae-41f8-8e18-cffd44fad7b4",
   "metadata": {},
   "outputs": [
    {
     "data": {
      "text/html": [
       "<div>\n",
       "<style scoped>\n",
       "    .dataframe tbody tr th:only-of-type {\n",
       "        vertical-align: middle;\n",
       "    }\n",
       "\n",
       "    .dataframe tbody tr th {\n",
       "        vertical-align: top;\n",
       "    }\n",
       "\n",
       "    .dataframe thead th {\n",
       "        text-align: right;\n",
       "    }\n",
       "</style>\n",
       "<table border=\"1\" class=\"dataframe\">\n",
       "  <thead>\n",
       "    <tr style=\"text-align: right;\">\n",
       "      <th></th>\n",
       "      <th>id</th>\n",
       "      <th>FECHA_CORTE</th>\n",
       "      <th>DEPARTAME_NOMBRE</th>\n",
       "      <th>MUNICIPIO_NOMBRE</th>\n",
       "      <th>ESTADO_FORMACION</th>\n",
       "      <th>ESTADOS</th>\n",
       "      <th>ESTRATO_SOCIAL</th>\n",
       "      <th>EDAD</th>\n",
       "      <th>GENERO</th>\n",
       "      <th>RUTA</th>\n",
       "      <th>GRADO</th>\n",
       "    </tr>\n",
       "  </thead>\n",
       "  <tbody>\n",
       "    <tr>\n",
       "      <th>0</th>\n",
       "      <td>00000000-0000-0000-C200-BA92F054D3BD</td>\n",
       "      <td>2021-10-01</td>\n",
       "      <td>QUINDIO</td>\n",
       "      <td>ARMENIA</td>\n",
       "      <td>ASPIRANTE</td>\n",
       "      <td>ASPIRANTES</td>\n",
       "      <td>3</td>\n",
       "      <td>29</td>\n",
       "      <td>MASCULINO</td>\n",
       "      <td>RUTA 2</td>\n",
       "      <td>-1</td>\n",
       "    </tr>\n",
       "    <tr>\n",
       "      <th>1</th>\n",
       "      <td>00000000-0000-0000-99AA-2E3888BFFB24</td>\n",
       "      <td>2021-10-01</td>\n",
       "      <td>QUINDIO</td>\n",
       "      <td>ARMENIA</td>\n",
       "      <td>ASPIRANTE</td>\n",
       "      <td>ASPIRANTES</td>\n",
       "      <td>3</td>\n",
       "      <td>29</td>\n",
       "      <td>MASCULINO</td>\n",
       "      <td>RUTA 2</td>\n",
       "      <td>-1</td>\n",
       "    </tr>\n",
       "    <tr>\n",
       "      <th>2</th>\n",
       "      <td>00000000-0000-0000-D72E-7CF7C7526A22</td>\n",
       "      <td>2021-10-01</td>\n",
       "      <td>QUINDIO</td>\n",
       "      <td>ARMENIA</td>\n",
       "      <td>ASPIRANTE</td>\n",
       "      <td>ASPIRANTES</td>\n",
       "      <td>3</td>\n",
       "      <td>29</td>\n",
       "      <td>MASCULINO</td>\n",
       "      <td>RUTA 2</td>\n",
       "      <td>-1</td>\n",
       "    </tr>\n",
       "  </tbody>\n",
       "</table>\n",
       "</div>"
      ],
      "text/plain": [
       "                                     id FECHA_CORTE DEPARTAME_NOMBRE  \\\n",
       "0  00000000-0000-0000-C200-BA92F054D3BD  2021-10-01          QUINDIO   \n",
       "1  00000000-0000-0000-99AA-2E3888BFFB24  2021-10-01          QUINDIO   \n",
       "2  00000000-0000-0000-D72E-7CF7C7526A22  2021-10-01          QUINDIO   \n",
       "\n",
       "  MUNICIPIO_NOMBRE ESTADO_FORMACION     ESTADOS ESTRATO_SOCIAL EDAD  \\\n",
       "0          ARMENIA        ASPIRANTE  ASPIRANTES              3   29   \n",
       "1          ARMENIA        ASPIRANTE  ASPIRANTES              3   29   \n",
       "2          ARMENIA        ASPIRANTE  ASPIRANTES              3   29   \n",
       "\n",
       "      GENERO    RUTA GRADO  \n",
       "0  MASCULINO  RUTA 2    -1  \n",
       "1  MASCULINO  RUTA 2    -1  \n",
       "2  MASCULINO  RUTA 2    -1  "
      ]
     },
     "execution_count": 323,
     "metadata": {},
     "output_type": "execute_result"
    }
   ],
   "source": [
    "df_mintic_v2.head(3)"
   ]
  },
  {
   "cell_type": "markdown",
   "id": "8874c347-80b0-4e10-ae6d-b3b9b16392ff",
   "metadata": {},
   "source": [
    "Para el DF de Mintic se modificarán los tipos de datos:\n",
    "* Estrato_social: moddificación a int\n",
    "* Edad: modificación a int\n",
    "* Grado: modificación a int"
   ]
  },
  {
   "cell_type": "code",
   "execution_count": 324,
   "id": "8d648f91-df6c-4807-a050-2f701f6a76c4",
   "metadata": {},
   "outputs": [],
   "source": [
    "diccionario_de_conversion_mintic = {\n",
    "    \"ESTRATO_SOCIAL\":\"int64\",\n",
    "    \"EDAD\":\"int64\",\n",
    "    \"GRADO\":\"int64\"\n",
    "}"
   ]
  },
  {
   "cell_type": "code",
   "execution_count": 325,
   "id": "bf5c313f-20da-4cfa-96d5-bba420d187d3",
   "metadata": {},
   "outputs": [
    {
     "name": "stdout",
     "output_type": "stream",
     "text": [
      "<class 'ValueError'>\n"
     ]
    },
    {
     "data": {
      "text/plain": [
       "id                  object\n",
       "FECHA_CORTE         object\n",
       "DEPARTAME_NOMBRE    object\n",
       "MUNICIPIO_NOMBRE    object\n",
       "ESTADO_FORMACION    object\n",
       "ESTADOS             object\n",
       "ESTRATO_SOCIAL      object\n",
       "EDAD                object\n",
       "GENERO              object\n",
       "RUTA                object\n",
       "GRADO               object\n",
       "dtype: object"
      ]
     },
     "execution_count": 325,
     "metadata": {},
     "output_type": "execute_result"
    }
   ],
   "source": [
    "df_mintic_v3 = df_mintic_v2\n",
    "try:\n",
    "    df_mintic_v3 = df_mintic_v2.astype(diccionario_de_conversion_mintic)\n",
    "except ValueError as e:\n",
    "    print(type(e))\n",
    "    \n",
    "df_mintic_v3.dtypes"
   ]
  },
  {
   "cell_type": "code",
   "execution_count": 326,
   "id": "c855ecb3-866e-4eab-91f4-e82c244b791c",
   "metadata": {},
   "outputs": [
    {
     "data": {
      "text/plain": [
       "array(['3', '1', '2', '4', 'a', '5', '6'], dtype=object)"
      ]
     },
     "execution_count": 326,
     "metadata": {},
     "output_type": "execute_result"
    }
   ],
   "source": [
    "df_mintic_v3[\"ESTRATO_SOCIAL\"].unique()"
   ]
  },
  {
   "cell_type": "markdown",
   "id": "2039a63e-cf46-4cb7-9b9a-9a934e3d61a4",
   "metadata": {},
   "source": [
    "Me genera error en el estrato social al tratar de convertir a entero, ya que tiene un valor \"a\".\n",
    "Se procederá a modificar todos los valores a de esta columna al valor 0, el cuan indicará que no tiene estrato social asignado"
   ]
  },
  {
   "cell_type": "code",
   "execution_count": 327,
   "id": "5e4c15b7-f31f-44ee-9b9c-7c4b23b36775",
   "metadata": {},
   "outputs": [
    {
     "data": {
      "text/plain": [
       "array(['3', '1', '2', '4', 0, '5', '6'], dtype=object)"
      ]
     },
     "execution_count": 327,
     "metadata": {},
     "output_type": "execute_result"
    }
   ],
   "source": [
    "# Se aplica el cambio en la versión 2\n",
    "df_mintic_v2.loc[df_mintic_v2.ESTRATO_SOCIAL==\"a\",'ESTRATO_SOCIAL'] = 0\n",
    "df_mintic_v2[\"ESTRATO_SOCIAL\"].unique()"
   ]
  },
  {
   "cell_type": "code",
   "execution_count": 328,
   "id": "8fc03c9c-e610-4661-9983-8b451ab3a069",
   "metadata": {},
   "outputs": [
    {
     "data": {
      "text/plain": [
       "id                  object\n",
       "FECHA_CORTE         object\n",
       "DEPARTAME_NOMBRE    object\n",
       "MUNICIPIO_NOMBRE    object\n",
       "ESTADO_FORMACION    object\n",
       "ESTADOS             object\n",
       "ESTRATO_SOCIAL       int64\n",
       "EDAD                 int64\n",
       "GENERO              object\n",
       "RUTA                object\n",
       "GRADO                int64\n",
       "dtype: object"
      ]
     },
     "execution_count": 328,
     "metadata": {},
     "output_type": "execute_result"
    }
   ],
   "source": [
    "df_mintic_v3 = df_mintic_v2\n",
    "try:\n",
    "    df_mintic_v3 = df_mintic_v2.astype(diccionario_de_conversion_mintic)\n",
    "except ValueError as e:\n",
    "    print(type(e))\n",
    "    \n",
    "df_mintic_v3.dtypes"
   ]
  },
  {
   "cell_type": "code",
   "execution_count": 329,
   "id": "5c97b5a7-43ca-416b-a459-433e58cd563a",
   "metadata": {},
   "outputs": [
    {
     "data": {
      "text/html": [
       "<div>\n",
       "<style scoped>\n",
       "    .dataframe tbody tr th:only-of-type {\n",
       "        vertical-align: middle;\n",
       "    }\n",
       "\n",
       "    .dataframe tbody tr th {\n",
       "        vertical-align: top;\n",
       "    }\n",
       "\n",
       "    .dataframe thead th {\n",
       "        text-align: right;\n",
       "    }\n",
       "</style>\n",
       "<table border=\"1\" class=\"dataframe\">\n",
       "  <thead>\n",
       "    <tr style=\"text-align: right;\">\n",
       "      <th></th>\n",
       "      <th>id</th>\n",
       "      <th>FECHA_CORTE</th>\n",
       "      <th>DEPARTAME_NOMBRE</th>\n",
       "      <th>MUNICIPIO_NOMBRE</th>\n",
       "      <th>ESTADO_FORMACION</th>\n",
       "      <th>ESTADOS</th>\n",
       "      <th>ESTRATO_SOCIAL</th>\n",
       "      <th>EDAD</th>\n",
       "      <th>GENERO</th>\n",
       "      <th>RUTA</th>\n",
       "      <th>GRADO</th>\n",
       "    </tr>\n",
       "  </thead>\n",
       "  <tbody>\n",
       "    <tr>\n",
       "      <th>0</th>\n",
       "      <td>00000000-0000-0000-C200-BA92F054D3BD</td>\n",
       "      <td>2021-10-01</td>\n",
       "      <td>QUINDIO</td>\n",
       "      <td>ARMENIA</td>\n",
       "      <td>ASPIRANTE</td>\n",
       "      <td>ASPIRANTES</td>\n",
       "      <td>3</td>\n",
       "      <td>29</td>\n",
       "      <td>MASCULINO</td>\n",
       "      <td>RUTA 2</td>\n",
       "      <td>-1</td>\n",
       "    </tr>\n",
       "    <tr>\n",
       "      <th>1</th>\n",
       "      <td>00000000-0000-0000-99AA-2E3888BFFB24</td>\n",
       "      <td>2021-10-01</td>\n",
       "      <td>QUINDIO</td>\n",
       "      <td>ARMENIA</td>\n",
       "      <td>ASPIRANTE</td>\n",
       "      <td>ASPIRANTES</td>\n",
       "      <td>3</td>\n",
       "      <td>29</td>\n",
       "      <td>MASCULINO</td>\n",
       "      <td>RUTA 2</td>\n",
       "      <td>-1</td>\n",
       "    </tr>\n",
       "    <tr>\n",
       "      <th>2</th>\n",
       "      <td>00000000-0000-0000-D72E-7CF7C7526A22</td>\n",
       "      <td>2021-10-01</td>\n",
       "      <td>QUINDIO</td>\n",
       "      <td>ARMENIA</td>\n",
       "      <td>ASPIRANTE</td>\n",
       "      <td>ASPIRANTES</td>\n",
       "      <td>3</td>\n",
       "      <td>29</td>\n",
       "      <td>MASCULINO</td>\n",
       "      <td>RUTA 2</td>\n",
       "      <td>-1</td>\n",
       "    </tr>\n",
       "  </tbody>\n",
       "</table>\n",
       "</div>"
      ],
      "text/plain": [
       "                                     id FECHA_CORTE DEPARTAME_NOMBRE  \\\n",
       "0  00000000-0000-0000-C200-BA92F054D3BD  2021-10-01          QUINDIO   \n",
       "1  00000000-0000-0000-99AA-2E3888BFFB24  2021-10-01          QUINDIO   \n",
       "2  00000000-0000-0000-D72E-7CF7C7526A22  2021-10-01          QUINDIO   \n",
       "\n",
       "  MUNICIPIO_NOMBRE ESTADO_FORMACION     ESTADOS  ESTRATO_SOCIAL  EDAD  \\\n",
       "0          ARMENIA        ASPIRANTE  ASPIRANTES               3    29   \n",
       "1          ARMENIA        ASPIRANTE  ASPIRANTES               3    29   \n",
       "2          ARMENIA        ASPIRANTE  ASPIRANTES               3    29   \n",
       "\n",
       "      GENERO    RUTA  GRADO  \n",
       "0  MASCULINO  RUTA 2     -1  \n",
       "1  MASCULINO  RUTA 2     -1  \n",
       "2  MASCULINO  RUTA 2     -1  "
      ]
     },
     "execution_count": 329,
     "metadata": {},
     "output_type": "execute_result"
    }
   ],
   "source": [
    "df_mintic_v3.head(3)"
   ]
  },
  {
   "cell_type": "markdown",
   "id": "19720866-22b0-4ae9-bf6e-f7797523e8be",
   "metadata": {},
   "source": [
    "#### DF Saber 11"
   ]
  },
  {
   "cell_type": "code",
   "execution_count": 256,
   "id": "5707e46c-300b-45f2-a152-4cf399cc5220",
   "metadata": {
    "scrolled": true,
    "tags": []
   },
   "outputs": [
    {
     "data": {
      "text/plain": [
       "id                               object\n",
       "ESTU_NACIONALIDAD                object\n",
       "ESTU_GENERO                      object\n",
       "ESTU_FECHANACIMIENTO             object\n",
       "ESTU_CONSECUTIVO                 object\n",
       "ESTU_PAIS_RESIDE                 object\n",
       "ESTU_DEPTO_RESIDE                object\n",
       "ESTU_COD_RESIDE_DEPTO            object\n",
       "ESTU_MCPIO_RESIDE                object\n",
       "ESTU_COD_RESIDE_MCPIO            object\n",
       "FAMI_ESTRATOVIVIENDA             object\n",
       "FAMI_TIENEINTERNET               object\n",
       "FAMI_TIENECOMPUTADOR             object\n",
       "FAMI_SITUACIONECONOMICA          object\n",
       "ESTU_DEDICACIONINTERNET          object\n",
       "PUNT_LECTURA_CRITICA             object\n",
       "PERCENTIL_LECTURA_CRITICA        object\n",
       "DESEMP_LECTURA_CRITICA           object\n",
       "PUNT_MATEMATICAS                 object\n",
       "PERCENTIL_MATEMATICAS            object\n",
       "DESEMP_MATEMATICAS               object\n",
       "PUNT_C_NATURALES                 object\n",
       "PERCENTIL_C_NATURALES            object\n",
       "DESEMP_C_NATURALES               object\n",
       "PUNT_SOCIALES_CIUDADANAS         object\n",
       "PERCENTIL_SOCIALES_CIUDADANAS    object\n",
       "DESEMP_SOCIALES_CIUDADANAS       object\n",
       "PUNT_INGLES                      object\n",
       "PERCENTIL_INGLES                 object\n",
       "DESEMP_INGLES                    object\n",
       "PUNT_GLOBAL                      object\n",
       "PERCENTIL_GLOBAL                 object\n",
       "dtype: object"
      ]
     },
     "execution_count": 256,
     "metadata": {},
     "output_type": "execute_result"
    }
   ],
   "source": [
    "df_saber_union_v1.dtypes"
   ]
  },
  {
   "cell_type": "code",
   "execution_count": 257,
   "id": "936957ae-9945-49ef-931b-675499fdb6a8",
   "metadata": {},
   "outputs": [
    {
     "data": {
      "text/html": [
       "<div>\n",
       "<style scoped>\n",
       "    .dataframe tbody tr th:only-of-type {\n",
       "        vertical-align: middle;\n",
       "    }\n",
       "\n",
       "    .dataframe tbody tr th {\n",
       "        vertical-align: top;\n",
       "    }\n",
       "\n",
       "    .dataframe thead th {\n",
       "        text-align: right;\n",
       "    }\n",
       "</style>\n",
       "<table border=\"1\" class=\"dataframe\">\n",
       "  <thead>\n",
       "    <tr style=\"text-align: right;\">\n",
       "      <th></th>\n",
       "      <th>id</th>\n",
       "      <th>ESTU_NACIONALIDAD</th>\n",
       "      <th>ESTU_GENERO</th>\n",
       "      <th>ESTU_FECHANACIMIENTO</th>\n",
       "      <th>ESTU_CONSECUTIVO</th>\n",
       "      <th>ESTU_PAIS_RESIDE</th>\n",
       "      <th>ESTU_DEPTO_RESIDE</th>\n",
       "      <th>ESTU_COD_RESIDE_DEPTO</th>\n",
       "      <th>ESTU_MCPIO_RESIDE</th>\n",
       "      <th>ESTU_COD_RESIDE_MCPIO</th>\n",
       "      <th>...</th>\n",
       "      <th>PERCENTIL_C_NATURALES</th>\n",
       "      <th>DESEMP_C_NATURALES</th>\n",
       "      <th>PUNT_SOCIALES_CIUDADANAS</th>\n",
       "      <th>PERCENTIL_SOCIALES_CIUDADANAS</th>\n",
       "      <th>DESEMP_SOCIALES_CIUDADANAS</th>\n",
       "      <th>PUNT_INGLES</th>\n",
       "      <th>PERCENTIL_INGLES</th>\n",
       "      <th>DESEMP_INGLES</th>\n",
       "      <th>PUNT_GLOBAL</th>\n",
       "      <th>PERCENTIL_GLOBAL</th>\n",
       "    </tr>\n",
       "  </thead>\n",
       "  <tbody>\n",
       "    <tr>\n",
       "      <th>0</th>\n",
       "      <td>00000000-0000-0000-B30A-5F2FE234EE93</td>\n",
       "      <td>COLOMBIA</td>\n",
       "      <td>F</td>\n",
       "      <td>1985-01-01T00:00:00</td>\n",
       "      <td>SB11202010045555</td>\n",
       "      <td>COLOMBIA</td>\n",
       "      <td>CESAR</td>\n",
       "      <td>20</td>\n",
       "      <td>SAN DIEGO</td>\n",
       "      <td>20750</td>\n",
       "      <td>...</td>\n",
       "      <td>6</td>\n",
       "      <td>1</td>\n",
       "      <td>24</td>\n",
       "      <td>1</td>\n",
       "      <td>1</td>\n",
       "      <td>36</td>\n",
       "      <td>7</td>\n",
       "      <td>A-</td>\n",
       "      <td>164</td>\n",
       "      <td>2</td>\n",
       "    </tr>\n",
       "    <tr>\n",
       "      <th>1</th>\n",
       "      <td>00000000-0000-0000-F3E5-3E18272D8C28</td>\n",
       "      <td>COLOMBIA</td>\n",
       "      <td>F</td>\n",
       "      <td>1995-01-01T00:00:00</td>\n",
       "      <td>SB11202010045719</td>\n",
       "      <td>COLOMBIA</td>\n",
       "      <td>NARIÑO</td>\n",
       "      <td>52</td>\n",
       "      <td>IPIALES</td>\n",
       "      <td>52356</td>\n",
       "      <td>...</td>\n",
       "      <td>10</td>\n",
       "      <td>1</td>\n",
       "      <td>44</td>\n",
       "      <td>23</td>\n",
       "      <td>2</td>\n",
       "      <td>30</td>\n",
       "      <td>3</td>\n",
       "      <td>A-</td>\n",
       "      <td>202</td>\n",
       "      <td>10</td>\n",
       "    </tr>\n",
       "    <tr>\n",
       "      <th>2</th>\n",
       "      <td>00000000-0000-0000-2E67-572B8AFB010B</td>\n",
       "      <td>COLOMBIA</td>\n",
       "      <td>F</td>\n",
       "      <td>1997-01-01T00:00:00</td>\n",
       "      <td>SB11202010070662</td>\n",
       "      <td>COLOMBIA</td>\n",
       "      <td>CAUCA</td>\n",
       "      <td>19</td>\n",
       "      <td>TOTORÓ</td>\n",
       "      <td>19824</td>\n",
       "      <td>...</td>\n",
       "      <td>4</td>\n",
       "      <td>1</td>\n",
       "      <td>24</td>\n",
       "      <td>1</td>\n",
       "      <td>1</td>\n",
       "      <td>30</td>\n",
       "      <td>3</td>\n",
       "      <td>A-</td>\n",
       "      <td>162</td>\n",
       "      <td>2</td>\n",
       "    </tr>\n",
       "  </tbody>\n",
       "</table>\n",
       "<p>3 rows × 32 columns</p>\n",
       "</div>"
      ],
      "text/plain": [
       "                                     id ESTU_NACIONALIDAD ESTU_GENERO  \\\n",
       "0  00000000-0000-0000-B30A-5F2FE234EE93          COLOMBIA           F   \n",
       "1  00000000-0000-0000-F3E5-3E18272D8C28          COLOMBIA           F   \n",
       "2  00000000-0000-0000-2E67-572B8AFB010B          COLOMBIA           F   \n",
       "\n",
       "  ESTU_FECHANACIMIENTO  ESTU_CONSECUTIVO ESTU_PAIS_RESIDE ESTU_DEPTO_RESIDE  \\\n",
       "0  1985-01-01T00:00:00  SB11202010045555         COLOMBIA             CESAR   \n",
       "1  1995-01-01T00:00:00  SB11202010045719         COLOMBIA            NARIÑO   \n",
       "2  1997-01-01T00:00:00  SB11202010070662         COLOMBIA             CAUCA   \n",
       "\n",
       "  ESTU_COD_RESIDE_DEPTO ESTU_MCPIO_RESIDE ESTU_COD_RESIDE_MCPIO  ...  \\\n",
       "0                    20         SAN DIEGO                 20750  ...   \n",
       "1                    52           IPIALES                 52356  ...   \n",
       "2                    19            TOTORÓ                 19824  ...   \n",
       "\n",
       "  PERCENTIL_C_NATURALES DESEMP_C_NATURALES PUNT_SOCIALES_CIUDADANAS  \\\n",
       "0                     6                  1                       24   \n",
       "1                    10                  1                       44   \n",
       "2                     4                  1                       24   \n",
       "\n",
       "  PERCENTIL_SOCIALES_CIUDADANAS DESEMP_SOCIALES_CIUDADANAS PUNT_INGLES  \\\n",
       "0                             1                          1          36   \n",
       "1                            23                          2          30   \n",
       "2                             1                          1          30   \n",
       "\n",
       "  PERCENTIL_INGLES DESEMP_INGLES PUNT_GLOBAL PERCENTIL_GLOBAL  \n",
       "0                7            A-         164                2  \n",
       "1                3            A-         202               10  \n",
       "2                3            A-         162                2  \n",
       "\n",
       "[3 rows x 32 columns]"
      ]
     },
     "execution_count": 257,
     "metadata": {},
     "output_type": "execute_result"
    }
   ],
   "source": [
    "df_saber_union_v1.head(3)"
   ]
  },
  {
   "cell_type": "markdown",
   "id": "5086763a-531f-4489-b848-a0ec59597cb5",
   "metadata": {},
   "source": [
    "### Se revisan las columnas de Saber 11 según conveniencia y compativilidad con Mintic\n",
    "\n",
    "La columna \"FAMI_ESTRATOVIVIENDA\" se transforma a numerica según el texto, para tener relación con la tabla Mintic: El estrato 'None' y 'Sin Estrato', serán transformados en 0"
   ]
  },
  {
   "cell_type": "code",
   "execution_count": 258,
   "id": "2d7c9228-83a3-4a99-a21f-f76ab68b597e",
   "metadata": {},
   "outputs": [
    {
     "data": {
      "text/plain": [
       "array(['Estrato 1', None, 'Estrato 6', 'Estrato 5', 'Estrato 2',\n",
       "       'Estrato 4', 'Estrato 3', 'Sin Estrato'], dtype=object)"
      ]
     },
     "execution_count": 258,
     "metadata": {},
     "output_type": "execute_result"
    }
   ],
   "source": [
    "df_saber_union_v1[\"FAMI_ESTRATOVIVIENDA\"].unique()"
   ]
  },
  {
   "cell_type": "code",
   "execution_count": 330,
   "id": "c476cfdd-a39f-45f4-8d0a-b71beece5535",
   "metadata": {},
   "outputs": [
    {
     "data": {
      "text/plain": [
       "array([3, 1, 2, 4, 0, 5, 6], dtype=int64)"
      ]
     },
     "execution_count": 330,
     "metadata": {},
     "output_type": "execute_result"
    }
   ],
   "source": [
    "#Revisando data de Mintic\n",
    "df_mintic_v3[\"ESTRATO_SOCIAL\"].unique()"
   ]
  },
  {
   "cell_type": "code",
   "execution_count": 260,
   "id": "a8650024-35bd-4cd9-9dfe-5bc596c0467f",
   "metadata": {},
   "outputs": [],
   "source": [
    "conver_estrato = {\n",
    "    'Estrato 1': 1,\n",
    "    'Estrato 2': 2,\n",
    "    'Estrato 3': 3,\n",
    "    'Estrato 4': 4,\n",
    "    'Estrato 5': 5,\n",
    "    'Estrato 6': 6,\n",
    "    'Sin Estrato': 0,\n",
    "    None: 0,\n",
    "}"
   ]
  },
  {
   "cell_type": "code",
   "execution_count": 261,
   "id": "424d0fb1-fdd0-4499-ab47-1b0f2b074863",
   "metadata": {},
   "outputs": [
    {
     "data": {
      "text/plain": [
       "array([1, 0, 6, 5, 2, 4, 3], dtype=int64)"
      ]
     },
     "execution_count": 261,
     "metadata": {},
     "output_type": "execute_result"
    }
   ],
   "source": [
    "df_saber_union_v1[\"FAMI_ESTRATOVIVIENDA\"] = df_saber_union_v1[\"FAMI_ESTRATOVIVIENDA\"].map(conver_estrato)\n",
    "df_saber_union_v1[\"FAMI_ESTRATOVIVIENDA\"].unique()"
   ]
  },
  {
   "cell_type": "markdown",
   "id": "a70ec97d-6de5-4924-82f1-51f71524fca0",
   "metadata": {},
   "source": [
    "Tansformamos la fecha de nacimiento 'ESTU_FECHANACIMIENTO' a la edad debido a que la data de Mintic se encuentra como edad y lo dejaremos como entero"
   ]
  },
  {
   "cell_type": "code",
   "execution_count": 262,
   "id": "549cf1a5-ea19-44d2-8f16-450d7fe6eee6",
   "metadata": {},
   "outputs": [],
   "source": [
    "from datetime import datetime\n",
    "from dateutil.relativedelta import relativedelta\n",
    "import numpy as np"
   ]
  },
  {
   "cell_type": "code",
   "execution_count": 263,
   "id": "6e2d8fac-5ae6-42f0-9703-18592e4f47b7",
   "metadata": {},
   "outputs": [
    {
     "data": {
      "text/plain": [
       "datetime.datetime"
      ]
     },
     "execution_count": 263,
     "metadata": {},
     "output_type": "execute_result"
    }
   ],
   "source": [
    "type(datetime.fromisoformat(df_saber_union_v1[\"ESTU_FECHANACIMIENTO\"][0]))"
   ]
  },
  {
   "cell_type": "code",
   "execution_count": 264,
   "id": "9ecc61a6-5375-4536-b71b-8bae08a91a41",
   "metadata": {},
   "outputs": [],
   "source": [
    "fecha_2020 = datetime.fromisoformat('2020-01-01') # tipo datetime.datetime"
   ]
  },
  {
   "cell_type": "code",
   "execution_count": 265,
   "id": "12db6808-d1d2-4743-bced-10bbbc0264b6",
   "metadata": {},
   "outputs": [
    {
     "data": {
      "text/plain": [
       "0    1985-01-01 00:00:00\n",
       "1    1995-01-01 00:00:00\n",
       "dtype: object"
      ]
     },
     "execution_count": 265,
     "metadata": {},
     "output_type": "execute_result"
    }
   ],
   "source": [
    "# Serie Datetime\n",
    "ser_nac = pd.Series( datetime.fromisoformat(i) for i in df_saber_union_v1[\"ESTU_FECHANACIMIENTO\"] )\n",
    "ser_nac.head(2)"
   ]
  },
  {
   "cell_type": "markdown",
   "id": "10396194-f81e-4abf-8ae0-0b6fd695db88",
   "metadata": {},
   "source": [
    "Restar fecha 2020 a la fecha de nacimiento para conocer la edad"
   ]
  },
  {
   "cell_type": "code",
   "execution_count": 266,
   "id": "977c27be-bba2-4b7e-9e7d-7d1c00377927",
   "metadata": {},
   "outputs": [
    {
     "data": {
      "text/plain": [
       "0         35\n",
       "1         25\n",
       "2         23\n",
       "3         19\n",
       "4         18\n",
       "          ..\n",
       "520302    16\n",
       "520303    23\n",
       "520304    14\n",
       "520305    17\n",
       "520306    17\n",
       "Length: 520307, dtype: int64"
      ]
     },
     "execution_count": 266,
     "metadata": {},
     "output_type": "execute_result"
    }
   ],
   "source": [
    "edades = pd.Series( relativedelta(fecha_2020, ser_nac[m]).years for m in range( len(ser_nac) ) )\n",
    "edades"
   ]
  },
  {
   "cell_type": "code",
   "execution_count": 267,
   "id": "2084b646-1ba3-4e25-8de7-7be58eb98c19",
   "metadata": {},
   "outputs": [
    {
     "data": {
      "text/plain": [
       "0    35\n",
       "1    25\n",
       "2    23\n",
       "Name: ESTU_FECHANACIMIENTO, dtype: int64"
      ]
     },
     "execution_count": 267,
     "metadata": {},
     "output_type": "execute_result"
    }
   ],
   "source": [
    "df_saber_union_v1[\"ESTU_FECHANACIMIENTO\"] = edades\n",
    "df_saber_union_v1[\"ESTU_FECHANACIMIENTO\"].head(3)"
   ]
  },
  {
   "cell_type": "markdown",
   "id": "a89cd8f0-5880-4933-8d23-9f425bd2a92a",
   "metadata": {},
   "source": [
    "### Se convertiran todas las columnas que contienen 'Si' y 'No' del dataframe Saber11\n",
    "\n",
    "* FAMI_TIENEINTERNET\n",
    "* FAMI_TIENECOMPUTADOR\n",
    "\n",
    "### Se convertiran todas las columnas numericas a enteros en datafreme Seber 11\n",
    "* PUNT_LECTURA_CRITICA\n",
    "* PERCENTIL_LECTURA_CRITICA        \n",
    "* DESEMP_LECTURA_CRITICA           \n",
    "* PUNT_MATEMATICAS                 \n",
    "* PERCENTIL_MATEMATICAS            \n",
    "* DESEMP_MATEMATICAS               \n",
    "* PUNT_C_NATURALES                 \n",
    "* PERCENTIL_C_NATURALES            \n",
    "* DESEMP_C_NATURALES               \n",
    "* PUNT_SOCIALES_CIUDADANAS         \n",
    "* PERCENTIL_SOCIALES_CIUDADANAS    \n",
    "* DESEMP_SOCIALES_CIUDADANAS       \n",
    "* PUNT_INGLES                      \n",
    "* PERCENTIL_INGLES                 \n",
    "* PUNT_GLOBAL                      \n",
    "* PERCENTIL_GLOBAL                 "
   ]
  },
  {
   "cell_type": "code",
   "execution_count": 268,
   "id": "a0061b43-624e-4b46-9b26-b58255b822f7",
   "metadata": {},
   "outputs": [
    {
     "data": {
      "text/plain": [
       "{'No': 0, 'Si': 1, None: None}"
      ]
     },
     "execution_count": 268,
     "metadata": {},
     "output_type": "execute_result"
    }
   ],
   "source": [
    "conver_sn = {'No': 0, 'Si': 1, None: None}\n",
    "conver_sn"
   ]
  },
  {
   "cell_type": "code",
   "execution_count": 269,
   "id": "ddee7393-14df-441e-9f45-691f41edeb73",
   "metadata": {},
   "outputs": [
    {
     "data": {
      "text/plain": [
       "array([ 0., nan,  1.])"
      ]
     },
     "execution_count": 269,
     "metadata": {},
     "output_type": "execute_result"
    }
   ],
   "source": [
    "df_saber_union_v1[\"FAMI_TIENEINTERNET\"] = df_saber_union_v1[\"FAMI_TIENEINTERNET\"].map(conver_sn)\n",
    "df_saber_union_v1[\"FAMI_TIENEINTERNET\"].unique()"
   ]
  },
  {
   "cell_type": "code",
   "execution_count": 270,
   "id": "e7ead8c4-a044-4d33-a9fb-5c20abce529f",
   "metadata": {},
   "outputs": [
    {
     "data": {
      "text/plain": [
       "<IntegerArray>\n",
       "[0, <NA>, 1]\n",
       "Length: 3, dtype: Int64"
      ]
     },
     "execution_count": 270,
     "metadata": {},
     "output_type": "execute_result"
    }
   ],
   "source": [
    "df_saber_union_v1[\"FAMI_TIENEINTERNET\"] = df_saber_union_v1[\"FAMI_TIENEINTERNET\"].astype('Int64')\n",
    "df_saber_union_v1[\"FAMI_TIENEINTERNET\"].unique()"
   ]
  },
  {
   "cell_type": "code",
   "execution_count": 271,
   "id": "6bd412f2-4073-46af-90ae-0761d0b79aeb",
   "metadata": {},
   "outputs": [
    {
     "data": {
      "text/plain": [
       "array([ 0., nan,  1.])"
      ]
     },
     "execution_count": 271,
     "metadata": {},
     "output_type": "execute_result"
    }
   ],
   "source": [
    "df_saber_union_v1[\"FAMI_TIENECOMPUTADOR\"] = df_saber_union_v1[\"FAMI_TIENECOMPUTADOR\"].map(conver_sn)\n",
    "df_saber_union_v1[\"FAMI_TIENECOMPUTADOR\"].unique()"
   ]
  },
  {
   "cell_type": "code",
   "execution_count": 272,
   "id": "07f01a28-ff4a-40e5-9cb7-1f594188c242",
   "metadata": {},
   "outputs": [
    {
     "data": {
      "text/plain": [
       "<IntegerArray>\n",
       "[0, <NA>, 1]\n",
       "Length: 3, dtype: Int64"
      ]
     },
     "execution_count": 272,
     "metadata": {},
     "output_type": "execute_result"
    }
   ],
   "source": [
    "df_saber_union_v1[\"FAMI_TIENECOMPUTADOR\"] = df_saber_union_v1[\"FAMI_TIENECOMPUTADOR\"].astype('Int64')\n",
    "df_saber_union_v1[\"FAMI_TIENECOMPUTADOR\"].unique()"
   ]
  },
  {
   "cell_type": "markdown",
   "id": "90bc8525-81ff-41a4-8ef3-3eb4571244c7",
   "metadata": {},
   "source": [
    "#### Convertir a enteros las calificaciones y puntajes"
   ]
  },
  {
   "cell_type": "code",
   "execution_count": 273,
   "id": "e1202cb4-d219-47da-a5c3-efe9c3844228",
   "metadata": {},
   "outputs": [],
   "source": [
    "df_saber_union_v1['PUNT_LECTURA_CRITICA'] = df_saber_union_v1['PUNT_LECTURA_CRITICA'].astype(int)\n",
    "df_saber_union_v1['PERCENTIL_LECTURA_CRITICA'] = df_saber_union_v1['PERCENTIL_LECTURA_CRITICA'].astype(int)\n",
    "df_saber_union_v1['DESEMP_LECTURA_CRITICA'] = df_saber_union_v1['DESEMP_LECTURA_CRITICA'].astype(int)\n",
    "df_saber_union_v1['PUNT_MATEMATICAS'] = df_saber_union_v1['PUNT_MATEMATICAS'].astype(int)\n",
    "df_saber_union_v1['PERCENTIL_MATEMATICAS'] = df_saber_union_v1['PERCENTIL_MATEMATICAS'].astype(int)\n",
    "df_saber_union_v1['DESEMP_MATEMATICAS'] = df_saber_union_v1['DESEMP_MATEMATICAS'].astype(int)\n",
    "df_saber_union_v1['PUNT_C_NATURALES'] = df_saber_union_v1['PUNT_C_NATURALES'].astype(int)\n",
    "df_saber_union_v1['PERCENTIL_C_NATURALES'] = df_saber_union_v1['PERCENTIL_C_NATURALES'].astype(int)\n",
    "df_saber_union_v1['DESEMP_C_NATURALES'] = df_saber_union_v1['DESEMP_C_NATURALES'].astype(int)\n",
    "df_saber_union_v1['PUNT_SOCIALES_CIUDADANAS'] = df_saber_union_v1['PUNT_SOCIALES_CIUDADANAS'].astype(int)\n",
    "df_saber_union_v1['PERCENTIL_SOCIALES_CIUDADANAS'] = df_saber_union_v1['PERCENTIL_SOCIALES_CIUDADANAS'].astype(int)\n",
    "df_saber_union_v1['DESEMP_SOCIALES_CIUDADANAS'] = df_saber_union_v1['DESEMP_SOCIALES_CIUDADANAS'].astype(int)\n",
    "df_saber_union_v1['PERCENTIL_INGLES'] = df_saber_union_v1['PERCENTIL_INGLES'].astype(int)\n",
    "df_saber_union_v1['PUNT_GLOBAL'] = df_saber_union_v1['PUNT_GLOBAL'].astype(int)"
   ]
  },
  {
   "cell_type": "code",
   "execution_count": 274,
   "id": "6b02ba4e-3715-48f2-a92a-937eac584619",
   "metadata": {
    "scrolled": true,
    "tags": []
   },
   "outputs": [
    {
     "data": {
      "text/plain": [
       "id                               object\n",
       "ESTU_NACIONALIDAD                object\n",
       "ESTU_GENERO                      object\n",
       "ESTU_FECHANACIMIENTO              int64\n",
       "ESTU_CONSECUTIVO                 object\n",
       "ESTU_PAIS_RESIDE                 object\n",
       "ESTU_DEPTO_RESIDE                object\n",
       "ESTU_COD_RESIDE_DEPTO            object\n",
       "ESTU_MCPIO_RESIDE                object\n",
       "ESTU_COD_RESIDE_MCPIO            object\n",
       "FAMI_ESTRATOVIVIENDA              int64\n",
       "FAMI_TIENEINTERNET                Int64\n",
       "FAMI_TIENECOMPUTADOR              Int64\n",
       "FAMI_SITUACIONECONOMICA          object\n",
       "ESTU_DEDICACIONINTERNET          object\n",
       "PUNT_LECTURA_CRITICA              int32\n",
       "PERCENTIL_LECTURA_CRITICA         int32\n",
       "DESEMP_LECTURA_CRITICA            int32\n",
       "PUNT_MATEMATICAS                  int32\n",
       "PERCENTIL_MATEMATICAS             int32\n",
       "DESEMP_MATEMATICAS                int32\n",
       "PUNT_C_NATURALES                  int32\n",
       "PERCENTIL_C_NATURALES             int32\n",
       "DESEMP_C_NATURALES                int32\n",
       "PUNT_SOCIALES_CIUDADANAS          int32\n",
       "PERCENTIL_SOCIALES_CIUDADANAS     int32\n",
       "DESEMP_SOCIALES_CIUDADANAS        int32\n",
       "PUNT_INGLES                      object\n",
       "PERCENTIL_INGLES                  int32\n",
       "DESEMP_INGLES                    object\n",
       "PUNT_GLOBAL                       int32\n",
       "PERCENTIL_GLOBAL                 object\n",
       "dtype: object"
      ]
     },
     "execution_count": 274,
     "metadata": {},
     "output_type": "execute_result"
    }
   ],
   "source": [
    "df_saber_union_v1.dtypes"
   ]
  },
  {
   "cell_type": "code",
   "execution_count": 275,
   "id": "d47c00f6-e03d-4ef7-9428-116271d490df",
   "metadata": {},
   "outputs": [
    {
     "data": {
      "text/plain": [
       "0    36\n",
       "1    30\n",
       "2    30\n",
       "dtype: Int64"
      ]
     },
     "execution_count": 275,
     "metadata": {},
     "output_type": "execute_result"
    }
   ],
   "source": [
    "lista_ing = [int(i) if type(i) == str else np.nan for i in df_saber_union_v1[\"PUNT_INGLES\"]]\n",
    "ser_int_ing = pd.Series(lista_ing).astype('Int64')\n",
    "#df_saber_union_v1[\"PUNT_INGLES\"] df_saber_union_v1[\"PUNT_INGLES\"].head()\n",
    "ser_int_ing.head(3)"
   ]
  },
  {
   "cell_type": "code",
   "execution_count": 276,
   "id": "3eece200-f9f6-4b88-a8c8-287d76b428e8",
   "metadata": {},
   "outputs": [
    {
     "data": {
      "text/plain": [
       "0    36\n",
       "1    30\n",
       "2    30\n",
       "3    37\n",
       "4    80\n",
       "Name: PUNT_INGLES, dtype: Int64"
      ]
     },
     "execution_count": 276,
     "metadata": {},
     "output_type": "execute_result"
    }
   ],
   "source": [
    "df_saber_union_v1[\"PUNT_INGLES\"] = ser_int_ing\n",
    "df_saber_union_v1[\"PUNT_INGLES\"].head()"
   ]
  },
  {
   "cell_type": "code",
   "execution_count": 277,
   "id": "f5e3daeb-eba8-4dee-899f-14a533d1d498",
   "metadata": {},
   "outputs": [
    {
     "data": {
      "text/plain": [
       "0     2\n",
       "1    10\n",
       "2     2\n",
       "dtype: Int64"
      ]
     },
     "execution_count": 277,
     "metadata": {},
     "output_type": "execute_result"
    }
   ],
   "source": [
    "lista_per_global = [int(i) if type(i) == str else np.nan for i in df_saber_union_v1[\"PERCENTIL_GLOBAL\"]]\n",
    "ser_int_glob = pd.Series(lista_per_global).astype('Int64')\n",
    "ser_int_glob.head(3)"
   ]
  },
  {
   "cell_type": "code",
   "execution_count": 278,
   "id": "dd007409-afde-49cc-a742-d688e560fb56",
   "metadata": {},
   "outputs": [
    {
     "data": {
      "text/plain": [
       "0     2\n",
       "1    10\n",
       "2     2\n",
       "3     6\n",
       "4    39\n",
       "Name: PERCENTIL_GLOBAL, dtype: Int64"
      ]
     },
     "execution_count": 278,
     "metadata": {},
     "output_type": "execute_result"
    }
   ],
   "source": [
    "df_saber_union_v1[\"PERCENTIL_GLOBAL\"] = ser_int_glob\n",
    "df_saber_union_v1[\"PERCENTIL_GLOBAL\"].head()"
   ]
  },
  {
   "cell_type": "code",
   "execution_count": 279,
   "id": "19245eff-881c-42dd-94ef-e4a9f8a6c785",
   "metadata": {
    "scrolled": true,
    "tags": []
   },
   "outputs": [
    {
     "data": {
      "text/plain": [
       "id                               object\n",
       "ESTU_NACIONALIDAD                object\n",
       "ESTU_GENERO                      object\n",
       "ESTU_FECHANACIMIENTO              int64\n",
       "ESTU_CONSECUTIVO                 object\n",
       "ESTU_PAIS_RESIDE                 object\n",
       "ESTU_DEPTO_RESIDE                object\n",
       "ESTU_COD_RESIDE_DEPTO            object\n",
       "ESTU_MCPIO_RESIDE                object\n",
       "ESTU_COD_RESIDE_MCPIO            object\n",
       "FAMI_ESTRATOVIVIENDA              int64\n",
       "FAMI_TIENEINTERNET                Int64\n",
       "FAMI_TIENECOMPUTADOR              Int64\n",
       "FAMI_SITUACIONECONOMICA          object\n",
       "ESTU_DEDICACIONINTERNET          object\n",
       "PUNT_LECTURA_CRITICA              int32\n",
       "PERCENTIL_LECTURA_CRITICA         int32\n",
       "DESEMP_LECTURA_CRITICA            int32\n",
       "PUNT_MATEMATICAS                  int32\n",
       "PERCENTIL_MATEMATICAS             int32\n",
       "DESEMP_MATEMATICAS                int32\n",
       "PUNT_C_NATURALES                  int32\n",
       "PERCENTIL_C_NATURALES             int32\n",
       "DESEMP_C_NATURALES                int32\n",
       "PUNT_SOCIALES_CIUDADANAS          int32\n",
       "PERCENTIL_SOCIALES_CIUDADANAS     int32\n",
       "DESEMP_SOCIALES_CIUDADANAS        int32\n",
       "PUNT_INGLES                       Int64\n",
       "PERCENTIL_INGLES                  int32\n",
       "DESEMP_INGLES                    object\n",
       "PUNT_GLOBAL                       int32\n",
       "PERCENTIL_GLOBAL                  Int64\n",
       "dtype: object"
      ]
     },
     "execution_count": 279,
     "metadata": {},
     "output_type": "execute_result"
    }
   ],
   "source": [
    "df_saber_union_v1.dtypes"
   ]
  },
  {
   "cell_type": "code",
   "execution_count": 280,
   "id": "da0a6eeb-47f1-46be-a154-889115ecc519",
   "metadata": {},
   "outputs": [
    {
     "data": {
      "text/plain": [
       "array([  35,   25,   23,   19,   18,   37,   30,   20,   17, 2018,   22,\n",
       "         21,   39,   26,   24,   36,   43,   27,   50,   33,   32,   45,\n",
       "         42,   31,   28,   34,   48,   29,   57,   51,   47,   40,   38,\n",
       "         14,   52, 1932,   15,   44,   60,   41,   16,   49,   55,   61,\n",
       "         53, 2017,   54,   46,   58,   10,   56,    9,  120,   64, 1923,\n",
       "       1934,    0, 1939, 2016, 1921, 1920, 2008, 2019, 2015,    1, 2014,\n",
       "          8,    3,   12,   11, 2013, 2010,    6,   13,   66,    7,   68,\n",
       "         74,   62,   67,   59,   65,  824,   63,    5,   73,    4,   75,\n",
       "         78,   79,   71,   69,   80,   70,   72], dtype=int64)"
      ]
     },
     "execution_count": 280,
     "metadata": {},
     "output_type": "execute_result"
    }
   ],
   "source": [
    "df_saber_union_v1['ESTU_FECHANACIMIENTO'].unique()"
   ]
  },
  {
   "cell_type": "markdown",
   "id": "5e66cd43-837c-4aec-b397-119882503c0d",
   "metadata": {},
   "source": [
    "Función para convertir edades no lógicas a vacíos"
   ]
  },
  {
   "cell_type": "code",
   "execution_count": 286,
   "id": "12bfc2e0-829f-4810-9b08-24499e22d3f6",
   "metadata": {},
   "outputs": [],
   "source": [
    "def conv_edad(edad):\n",
    "    if edad > 99 or edad <= 9:\n",
    "        return np.nan\n",
    "    else:\n",
    "        return edad"
   ]
  },
  {
   "cell_type": "code",
   "execution_count": 288,
   "id": "0503e243-c33e-4eaf-a44b-a42e9f80abd2",
   "metadata": {},
   "outputs": [],
   "source": [
    "lista_edades_nuevas = [conv_edad(i) for i in df_saber_union_v1['ESTU_FECHANACIMIENTO']]"
   ]
  },
  {
   "cell_type": "code",
   "execution_count": 289,
   "id": "fe38ea7a-3f89-420f-9270-e070ead3aac5",
   "metadata": {},
   "outputs": [
    {
     "data": {
      "text/plain": [
       "0    35.0\n",
       "1    25.0\n",
       "2    23.0\n",
       "Name: ESTU_FECHANACIMIENTO, dtype: float64"
      ]
     },
     "execution_count": 289,
     "metadata": {},
     "output_type": "execute_result"
    }
   ],
   "source": [
    "df_saber_union_v1['ESTU_FECHANACIMIENTO'] = lista_edades_nuevas\n",
    "df_saber_union_v1['ESTU_FECHANACIMIENTO'].head(3)"
   ]
  },
  {
   "cell_type": "code",
   "execution_count": 291,
   "id": "bdf050ff-da18-47d8-b2b6-df7806fecddc",
   "metadata": {},
   "outputs": [
    {
     "data": {
      "text/plain": [
       "0         35\n",
       "1         25\n",
       "2         23\n",
       "3         19\n",
       "4         18\n",
       "          ..\n",
       "520302    16\n",
       "520303    23\n",
       "520304    14\n",
       "520305    17\n",
       "520306    17\n",
       "Name: ESTU_FECHANACIMIENTO, Length: 520307, dtype: Int64"
      ]
     },
     "execution_count": 291,
     "metadata": {},
     "output_type": "execute_result"
    }
   ],
   "source": [
    "ser_int_Fnac = pd.Series(df_saber_union_v1['ESTU_FECHANACIMIENTO']).astype('Int64')\n",
    "ser_int_Fnac"
   ]
  },
  {
   "cell_type": "code",
   "execution_count": 296,
   "id": "45995049-9f0d-4261-8812-fa3ebd2a7f26",
   "metadata": {},
   "outputs": [
    {
     "data": {
      "text/plain": [
       "<IntegerArray>\n",
       "[  35,   25,   23,   19,   18,   37,   30,   20,   17, <NA>,   22,   21,   39,\n",
       "   26,   24,   36,   43,   27,   50,   33,   32,   45,   42,   31,   28,   34,\n",
       "   48,   29,   57,   51,   47,   40,   38,   14,   52,   15,   44,   60,   41,\n",
       "   16,   49,   55,   61,   53,   54,   46,   58,   10,   56,   64,   12,   11,\n",
       "   13,   66,   68,   74,   62,   67,   59,   65,   63,   73,   75,   78,   79,\n",
       "   71,   69,   80,   70,   72]\n",
       "Length: 70, dtype: Int64"
      ]
     },
     "execution_count": 296,
     "metadata": {},
     "output_type": "execute_result"
    }
   ],
   "source": [
    "df_saber_union_v1['ESTU_FECHANACIMIENTO'] = ser_int_Fnac\n",
    "df_saber_union_v1['ESTU_FECHANACIMIENTO'].unique()"
   ]
  },
  {
   "cell_type": "markdown",
   "id": "3ace0255-2bdc-4727-bd56-e8ffaa65d91e",
   "metadata": {},
   "source": [
    "#### Cambio de nombre de la columna, ya que representa la edad y ya no representa la fecha de nacimiento"
   ]
  },
  {
   "cell_type": "code",
   "execution_count": 294,
   "id": "5d853f30-f076-4068-99ba-c983628eda87",
   "metadata": {
    "scrolled": true,
    "tags": []
   },
   "outputs": [
    {
     "data": {
      "text/plain": [
       "id                               object\n",
       "ESTU_NACIONALIDAD                object\n",
       "ESTU_GENERO                      object\n",
       "ESTU_EDAD                         Int64\n",
       "ESTU_CONSECUTIVO                 object\n",
       "ESTU_PAIS_RESIDE                 object\n",
       "ESTU_DEPTO_RESIDE                object\n",
       "ESTU_COD_RESIDE_DEPTO            object\n",
       "ESTU_MCPIO_RESIDE                object\n",
       "ESTU_COD_RESIDE_MCPIO            object\n",
       "FAMI_ESTRATOVIVIENDA              int64\n",
       "FAMI_TIENEINTERNET                Int64\n",
       "FAMI_TIENECOMPUTADOR              Int64\n",
       "FAMI_SITUACIONECONOMICA          object\n",
       "ESTU_DEDICACIONINTERNET          object\n",
       "PUNT_LECTURA_CRITICA              int32\n",
       "PERCENTIL_LECTURA_CRITICA         int32\n",
       "DESEMP_LECTURA_CRITICA            int32\n",
       "PUNT_MATEMATICAS                  int32\n",
       "PERCENTIL_MATEMATICAS             int32\n",
       "DESEMP_MATEMATICAS                int32\n",
       "PUNT_C_NATURALES                  int32\n",
       "PERCENTIL_C_NATURALES             int32\n",
       "DESEMP_C_NATURALES                int32\n",
       "PUNT_SOCIALES_CIUDADANAS          int32\n",
       "PERCENTIL_SOCIALES_CIUDADANAS     int32\n",
       "DESEMP_SOCIALES_CIUDADANAS        int32\n",
       "PUNT_INGLES                       Int64\n",
       "PERCENTIL_INGLES                  int32\n",
       "DESEMP_INGLES                    object\n",
       "PUNT_GLOBAL                       int32\n",
       "PERCENTIL_GLOBAL                  Int64\n",
       "dtype: object"
      ]
     },
     "execution_count": 294,
     "metadata": {},
     "output_type": "execute_result"
    }
   ],
   "source": [
    "df_saber_union_v2 = df_saber_union_v1.rename(columns={'ESTU_FECHANACIMIENTO':'ESTU_EDAD'})\n",
    "df_saber_union_v2.dtypes"
   ]
  },
  {
   "cell_type": "code",
   "execution_count": 295,
   "id": "fd8e7d41-d3af-4667-b6c6-fc464437ec2b",
   "metadata": {
    "scrolled": true,
    "tags": []
   },
   "outputs": [
    {
     "data": {
      "text/plain": [
       "[array(['00000000-0000-0000-B30A-5F2FE234EE93',\n",
       "        '00000000-0000-0000-F3E5-3E18272D8C28',\n",
       "        '00000000-0000-0000-2E67-572B8AFB010B', ...,\n",
       "        '00000000-0000-0000-2F10-A90012384309',\n",
       "        '00000000-0000-0000-03B3-B2EA58E0923E',\n",
       "        '00000000-0000-0000-2054-CB6AE8FC9320'], dtype=object),\n",
       " array(['COLOMBIA', 'ESPAÑA', 'ESTADOS UNIDOS', 'HONDURAS',\n",
       "        'PAÍSES BAJOS - HOLANDA', 'ALEMANIA', 'ARGENTINA', 'BRASIL',\n",
       "        'CHILE', 'COREA DEL NORTE', 'CUBA', 'ECUADOR', 'EL SALVADOR',\n",
       "        'FRANCIA', 'GUATEMALA', 'HAITI', 'ITALIA', 'MÉXICO', 'NICARAGUA',\n",
       "        'PORTUGAL', 'VENEZUELA', 'SUIZA', 'PERÚ', 'COREA DEL SUR',\n",
       "        'URUGUAY', 'ESTADOS FEDERADOS DE MICRONESIA', 'BOLIVIA', 'PANAMÁ',\n",
       "        'REPÚBLICA DOMINICANA', 'WALLIS Y FUTUNA', 'CABO VERDE', 'VANUATU',\n",
       "        'VIETNAM', 'JAPÓN', 'ARABIA SAUDITA', 'RUSIA', 'EGIPTO', 'IRÁN',\n",
       "        'REINO UNIDO', 'COSTA RICA', 'CHINA', 'LITUANIA', 'CURAZAO',\n",
       "        'ARUBA', 'PARAGUAY', 'CANADÁ', 'TURQUÍA', 'OMÁN'], dtype=object),\n",
       " array(['F', 'M', None], dtype=object),\n",
       " <IntegerArray>\n",
       " [  35,   25,   23,   19,   18,   37,   30,   20,   17, <NA>,   22,   21,   39,\n",
       "    26,   24,   36,   43,   27,   50,   33,   32,   45,   42,   31,   28,   34,\n",
       "    48,   29,   57,   51,   47,   40,   38,   14,   52,   15,   44,   60,   41,\n",
       "    16,   49,   55,   61,   53,   54,   46,   58,   10,   56,   64,   12,   11,\n",
       "    13,   66,   68,   74,   62,   67,   59,   65,   63,   73,   75,   78,   79,\n",
       "    71,   69,   80,   70,   72]\n",
       " Length: 70, dtype: Int64,\n",
       " array(['SB11202010045555', 'SB11202010045719', 'SB11202010070662', ...,\n",
       "        'SB11202040185843', 'SB11202040168607', 'SB11202040525571'],\n",
       "       dtype=object),\n",
       " array(['COLOMBIA', 'ESPAÑA', 'ESTADOS UNIDOS', 'HONDURAS',\n",
       "        'PAÍSES BAJOS - HOLANDA', 'ALEMANIA', 'ARGENTINA', 'BRASIL',\n",
       "        'CHILE', 'COREA DEL NORTE', 'CUBA', 'ECUADOR', 'EL SALVADOR',\n",
       "        'FRANCIA', 'GUATEMALA', 'HAITI', 'ITALIA', 'MÉXICO', 'NICARAGUA',\n",
       "        'PORTUGAL', 'VENEZUELA', 'SUIZA', 'PERÚ', 'COREA DEL SUR',\n",
       "        'URUGUAY', 'ESTADOS FEDERADOS DE MICRONESIA', 'BOLIVIA', 'PANAMÁ',\n",
       "        'REPÚBLICA DOMINICANA', 'WALLIS Y FUTUNA', 'CABO VERDE', 'VANUATU',\n",
       "        'VIETNAM', 'JAPÓN', 'ARABIA SAUDITA', 'RUSIA', 'EGIPTO', 'IRÁN',\n",
       "        'REINO UNIDO', 'COSTA RICA', 'CHINA', 'LITUANIA', 'CURAZAO',\n",
       "        'ARUBA', 'PARAGUAY', 'CANADÁ', 'TURQUÍA', 'OMÁN'], dtype=object),\n",
       " array(['CESAR', 'NARIÑO', 'CAUCA', 'PUTUMAYO', 'RISARALDA', 'ANTIOQUIA',\n",
       "        None, 'BOGOTÁ', 'META', 'QUINDIO', 'VALLE', 'CUNDINAMARCA',\n",
       "        'ATLANTICO', 'SANTANDER', 'NORTE SANTANDER', 'CALDAS', 'CASANARE',\n",
       "        'BOYACA', 'CAQUETA', 'BOLIVAR', 'HUILA', 'CORDOBA', 'ARAUCA',\n",
       "        'TOLIMA', 'MAGDALENA', 'GUAINIA', 'LA GUAJIRA', 'CHOCO', 'SUCRE',\n",
       "        'GUAVIARE', 'VICHADA', 'AMAZONAS', 'EXTRANJERO', 'SAN ANDRES',\n",
       "        'VAUPES'], dtype=object),\n",
       " array(['20', '52', '19', '86', '66', '05', None, '11', '50', '63', '76',\n",
       "        '25', '08', '68', '54', '17', '85', '15', '18', '13', '41', '23',\n",
       "        '81', '73', '47', '94', '44', '27', '70', '95', '99', '91',\n",
       "        '99999', '88', '97'], dtype=object),\n",
       " array(['SAN DIEGO', 'IPIALES', 'TOTORÓ', ..., 'ZAPATOCA', 'VIOTÁ',\n",
       "        'AMALFI'], dtype=object),\n",
       " array(['20750', '52356', '19824', ..., '68895', '25878', '05031'],\n",
       "       dtype=object),\n",
       " array([1, 0, 6, 5, 2, 4, 3], dtype=int64),\n",
       " <IntegerArray>\n",
       " [0, <NA>, 1]\n",
       " Length: 3, dtype: Int64,\n",
       " <IntegerArray>\n",
       " [0, <NA>, 1]\n",
       " Length: 3, dtype: Int64,\n",
       " array(['Mejor', None, 'Igual', 'Peor'], dtype=object),\n",
       " array(['No Navega Internet', None, 'Entre 1 y 3 horas', 'Más de 3 horas',\n",
       "        'Entre 30 y 60 minutos', '30 minutos o menos'], dtype=object),\n",
       " array([ 39,  41,  37,  38,  58,  48,  32,  45,  35,  53,  61,  77,  36,\n",
       "         60,  33,  43,  54,  50,  71,  52,  70,  59,  63,  49,  47,  74,\n",
       "         42,  44,  64,  66,  30,  68,  73,  67,  46,  57,  40,  51,  65,\n",
       "         31,  62,  79,  27,  72,  69,  55,  34,  83,  75,  28,  56,  78,\n",
       "         25,  29,  22,  81, 100,  82,  76,   0,  26,  24,  80,  23]),\n",
       " array([  6,   7,   4,   5,  42,  18,   2,  13,   3,  29,  52,  97,  47,\n",
       "         10,  32,  21,  84,  27,  82,  31,  46,  60,  57,  19,  17,  49,\n",
       "         93,   9,  12,  62,  71,  11,  26,   1,  76,  89,  14,  39,  41,\n",
       "         23,  43,  67,  73,  48,   8,  56,  25,  99,  15,  53,  30,  24,\n",
       "         54,  28,  63,  88,  80,  34,  16,  20,  38,  87,  74, 100,  94,\n",
       "         45,  50,  36,  69,  61,  75,  22,  44,  64,  68,  33,  66,  40,\n",
       "         35,  37,  81,  65,  70,  92,  51,  58,  91,  83,  78,  86,  55,\n",
       "         98,  95,  96,  85,  90,  72,  77,  59,  79]),\n",
       " array([2, 3, 1, 4]),\n",
       " array([ 32,  41,  36,  42,  50,  44,  39,  29,  53,  65,  26,  48,  24,\n",
       "         37,  54,  63,  70,  17,  46,  43,  64,  60,  30,  72,  58,  35,\n",
       "         73,  34,  62,  51,  45,  28,  49,  33,  68,  38,  71,  67,  56,\n",
       "         27,  23,  40,  21,  55,  57,  80,  74,  25,  77,  75,  66,  52,\n",
       "         22,  20,  47,  31,  61,  78,  59,  76,  69,  15,  82,  79,  81,\n",
       "         19,   0, 100,  84,  16,  83,  18]),\n",
       " array([  4,  12,   7,  13,  25,  16,  10,   2,  32,  64,   1,  22,  34,\n",
       "         36,  57,  80,  19,  14,  63,  50,   3,  85,  44,   6,  87,  15,\n",
       "          9,   5,  56,  27,  17,  65,  35,  23,  26,  74,  46,  84,  71,\n",
       "         38,  62,  33,  88,  40,  18,  11,  79,  42,  98,  89,  59,  86,\n",
       "         31,   8,  24,  95,  91,  67,  61,  28,  29,  37,  51,  20,  69,\n",
       "         83,  54,  49,  30,  21,  73,  60,  43,  41,  93,  78,  72,  99,\n",
       "         48,  97,  53,  52,  68,  45,  70,  55,  76,  90,  58,  47,  66,\n",
       "         82,  39,  81,  94,  77,  96,  92, 100,  75]),\n",
       " array([1, 2, 3, 4]),\n",
       " array([ 35,  39,  33,  38,  50,  44,  27,  28,  42,  57,  68,  45,  43,\n",
       "         40,  30,  48,  60,  62,  64,  32,  53,  49,  65,  67,  51,  66,\n",
       "         54,  47,  52,  34,  36,  55,  31,  58,  56,  46,  41,  59,  37,\n",
       "         29,  69,  61,  71,  72,  78,  23,  24,  76,   0,  26, 100,  77,\n",
       "         79,  70,  63,  74,  73,  75,  25,  80,  22,  82,  81,  21]),\n",
       " array([  6,  10,   4,  32,  20,   1,  15,  49,  81,  21,  17,  12,   2,\n",
       "         28,  59,  64,  70,  13,   3,  38,  58,  30,  73,  35,  77,  42,\n",
       "         16,  22,  25,  18,  66,  36,   5,  24,  50,   7,  27,  44,  29,\n",
       "         53,  46,  45,  71,  75,  23,  56,  14,   8,  78,  34,  11,  31,\n",
       "         86,  61,  89,  83,  91,  47,  48,  65,  26,  43,  33,  92,  39,\n",
       "         90,   9,  99,  74,  84,  98,  19,  52,  62,  60,  57,  37,  54,\n",
       "         55,  41,  51,  79, 100,  85,  80,  87,  76,  82,  69,  40,  97,\n",
       "         96,  95,  72,  88,  93,  63,  68,  94,  67]),\n",
       " array([1, 2, 3, 4]),\n",
       " array([ 24,  44,  33,  53,  26,  29,  41,  39,  45,  66,  69,  31,  49,\n",
       "         43,  50,  56,  58,  37,  62,  68,  47,  51,  61,  27,  65,  73,\n",
       "         28,  54,  38,  48,  36,  40,  34,  64,  59,  35,  55,  30,  77,\n",
       "         52,  32,  21,  60,  42,  70,  74,  81,  46,  23,  79, 100,  75,\n",
       "         57,  71,  63,  67,  25,  22,  18,  80,  76,  72,  78,  19,  20,\n",
       "          0,  82,  83]),\n",
       " array([  1,  23,   7,  42,   2,   3,  18,  15,  25,  75,  82,   5,  33,\n",
       "          6,  35,  49,  55,  12,  66,  81,  29,  34,  37,  80,  62,  24,\n",
       "         74,  91,  30,  36,  45,  13,  38,  65,  10,  54,  17,   8,  69,\n",
       "         72,  57,  83,   9,  11,  22,  46,  43,  97,  40,  21,  19,  61,\n",
       "         20,  31,  85,  93, 100,   4,  39,  63,  58,  16,  14,  28,  32,\n",
       "         99,  95,  47,  48,  50,  73,  41,  60,  56,  71,  88,  27,  59,\n",
       "         68,  77,  87,  26,  44,  53,  51,  86,  96,  64,  89,  70,  76,\n",
       "         84,  67,  79,  98,  92,  94,  90,  52,  78]),\n",
       " array([1, 2, 3, 4]),\n",
       " <IntegerArray>\n",
       " [  36,   30,   37,   80,   29,   39,   33,   55,  100, <NA>,   35,   31,   47,\n",
       "    51,   70,   34,   78,   81,   27,   49,   73,   86,   44,   40,   61,   84,\n",
       "    28,   75,   50,   46,   43,   23,   76,   82,   41,   66,   38,   45,   63,\n",
       "    69,   57,   79,   32,   48,   71,   62,   26,   53,   87,   42,   77,   22,\n",
       "    52,   83,   72,   68,   59,   25,   60,   54,   67,   58,   74,   56,   64,\n",
       "     0,   24,   65,   85,   21,   88]\n",
       " Length: 71, dtype: Int64,\n",
       " array([  7,   3,   8,  80,   2,  10,   5,  31, 100,   1,   6,  19,  25,\n",
       "         55,  73,  84,  21,  61,  94,  15,  11,  40,  90,  67,  23,  18,\n",
       "         14,  85,  12,  48,   9,  17,  44,  53,  34,  76,   4,  49,  22,\n",
       "         58,  42,  27,  13,  72,  74,  26,  20,  75,  88,  83,  24,  59,\n",
       "         51,  38,  81,  56,  79,  39,  52,  29,  28,  50,  36,  16,  63,\n",
       "         32,  62,  82,  66,  65,  78,  45,  70,  37,  43,  30,  35,  71,\n",
       "         86,  77,  69,  54,  47,  57,  64,  92,  89,  68,  87,  93,  60,\n",
       "         91,  41,  46,  33,  97,  98,  99,  95,  96]),\n",
       " array(['A-', 'B+', 'A1', 'B1', 'A2'], dtype=object),\n",
       " array([164, 202, 162, 188, 274, 198, 160, 207, 211, 295, 360, 172, 244,\n",
       "        237, 260, 307, 178, 306, 345, 174, 220, 257, 322, 315, 228, 193,\n",
       "        171, 305, 362, 248, 209, 349, 192, 287, 200, 189, 239, 186, 151,\n",
       "        327, 290, 249, 203, 243, 265, 229, 173, 185, 313, 158, 210, 276,\n",
       "        341, 321, 289, 161, 254, 181, 238, 190, 148, 194, 293, 212, 379,\n",
       "        224, 269, 208, 179, 187, 205, 219, 223, 246, 123, 286, 197, 168,\n",
       "        343, 324, 256, 150, 251, 302, 356, 240, 370, 368, 284, 296, 361,\n",
       "        233, 157, 266, 320, 196, 264, 245, 177, 152, 385, 195, 277, 355,\n",
       "        235, 426, 330, 340, 382, 288, 262, 242, 310, 255, 272, 142, 270,\n",
       "        263, 213, 282, 146, 166, 308, 336, 170, 176, 250, 221, 139, 319,\n",
       "        312, 217, 247, 303, 334, 227, 236, 167, 348, 183, 165, 218, 201,\n",
       "        273, 252, 234, 326, 182, 180, 304, 184, 133, 267, 332, 175, 317,\n",
       "        259, 138, 144, 231, 222, 294, 318, 292, 226, 225, 155, 300, 367,\n",
       "        298, 329, 159, 278,  69, 191, 268, 323, 429, 169, 199, 156, 258,\n",
       "        275, 216, 149, 375, 153, 381, 427, 283, 363, 299, 253, 232, 378,\n",
       "        346, 204, 359, 163, 333, 230, 261, 393, 347, 335, 285, 396, 344,\n",
       "        279, 338, 350, 353, 280, 215,  91, 358, 241, 398, 291, 352, 301,\n",
       "        325, 271, 145, 214, 351, 147, 369, 377, 328, 281, 206, 357, 297,\n",
       "        354, 342, 366, 339, 121, 365, 140, 311, 137, 388,  14, 373, 316,\n",
       "        337, 403, 376, 314, 412, 364, 383, 380, 400, 372, 331, 309, 143,\n",
       "        389, 374, 371, 392, 405, 407, 410, 387,  93, 386, 416, 413, 384,\n",
       "        430, 154, 390, 411, 409, 454, 455, 424, 439, 394, 404, 419, 420,\n",
       "        402, 401, 425, 391, 395, 423, 422, 418, 428, 415, 475, 397, 468,\n",
       "        408, 421, 432, 406, 437, 457, 445, 471, 414, 431, 450, 442, 134,\n",
       "        448, 446, 449, 435, 141, 438, 132, 417, 443, 440, 433,   0, 434,\n",
       "        472, 399, 479,  12,  72,  25, 465,  28, 103, 136, 135, 129,  24,\n",
       "         95, 126,  23, 112, 447, 125, 131, 114, 127, 458, 128,  96,  76,\n",
       "        104,  29,  27, 130,  78,  73, 122,  48, 115, 444,  92, 491,  57,\n",
       "         99, 466,  35, 111, 120,  97, 473, 441,  80,  59,  32,  98, 470,\n",
       "        117, 452,  77, 492,  67,  30,  33,  21, 436, 100, 110, 106,  88,\n",
       "        108,  20, 461, 500, 113, 460, 462,  22, 463,  70,  40, 119,  11,\n",
       "        107, 456,  46,  83,  45, 476,  26,  61, 477,  55,  94,  74,  87,\n",
       "        459, 102,  39,  54, 464,  60,  90,  62,  89,  36,  38,  58,  53,\n",
       "        467,  42,  51,  37, 105]),\n",
       " <IntegerArray>\n",
       " [   2,   10,    6,   39,    9,   11,   13,   50,   89, <NA>,\n",
       "  ...\n",
       "    84,   85,   87,   79,   77,   91,   98,   61,   94,   58]\n",
       " Length: 101, dtype: Int64]"
      ]
     },
     "execution_count": 295,
     "metadata": {},
     "output_type": "execute_result"
    }
   ],
   "source": [
    "[df_saber_union_v2[col].unique() for col in df_saber_union_v2.columns]"
   ]
  },
  {
   "cell_type": "markdown",
   "id": "ada30502-712f-4a09-8578-9f51c1a1865f",
   "metadata": {},
   "source": [
    "#### De la información resultante y de acuerdo para el análisis se dejaran los resultados solo de Colombia para analisar el programa del gobierno"
   ]
  },
  {
   "cell_type": "code",
   "execution_count": 303,
   "id": "953d6a92-071c-47e2-83a7-ee8799c15663",
   "metadata": {},
   "outputs": [],
   "source": [
    "df_saber_union_v3 = df_saber_union_v2[ df_saber_union_v2['ESTU_NACIONALIDAD'] == 'COLOMBIA']"
   ]
  },
  {
   "cell_type": "code",
   "execution_count": 307,
   "id": "ddee789e-d78a-4816-9ae3-1d81b0ad984f",
   "metadata": {},
   "outputs": [
    {
     "data": {
      "text/html": [
       "<div>\n",
       "<style scoped>\n",
       "    .dataframe tbody tr th:only-of-type {\n",
       "        vertical-align: middle;\n",
       "    }\n",
       "\n",
       "    .dataframe tbody tr th {\n",
       "        vertical-align: top;\n",
       "    }\n",
       "\n",
       "    .dataframe thead th {\n",
       "        text-align: right;\n",
       "    }\n",
       "</style>\n",
       "<table border=\"1\" class=\"dataframe\">\n",
       "  <thead>\n",
       "    <tr style=\"text-align: right;\">\n",
       "      <th></th>\n",
       "      <th>id</th>\n",
       "      <th>ESTU_NACIONALIDAD</th>\n",
       "      <th>ESTU_GENERO</th>\n",
       "      <th>ESTU_EDAD</th>\n",
       "      <th>ESTU_CONSECUTIVO</th>\n",
       "      <th>ESTU_PAIS_RESIDE</th>\n",
       "      <th>ESTU_DEPTO_RESIDE</th>\n",
       "      <th>ESTU_COD_RESIDE_DEPTO</th>\n",
       "      <th>ESTU_MCPIO_RESIDE</th>\n",
       "      <th>ESTU_COD_RESIDE_MCPIO</th>\n",
       "      <th>...</th>\n",
       "      <th>PERCENTIL_C_NATURALES</th>\n",
       "      <th>DESEMP_C_NATURALES</th>\n",
       "      <th>PUNT_SOCIALES_CIUDADANAS</th>\n",
       "      <th>PERCENTIL_SOCIALES_CIUDADANAS</th>\n",
       "      <th>DESEMP_SOCIALES_CIUDADANAS</th>\n",
       "      <th>PUNT_INGLES</th>\n",
       "      <th>PERCENTIL_INGLES</th>\n",
       "      <th>DESEMP_INGLES</th>\n",
       "      <th>PUNT_GLOBAL</th>\n",
       "      <th>PERCENTIL_GLOBAL</th>\n",
       "    </tr>\n",
       "  </thead>\n",
       "  <tbody>\n",
       "    <tr>\n",
       "      <th>0</th>\n",
       "      <td>00000000-0000-0000-B30A-5F2FE234EE93</td>\n",
       "      <td>COLOMBIA</td>\n",
       "      <td>F</td>\n",
       "      <td>35</td>\n",
       "      <td>SB11202010045555</td>\n",
       "      <td>COLOMBIA</td>\n",
       "      <td>CESAR</td>\n",
       "      <td>20</td>\n",
       "      <td>SAN DIEGO</td>\n",
       "      <td>20750</td>\n",
       "      <td>...</td>\n",
       "      <td>6</td>\n",
       "      <td>1</td>\n",
       "      <td>24</td>\n",
       "      <td>1</td>\n",
       "      <td>1</td>\n",
       "      <td>36</td>\n",
       "      <td>7</td>\n",
       "      <td>A-</td>\n",
       "      <td>164</td>\n",
       "      <td>2</td>\n",
       "    </tr>\n",
       "    <tr>\n",
       "      <th>1</th>\n",
       "      <td>00000000-0000-0000-F3E5-3E18272D8C28</td>\n",
       "      <td>COLOMBIA</td>\n",
       "      <td>F</td>\n",
       "      <td>25</td>\n",
       "      <td>SB11202010045719</td>\n",
       "      <td>COLOMBIA</td>\n",
       "      <td>NARIÑO</td>\n",
       "      <td>52</td>\n",
       "      <td>IPIALES</td>\n",
       "      <td>52356</td>\n",
       "      <td>...</td>\n",
       "      <td>10</td>\n",
       "      <td>1</td>\n",
       "      <td>44</td>\n",
       "      <td>23</td>\n",
       "      <td>2</td>\n",
       "      <td>30</td>\n",
       "      <td>3</td>\n",
       "      <td>A-</td>\n",
       "      <td>202</td>\n",
       "      <td>10</td>\n",
       "    </tr>\n",
       "    <tr>\n",
       "      <th>2</th>\n",
       "      <td>00000000-0000-0000-2E67-572B8AFB010B</td>\n",
       "      <td>COLOMBIA</td>\n",
       "      <td>F</td>\n",
       "      <td>23</td>\n",
       "      <td>SB11202010070662</td>\n",
       "      <td>COLOMBIA</td>\n",
       "      <td>CAUCA</td>\n",
       "      <td>19</td>\n",
       "      <td>TOTORÓ</td>\n",
       "      <td>19824</td>\n",
       "      <td>...</td>\n",
       "      <td>4</td>\n",
       "      <td>1</td>\n",
       "      <td>24</td>\n",
       "      <td>1</td>\n",
       "      <td>1</td>\n",
       "      <td>30</td>\n",
       "      <td>3</td>\n",
       "      <td>A-</td>\n",
       "      <td>162</td>\n",
       "      <td>2</td>\n",
       "    </tr>\n",
       "  </tbody>\n",
       "</table>\n",
       "<p>3 rows × 32 columns</p>\n",
       "</div>"
      ],
      "text/plain": [
       "                                     id ESTU_NACIONALIDAD ESTU_GENERO  \\\n",
       "0  00000000-0000-0000-B30A-5F2FE234EE93          COLOMBIA           F   \n",
       "1  00000000-0000-0000-F3E5-3E18272D8C28          COLOMBIA           F   \n",
       "2  00000000-0000-0000-2E67-572B8AFB010B          COLOMBIA           F   \n",
       "\n",
       "   ESTU_EDAD  ESTU_CONSECUTIVO ESTU_PAIS_RESIDE ESTU_DEPTO_RESIDE  \\\n",
       "0         35  SB11202010045555         COLOMBIA             CESAR   \n",
       "1         25  SB11202010045719         COLOMBIA            NARIÑO   \n",
       "2         23  SB11202010070662         COLOMBIA             CAUCA   \n",
       "\n",
       "  ESTU_COD_RESIDE_DEPTO ESTU_MCPIO_RESIDE ESTU_COD_RESIDE_MCPIO  ...  \\\n",
       "0                    20         SAN DIEGO                 20750  ...   \n",
       "1                    52           IPIALES                 52356  ...   \n",
       "2                    19            TOTORÓ                 19824  ...   \n",
       "\n",
       "   PERCENTIL_C_NATURALES  DESEMP_C_NATURALES  PUNT_SOCIALES_CIUDADANAS  \\\n",
       "0                      6                   1                        24   \n",
       "1                     10                   1                        44   \n",
       "2                      4                   1                        24   \n",
       "\n",
       "  PERCENTIL_SOCIALES_CIUDADANAS DESEMP_SOCIALES_CIUDADANAS  PUNT_INGLES  \\\n",
       "0                             1                          1           36   \n",
       "1                            23                          2           30   \n",
       "2                             1                          1           30   \n",
       "\n",
       "   PERCENTIL_INGLES  DESEMP_INGLES  PUNT_GLOBAL  PERCENTIL_GLOBAL  \n",
       "0                 7             A-          164                 2  \n",
       "1                 3             A-          202                10  \n",
       "2                 3             A-          162                 2  \n",
       "\n",
       "[3 rows x 32 columns]"
      ]
     },
     "execution_count": 307,
     "metadata": {},
     "output_type": "execute_result"
    }
   ],
   "source": [
    "df_saber_union_v4 = df_saber_union_v3[ df_saber_union_v3['ESTU_EDAD'] != np.nan]\n",
    "df_saber_union_v4.head(3)"
   ]
  },
  {
   "cell_type": "code",
   "execution_count": 308,
   "id": "0eb6a840-ad4d-4033-8a40-804fe673e1b2",
   "metadata": {},
   "outputs": [
    {
     "data": {
      "text/plain": [
       "(513198, 32)"
      ]
     },
     "execution_count": 308,
     "metadata": {},
     "output_type": "execute_result"
    }
   ],
   "source": [
    "df_saber_union_v4.shape"
   ]
  },
  {
   "cell_type": "code",
   "execution_count": 312,
   "id": "23d6b063-5ec1-4537-b752-3ffbfb1d5db0",
   "metadata": {},
   "outputs": [],
   "source": [
    "df_saber_union_v4.to_csv('saber_11_union.csv', index=False)"
   ]
  },
  {
   "cell_type": "code",
   "execution_count": 331,
   "id": "e4bfed70-9349-4808-b81e-c578054f48a9",
   "metadata": {},
   "outputs": [],
   "source": [
    "df_mintic_v3.to_csv('Mintic_datos_limpios.csv', index=False)"
   ]
  },
  {
   "cell_type": "code",
   "execution_count": null,
   "id": "b3ad157c-5f63-4286-94b0-4712bd7022f8",
   "metadata": {},
   "outputs": [],
   "source": []
  }
 ],
 "metadata": {
  "kernelspec": {
   "display_name": "Python 3 (ipykernel)",
   "language": "python",
   "name": "python3"
  },
  "language_info": {
   "codemirror_mode": {
    "name": "ipython",
    "version": 3
   },
   "file_extension": ".py",
   "mimetype": "text/x-python",
   "name": "python",
   "nbconvert_exporter": "python",
   "pygments_lexer": "ipython3",
   "version": "3.9.7"
  }
 },
 "nbformat": 4,
 "nbformat_minor": 5
}
