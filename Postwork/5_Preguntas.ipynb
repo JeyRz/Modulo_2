{
 "cells": [
  {
   "cell_type": "markdown",
   "id": "0cb62ba8-46cf-46f0-bdff-4f4d328095ef",
   "metadata": {},
   "source": [
    "# Análisis y resolución de preguntas"
   ]
  },
  {
   "cell_type": "code",
   "execution_count": 18,
   "id": "76fc1310-e85b-4890-9e97-48757e47b302",
   "metadata": {},
   "outputs": [],
   "source": [
    "import matplotlib.pyplot as plt\n",
    "import numpy as np\n",
    "import pandas as pd"
   ]
  },
  {
   "cell_type": "markdown",
   "id": "07fcf329-0109-4dac-a38e-a8aaae92ddec",
   "metadata": {},
   "source": [
    "##### Se realiza la carga de los datos ya transformados y limpiados para analizar las preguntas iniciales"
   ]
  },
  {
   "cell_type": "code",
   "execution_count": 9,
   "id": "a95a87d1-d8a2-4947-88dd-a7771be1637e",
   "metadata": {},
   "outputs": [
    {
     "data": {
      "text/html": [
       "<div>\n",
       "<style scoped>\n",
       "    .dataframe tbody tr th:only-of-type {\n",
       "        vertical-align: middle;\n",
       "    }\n",
       "\n",
       "    .dataframe tbody tr th {\n",
       "        vertical-align: top;\n",
       "    }\n",
       "\n",
       "    .dataframe thead th {\n",
       "        text-align: right;\n",
       "    }\n",
       "</style>\n",
       "<table border=\"1\" class=\"dataframe\">\n",
       "  <thead>\n",
       "    <tr style=\"text-align: right;\">\n",
       "      <th></th>\n",
       "      <th>id</th>\n",
       "      <th>FECHA_CORTE</th>\n",
       "      <th>DEPARTAME_NOMBRE</th>\n",
       "      <th>MUNICIPIO_NOMBRE</th>\n",
       "      <th>ESTADO_FORMACION</th>\n",
       "      <th>ESTADOS</th>\n",
       "      <th>ESTRATO_SOCIAL</th>\n",
       "      <th>EDAD</th>\n",
       "      <th>GENERO</th>\n",
       "      <th>RUTA</th>\n",
       "      <th>GRADO</th>\n",
       "    </tr>\n",
       "  </thead>\n",
       "  <tbody>\n",
       "    <tr>\n",
       "      <th>0</th>\n",
       "      <td>00000000-0000-0000-C200-BA92F054D3BD</td>\n",
       "      <td>2021-10-01</td>\n",
       "      <td>QUINDIO</td>\n",
       "      <td>ARMENIA</td>\n",
       "      <td>ASPIRANTE</td>\n",
       "      <td>ASPIRANTES</td>\n",
       "      <td>3</td>\n",
       "      <td>29</td>\n",
       "      <td>MASCULINO</td>\n",
       "      <td>RUTA 2</td>\n",
       "      <td>-1</td>\n",
       "    </tr>\n",
       "    <tr>\n",
       "      <th>1</th>\n",
       "      <td>00000000-0000-0000-99AA-2E3888BFFB24</td>\n",
       "      <td>2021-10-01</td>\n",
       "      <td>QUINDIO</td>\n",
       "      <td>ARMENIA</td>\n",
       "      <td>ASPIRANTE</td>\n",
       "      <td>ASPIRANTES</td>\n",
       "      <td>3</td>\n",
       "      <td>29</td>\n",
       "      <td>MASCULINO</td>\n",
       "      <td>RUTA 2</td>\n",
       "      <td>-1</td>\n",
       "    </tr>\n",
       "    <tr>\n",
       "      <th>2</th>\n",
       "      <td>00000000-0000-0000-D72E-7CF7C7526A22</td>\n",
       "      <td>2021-10-01</td>\n",
       "      <td>QUINDIO</td>\n",
       "      <td>ARMENIA</td>\n",
       "      <td>ASPIRANTE</td>\n",
       "      <td>ASPIRANTES</td>\n",
       "      <td>3</td>\n",
       "      <td>29</td>\n",
       "      <td>MASCULINO</td>\n",
       "      <td>RUTA 2</td>\n",
       "      <td>-1</td>\n",
       "    </tr>\n",
       "  </tbody>\n",
       "</table>\n",
       "</div>"
      ],
      "text/plain": [
       "                                     id FECHA_CORTE DEPARTAME_NOMBRE  \\\n",
       "0  00000000-0000-0000-C200-BA92F054D3BD  2021-10-01          QUINDIO   \n",
       "1  00000000-0000-0000-99AA-2E3888BFFB24  2021-10-01          QUINDIO   \n",
       "2  00000000-0000-0000-D72E-7CF7C7526A22  2021-10-01          QUINDIO   \n",
       "\n",
       "  MUNICIPIO_NOMBRE ESTADO_FORMACION     ESTADOS  ESTRATO_SOCIAL  EDAD  \\\n",
       "0          ARMENIA        ASPIRANTE  ASPIRANTES               3    29   \n",
       "1          ARMENIA        ASPIRANTE  ASPIRANTES               3    29   \n",
       "2          ARMENIA        ASPIRANTE  ASPIRANTES               3    29   \n",
       "\n",
       "      GENERO    RUTA  GRADO  \n",
       "0  MASCULINO  RUTA 2     -1  \n",
       "1  MASCULINO  RUTA 2     -1  \n",
       "2  MASCULINO  RUTA 2     -1  "
      ]
     },
     "execution_count": 9,
     "metadata": {},
     "output_type": "execute_result"
    }
   ],
   "source": [
    "df_mintic_final = pd.read_csv('Mintic_datos_limpios.csv')\n",
    "df_mintic_final.head(3)"
   ]
  },
  {
   "cell_type": "code",
   "execution_count": 27,
   "id": "754b422c-b0fd-481e-a6e2-32a5eb6cc9f0",
   "metadata": {},
   "outputs": [],
   "source": [
    "df_saber_11 = pd.read_csv('Saber_11_union.csv')"
   ]
  },
  {
   "cell_type": "markdown",
   "id": "5faab7c6-661d-49dc-9d63-2556bdfc50c3",
   "metadata": {},
   "source": [
    "#### ¿Qué población se ha inscrito en el programa misión 100 mil programadores del MINTic en el 2020?\n",
    "\n",
    "Registros al año 2020"
   ]
  },
  {
   "cell_type": "code",
   "execution_count": 11,
   "id": "0588813f-8c0d-4cd8-9273-a264c08e9e32",
   "metadata": {},
   "outputs": [
    {
     "data": {
      "text/plain": [
       "FECHA_CORTE\n",
       "2020-12-31    137388\n",
       "2021-10-01    292311\n",
       "dtype: int64"
      ]
     },
     "execution_count": 11,
     "metadata": {},
     "output_type": "execute_result"
    }
   ],
   "source": [
    "df_mintic_final.groupby(['FECHA_CORTE']).size()"
   ]
  },
  {
   "cell_type": "code",
   "execution_count": 16,
   "id": "8fd9c240-76b7-49ab-b202-3e6f7afec6f5",
   "metadata": {},
   "outputs": [
    {
     "data": {
      "text/plain": [
       "(137388, 11)"
      ]
     },
     "execution_count": 16,
     "metadata": {},
     "output_type": "execute_result"
    }
   ],
   "source": [
    "mintic_2020 = df_mintic_final[df_mintic_final['FECHA_CORTE'] == '2020-12-31']\n",
    "mintic_2020.shape"
   ]
  },
  {
   "cell_type": "markdown",
   "id": "d112a737-2b4d-41f4-84ca-1e531c8cf9b3",
   "metadata": {},
   "source": [
    "Según el análisis de información siguiente:\n",
    "\n",
    "De un total 137.388\n",
    "* 128.857 aspirantes se inscribieron para el programa del Mintic\n",
    "* 5.855 fueron Matriculados al programa"
   ]
  },
  {
   "cell_type": "code",
   "execution_count": 17,
   "id": "0dfc81d4-2a9b-4351-860c-e65d651725e4",
   "metadata": {},
   "outputs": [
    {
     "data": {
      "text/plain": [
       "FECHA_CORTE  ESTADO_FORMACION\n",
       "2020-12-31   ASPIRANTE           128857\n",
       "             GRADUADO              2676\n",
       "             MATRICULADO           5855\n",
       "dtype: int64"
      ]
     },
     "execution_count": 17,
     "metadata": {},
     "output_type": "execute_result"
    }
   ],
   "source": [
    "mintic_2020.groupby(['FECHA_CORTE', 'ESTADO_FORMACION']).size()"
   ]
  },
  {
   "cell_type": "code",
   "execution_count": 24,
   "id": "04a32f99-8d09-4a35-8c53-1f6d9f02c9b2",
   "metadata": {},
   "outputs": [
    {
     "data": {
      "text/plain": [
       "array(['ASPIRANTE', 'GRADUADO', 'MATRICULADO'], dtype=object)"
      ]
     },
     "execution_count": 24,
     "metadata": {},
     "output_type": "execute_result"
    }
   ],
   "source": [
    "etiquetas = mintic_2020['ESTADO_FORMACION'].unique()\n",
    "etiquetas"
   ]
  },
  {
   "cell_type": "markdown",
   "id": "72466e3b-2c68-4dda-a98d-e6d9b29a77e3",
   "metadata": {},
   "source": [
    "#### ¿Cuántos estudiantes de estudios básicos se postularon para entrar a las rutas 1 y 2 de la misión 100 mil programadores del MINTic en el 2020?\n",
    "\n",
    "De los estudiantes aspirantes en el 2020:\n",
    "* Matriculados - admitidos al programa en la **ruta 1**: 1.650\n",
    "* Matriculados - admitidos al programa en la **ruta 2**: 4.205"
   ]
  },
  {
   "cell_type": "code",
   "execution_count": 25,
   "id": "9f65947f-83e5-48f5-bbf8-609ecc3c5eac",
   "metadata": {},
   "outputs": [
    {
     "data": {
      "text/plain": [
       "RUTA    ESTADO_FORMACION\n",
       "RUTA 1  ASPIRANTE            12835\n",
       "        GRADUADO               946\n",
       "        MATRICULADO           1650\n",
       "RUTA 2  ASPIRANTE           116022\n",
       "        GRADUADO              1730\n",
       "        MATRICULADO           4205\n",
       "dtype: int64"
      ]
     },
     "execution_count": 25,
     "metadata": {},
     "output_type": "execute_result"
    }
   ],
   "source": [
    "mintic_2020.groupby(['RUTA', 'ESTADO_FORMACION']).size()"
   ]
  },
  {
   "cell_type": "code",
   "execution_count": 70,
   "id": "9fd07d89-6e6e-4c43-97af-a2a2d471f97c",
   "metadata": {},
   "outputs": [
    {
     "data": {
      "text/plain": [
       "RUTA    ESTADO_FORMACION\n",
       "RUTA 1  ASPIRANTE           12835\n",
       "        GRADUADO              946\n",
       "        MATRICULADO          1650\n",
       "dtype: int64"
      ]
     },
     "execution_count": 70,
     "metadata": {},
     "output_type": "execute_result"
    }
   ],
   "source": [
    "mintic_2020_RUTA1 = mintic_2020[mintic_2020['RUTA']== 'RUTA 1']\n",
    "mintic_2020_RUTA1.groupby(['RUTA','ESTADO_FORMACION']).size()"
   ]
  },
  {
   "cell_type": "markdown",
   "id": "7494c2ff-ec9b-4c3a-8f35-448bdadf43f1",
   "metadata": {},
   "source": [
    "#### ¿Qué resultados se obtuvieron en saber 11 para el 2020?"
   ]
  },
  {
   "cell_type": "code",
   "execution_count": 26,
   "id": "944a3360-9ca8-4c6c-b6fa-6050405cbd3e",
   "metadata": {},
   "outputs": [
    {
     "data": {
      "text/html": [
       "<div>\n",
       "<style scoped>\n",
       "    .dataframe tbody tr th:only-of-type {\n",
       "        vertical-align: middle;\n",
       "    }\n",
       "\n",
       "    .dataframe tbody tr th {\n",
       "        vertical-align: top;\n",
       "    }\n",
       "\n",
       "    .dataframe thead th {\n",
       "        text-align: right;\n",
       "    }\n",
       "</style>\n",
       "<table border=\"1\" class=\"dataframe\">\n",
       "  <thead>\n",
       "    <tr style=\"text-align: right;\">\n",
       "      <th></th>\n",
       "      <th>id</th>\n",
       "      <th>ESTU_NACIONALIDAD</th>\n",
       "      <th>ESTU_GENERO</th>\n",
       "      <th>ESTU_EDAD</th>\n",
       "      <th>ESTU_CONSECUTIVO</th>\n",
       "      <th>ESTU_PAIS_RESIDE</th>\n",
       "      <th>ESTU_DEPTO_RESIDE</th>\n",
       "      <th>ESTU_COD_RESIDE_DEPTO</th>\n",
       "      <th>ESTU_MCPIO_RESIDE</th>\n",
       "      <th>ESTU_COD_RESIDE_MCPIO</th>\n",
       "      <th>...</th>\n",
       "      <th>PERCENTIL_C_NATURALES</th>\n",
       "      <th>DESEMP_C_NATURALES</th>\n",
       "      <th>PUNT_SOCIALES_CIUDADANAS</th>\n",
       "      <th>PERCENTIL_SOCIALES_CIUDADANAS</th>\n",
       "      <th>DESEMP_SOCIALES_CIUDADANAS</th>\n",
       "      <th>PUNT_INGLES</th>\n",
       "      <th>PERCENTIL_INGLES</th>\n",
       "      <th>DESEMP_INGLES</th>\n",
       "      <th>PUNT_GLOBAL</th>\n",
       "      <th>PERCENTIL_GLOBAL</th>\n",
       "    </tr>\n",
       "  </thead>\n",
       "  <tbody>\n",
       "    <tr>\n",
       "      <th>0</th>\n",
       "      <td>00000000-0000-0000-B30A-5F2FE234EE93</td>\n",
       "      <td>COLOMBIA</td>\n",
       "      <td>F</td>\n",
       "      <td>35</td>\n",
       "      <td>SB11202010045555</td>\n",
       "      <td>COLOMBIA</td>\n",
       "      <td>CESAR</td>\n",
       "      <td>20.0</td>\n",
       "      <td>SAN DIEGO</td>\n",
       "      <td>20750.0</td>\n",
       "      <td>...</td>\n",
       "      <td>6</td>\n",
       "      <td>1</td>\n",
       "      <td>24</td>\n",
       "      <td>1</td>\n",
       "      <td>1</td>\n",
       "      <td>36.0</td>\n",
       "      <td>7</td>\n",
       "      <td>A-</td>\n",
       "      <td>164</td>\n",
       "      <td>2.0</td>\n",
       "    </tr>\n",
       "    <tr>\n",
       "      <th>1</th>\n",
       "      <td>00000000-0000-0000-F3E5-3E18272D8C28</td>\n",
       "      <td>COLOMBIA</td>\n",
       "      <td>F</td>\n",
       "      <td>25</td>\n",
       "      <td>SB11202010045719</td>\n",
       "      <td>COLOMBIA</td>\n",
       "      <td>NARIÑO</td>\n",
       "      <td>52.0</td>\n",
       "      <td>IPIALES</td>\n",
       "      <td>52356.0</td>\n",
       "      <td>...</td>\n",
       "      <td>10</td>\n",
       "      <td>1</td>\n",
       "      <td>44</td>\n",
       "      <td>23</td>\n",
       "      <td>2</td>\n",
       "      <td>30.0</td>\n",
       "      <td>3</td>\n",
       "      <td>A-</td>\n",
       "      <td>202</td>\n",
       "      <td>10.0</td>\n",
       "    </tr>\n",
       "    <tr>\n",
       "      <th>2</th>\n",
       "      <td>00000000-0000-0000-2E67-572B8AFB010B</td>\n",
       "      <td>COLOMBIA</td>\n",
       "      <td>F</td>\n",
       "      <td>23</td>\n",
       "      <td>SB11202010070662</td>\n",
       "      <td>COLOMBIA</td>\n",
       "      <td>CAUCA</td>\n",
       "      <td>19.0</td>\n",
       "      <td>TOTORÓ</td>\n",
       "      <td>19824.0</td>\n",
       "      <td>...</td>\n",
       "      <td>4</td>\n",
       "      <td>1</td>\n",
       "      <td>24</td>\n",
       "      <td>1</td>\n",
       "      <td>1</td>\n",
       "      <td>30.0</td>\n",
       "      <td>3</td>\n",
       "      <td>A-</td>\n",
       "      <td>162</td>\n",
       "      <td>2.0</td>\n",
       "    </tr>\n",
       "  </tbody>\n",
       "</table>\n",
       "<p>3 rows × 32 columns</p>\n",
       "</div>"
      ],
      "text/plain": [
       "                                     id ESTU_NACIONALIDAD ESTU_GENERO  \\\n",
       "0  00000000-0000-0000-B30A-5F2FE234EE93          COLOMBIA           F   \n",
       "1  00000000-0000-0000-F3E5-3E18272D8C28          COLOMBIA           F   \n",
       "2  00000000-0000-0000-2E67-572B8AFB010B          COLOMBIA           F   \n",
       "\n",
       "   ESTU_EDAD  ESTU_CONSECUTIVO ESTU_PAIS_RESIDE ESTU_DEPTO_RESIDE  \\\n",
       "0         35  SB11202010045555         COLOMBIA             CESAR   \n",
       "1         25  SB11202010045719         COLOMBIA            NARIÑO   \n",
       "2         23  SB11202010070662         COLOMBIA             CAUCA   \n",
       "\n",
       "   ESTU_COD_RESIDE_DEPTO ESTU_MCPIO_RESIDE  ESTU_COD_RESIDE_MCPIO  ...  \\\n",
       "0                   20.0         SAN DIEGO                20750.0  ...   \n",
       "1                   52.0           IPIALES                52356.0  ...   \n",
       "2                   19.0            TOTORÓ                19824.0  ...   \n",
       "\n",
       "   PERCENTIL_C_NATURALES  DESEMP_C_NATURALES  PUNT_SOCIALES_CIUDADANAS  \\\n",
       "0                      6                   1                        24   \n",
       "1                     10                   1                        44   \n",
       "2                      4                   1                        24   \n",
       "\n",
       "  PERCENTIL_SOCIALES_CIUDADANAS DESEMP_SOCIALES_CIUDADANAS  PUNT_INGLES  \\\n",
       "0                             1                          1         36.0   \n",
       "1                            23                          2         30.0   \n",
       "2                             1                          1         30.0   \n",
       "\n",
       "   PERCENTIL_INGLES  DESEMP_INGLES  PUNT_GLOBAL  PERCENTIL_GLOBAL  \n",
       "0                 7             A-          164               2.0  \n",
       "1                 3             A-          202              10.0  \n",
       "2                 3             A-          162               2.0  \n",
       "\n",
       "[3 rows x 32 columns]"
      ]
     },
     "execution_count": 26,
     "metadata": {},
     "output_type": "execute_result"
    }
   ],
   "source": [
    "df_saber_11.head(3)"
   ]
  },
  {
   "cell_type": "markdown",
   "id": "1e4da0dc-19b8-475d-b0c1-34261c5f87c7",
   "metadata": {},
   "source": [
    "##### Se consultan y eliminan regstros que en su puntaje global dio como resultado 0 ya que no tiene información de puntajes en ningún área evaluada"
   ]
  },
  {
   "cell_type": "code",
   "execution_count": 46,
   "id": "e60393fb-fe06-488d-a68a-de3fdc4de589",
   "metadata": {},
   "outputs": [
    {
     "name": "stdout",
     "output_type": "stream",
     "text": [
      "puntaje global:  [0]\n",
      "puntaje percentil global:  [1.]\n",
      "puntaje desempeño ciencias naturales:  [1]\n",
      "puntaje desempeño ciencias ciudadanas:  [1]\n",
      "puntaje desempeño ingles:  ['A-']\n"
     ]
    }
   ],
   "source": [
    "df_saber_11_result0 = df_saber_11[df_saber_11['PUNT_GLOBAL'] == 0]\n",
    "print('puntaje global: ',df_saber_11_result0['PUNT_GLOBAL'].unique())\n",
    "print('puntaje percentil global: ',df_saber_11_result0['PERCENTIL_GLOBAL'].unique())\n",
    "print('puntaje desempeño ciencias naturales: ',df_saber_11_result0['DESEMP_C_NATURALES'].unique())\n",
    "print('puntaje desempeño ciencias ciudadanas: ',df_saber_11_result0['DESEMP_SOCIALES_CIUDADANAS'].unique())\n",
    "print('puntaje desempeño ingles: ',df_saber_11_result0['DESEMP_INGLES'].unique())"
   ]
  },
  {
   "cell_type": "code",
   "execution_count": 47,
   "id": "f3fd7cac-1c81-4316-b0f3-620069513f8d",
   "metadata": {},
   "outputs": [
    {
     "data": {
      "text/plain": [
       "(513120, 32)"
      ]
     },
     "execution_count": 47,
     "metadata": {},
     "output_type": "execute_result"
    }
   ],
   "source": [
    "df_saber_11_v2 = df_saber_11[df_saber_11['PUNT_GLOBAL'] != 0]\n",
    "df_saber_11_v2.shape"
   ]
  },
  {
   "cell_type": "code",
   "execution_count": 48,
   "id": "dcb8a206-6446-456e-b4cc-b1b8db1f76e1",
   "metadata": {},
   "outputs": [
    {
     "data": {
      "text/plain": [
       "Index(['id', 'ESTU_NACIONALIDAD', 'ESTU_GENERO', 'ESTU_EDAD',\n",
       "       'ESTU_CONSECUTIVO', 'ESTU_PAIS_RESIDE', 'ESTU_DEPTO_RESIDE',\n",
       "       'ESTU_COD_RESIDE_DEPTO', 'ESTU_MCPIO_RESIDE', 'ESTU_COD_RESIDE_MCPIO',\n",
       "       'FAMI_ESTRATOVIVIENDA', 'FAMI_TIENEINTERNET', 'FAMI_TIENECOMPUTADOR',\n",
       "       'FAMI_SITUACIONECONOMICA', 'ESTU_DEDICACIONINTERNET',\n",
       "       'PUNT_LECTURA_CRITICA', 'PERCENTIL_LECTURA_CRITICA',\n",
       "       'DESEMP_LECTURA_CRITICA', 'PUNT_MATEMATICAS', 'PERCENTIL_MATEMATICAS',\n",
       "       'DESEMP_MATEMATICAS', 'PUNT_C_NATURALES', 'PERCENTIL_C_NATURALES',\n",
       "       'DESEMP_C_NATURALES', 'PUNT_SOCIALES_CIUDADANAS',\n",
       "       'PERCENTIL_SOCIALES_CIUDADANAS', 'DESEMP_SOCIALES_CIUDADANAS',\n",
       "       'PUNT_INGLES', 'PERCENTIL_INGLES', 'DESEMP_INGLES', 'PUNT_GLOBAL',\n",
       "       'PERCENTIL_GLOBAL'],\n",
       "      dtype='object')"
      ]
     },
     "execution_count": 48,
     "metadata": {},
     "output_type": "execute_result"
    }
   ],
   "source": [
    "df_saber_11_v2.columns"
   ]
  },
  {
   "cell_type": "markdown",
   "id": "278563ee-f7d1-4510-a485-662942493a9f",
   "metadata": {},
   "source": [
    "##### Interpretación de resultados pruebas Saber 11\n",
    "\n",
    "* El puntaje global va de **0 a 500** puntos sin decimales.\n",
    "* El puntaje de cada prueba va de **0 a 100**puntos sin decimales.\n",
    "* Los niveles de desempeño definidos son: Insuficiente, Mínimo, Satisfactorio y Avanzado. Para todas las áreas, excepto Inglés. Son 4 niveles de desempeño donde 1 es el nivel más bajo y 4 el más alto.\n",
    "* Los niveles de desempeño definidos para Inglés son: A-, A1, A2, B1, B+.\n",
    "* Los niveles de desempeño definen lo que sabe y sabe hacer el estudiante.\n",
    "* Los percentiles indican cómo se encuentra el resultado del evaluado con respecto a los resultados de los estudiantes del país: Ya no vas a encontrar puestos sino percentiles, estos se definen como un puesto relativo."
   ]
  },
  {
   "cell_type": "code",
   "execution_count": 49,
   "id": "330d3ab8-5809-4633-868e-48130d34354e",
   "metadata": {},
   "outputs": [
    {
     "data": {
      "text/html": [
       "<div>\n",
       "<style scoped>\n",
       "    .dataframe tbody tr th:only-of-type {\n",
       "        vertical-align: middle;\n",
       "    }\n",
       "\n",
       "    .dataframe tbody tr th {\n",
       "        vertical-align: top;\n",
       "    }\n",
       "\n",
       "    .dataframe thead th {\n",
       "        text-align: right;\n",
       "    }\n",
       "</style>\n",
       "<table border=\"1\" class=\"dataframe\">\n",
       "  <thead>\n",
       "    <tr style=\"text-align: right;\">\n",
       "      <th></th>\n",
       "      <th>mean</th>\n",
       "      <th>max</th>\n",
       "      <th>min</th>\n",
       "    </tr>\n",
       "    <tr>\n",
       "      <th>ESTU_NACIONALIDAD</th>\n",
       "      <th></th>\n",
       "      <th></th>\n",
       "      <th></th>\n",
       "    </tr>\n",
       "  </thead>\n",
       "  <tbody>\n",
       "    <tr>\n",
       "      <th>COLOMBIA</th>\n",
       "      <td>249.317364</td>\n",
       "      <td>500</td>\n",
       "      <td>11</td>\n",
       "    </tr>\n",
       "  </tbody>\n",
       "</table>\n",
       "</div>"
      ],
      "text/plain": [
       "                         mean  max  min\n",
       "ESTU_NACIONALIDAD                      \n",
       "COLOMBIA           249.317364  500   11"
      ]
     },
     "execution_count": 49,
     "metadata": {},
     "output_type": "execute_result"
    }
   ],
   "source": [
    "df_saber_11_v2.groupby(['ESTU_NACIONALIDAD'])['PUNT_GLOBAL'].agg(['mean','max','min'])"
   ]
  },
  {
   "cell_type": "code",
   "execution_count": 50,
   "id": "4a9b7798-c3ef-41c7-ad14-cad67bef7be6",
   "metadata": {},
   "outputs": [
    {
     "data": {
      "text/html": [
       "<div>\n",
       "<style scoped>\n",
       "    .dataframe tbody tr th:only-of-type {\n",
       "        vertical-align: middle;\n",
       "    }\n",
       "\n",
       "    .dataframe tbody tr th {\n",
       "        vertical-align: top;\n",
       "    }\n",
       "\n",
       "    .dataframe thead th {\n",
       "        text-align: right;\n",
       "    }\n",
       "</style>\n",
       "<table border=\"1\" class=\"dataframe\">\n",
       "  <thead>\n",
       "    <tr style=\"text-align: right;\">\n",
       "      <th></th>\n",
       "      <th>mean</th>\n",
       "      <th>max</th>\n",
       "      <th>min</th>\n",
       "    </tr>\n",
       "    <tr>\n",
       "      <th>ESTU_GENERO</th>\n",
       "      <th></th>\n",
       "      <th></th>\n",
       "      <th></th>\n",
       "    </tr>\n",
       "  </thead>\n",
       "  <tbody>\n",
       "    <tr>\n",
       "      <th>F</th>\n",
       "      <td>246.082831</td>\n",
       "      <td>492</td>\n",
       "      <td>11</td>\n",
       "    </tr>\n",
       "    <tr>\n",
       "      <th>M</th>\n",
       "      <td>253.214072</td>\n",
       "      <td>500</td>\n",
       "      <td>12</td>\n",
       "    </tr>\n",
       "  </tbody>\n",
       "</table>\n",
       "</div>"
      ],
      "text/plain": [
       "                   mean  max  min\n",
       "ESTU_GENERO                      \n",
       "F            246.082831  492   11\n",
       "M            253.214072  500   12"
      ]
     },
     "execution_count": 50,
     "metadata": {},
     "output_type": "execute_result"
    }
   ],
   "source": [
    "df_saber_11_v2.groupby(['ESTU_GENERO'])['PUNT_GLOBAL'].agg(['mean','max','min'])"
   ]
  },
  {
   "cell_type": "markdown",
   "id": "d628f343-3f6c-43a3-b6fa-5ebf64b7d627",
   "metadata": {},
   "source": [
    "#### ¿Cómo les va en las pruebas de matemáticas y lógica a los estudiantes 2020?\n",
    "\n",
    "Puntaje matemáticas"
   ]
  },
  {
   "cell_type": "code",
   "execution_count": 54,
   "id": "ada77d76-87a5-4745-8288-42010a05d26f",
   "metadata": {},
   "outputs": [
    {
     "data": {
      "text/html": [
       "<div>\n",
       "<style scoped>\n",
       "    .dataframe tbody tr th:only-of-type {\n",
       "        vertical-align: middle;\n",
       "    }\n",
       "\n",
       "    .dataframe tbody tr th {\n",
       "        vertical-align: top;\n",
       "    }\n",
       "\n",
       "    .dataframe thead th {\n",
       "        text-align: right;\n",
       "    }\n",
       "</style>\n",
       "<table border=\"1\" class=\"dataframe\">\n",
       "  <thead>\n",
       "    <tr style=\"text-align: right;\">\n",
       "      <th></th>\n",
       "      <th>mean</th>\n",
       "      <th>max</th>\n",
       "      <th>min</th>\n",
       "    </tr>\n",
       "    <tr>\n",
       "      <th>ESTU_GENERO</th>\n",
       "      <th></th>\n",
       "      <th></th>\n",
       "      <th></th>\n",
       "    </tr>\n",
       "  </thead>\n",
       "  <tbody>\n",
       "    <tr>\n",
       "      <th>F</th>\n",
       "      <td>49.859924</td>\n",
       "      <td>100</td>\n",
       "      <td>0</td>\n",
       "    </tr>\n",
       "    <tr>\n",
       "      <th>M</th>\n",
       "      <td>52.830045</td>\n",
       "      <td>100</td>\n",
       "      <td>0</td>\n",
       "    </tr>\n",
       "  </tbody>\n",
       "</table>\n",
       "</div>"
      ],
      "text/plain": [
       "                  mean  max  min\n",
       "ESTU_GENERO                     \n",
       "F            49.859924  100    0\n",
       "M            52.830045  100    0"
      ]
     },
     "execution_count": 54,
     "metadata": {},
     "output_type": "execute_result"
    }
   ],
   "source": [
    "df_saber_11_v2.groupby(['ESTU_GENERO'])['PUNT_MATEMATICAS'].agg(['mean','max','min'])"
   ]
  },
  {
   "cell_type": "markdown",
   "id": "ba9b988c-a1a9-46ae-a966-8c887961fdfe",
   "metadata": {},
   "source": [
    "Desempeño matemáticas"
   ]
  },
  {
   "cell_type": "code",
   "execution_count": 56,
   "id": "a0cfed10-43d5-4240-b930-3b9c8e4b7f8e",
   "metadata": {},
   "outputs": [
    {
     "data": {
      "text/html": [
       "<div>\n",
       "<style scoped>\n",
       "    .dataframe tbody tr th:only-of-type {\n",
       "        vertical-align: middle;\n",
       "    }\n",
       "\n",
       "    .dataframe tbody tr th {\n",
       "        vertical-align: top;\n",
       "    }\n",
       "\n",
       "    .dataframe thead th {\n",
       "        text-align: right;\n",
       "    }\n",
       "</style>\n",
       "<table border=\"1\" class=\"dataframe\">\n",
       "  <thead>\n",
       "    <tr style=\"text-align: right;\">\n",
       "      <th></th>\n",
       "      <th>mean</th>\n",
       "      <th>max</th>\n",
       "      <th>min</th>\n",
       "    </tr>\n",
       "    <tr>\n",
       "      <th>ESTU_GENERO</th>\n",
       "      <th></th>\n",
       "      <th></th>\n",
       "      <th></th>\n",
       "    </tr>\n",
       "  </thead>\n",
       "  <tbody>\n",
       "    <tr>\n",
       "      <th>F</th>\n",
       "      <td>2.404954</td>\n",
       "      <td>4</td>\n",
       "      <td>1</td>\n",
       "    </tr>\n",
       "    <tr>\n",
       "      <th>M</th>\n",
       "      <td>2.571294</td>\n",
       "      <td>4</td>\n",
       "      <td>1</td>\n",
       "    </tr>\n",
       "  </tbody>\n",
       "</table>\n",
       "</div>"
      ],
      "text/plain": [
       "                 mean  max  min\n",
       "ESTU_GENERO                    \n",
       "F            2.404954    4    1\n",
       "M            2.571294    4    1"
      ]
     },
     "execution_count": 56,
     "metadata": {},
     "output_type": "execute_result"
    }
   ],
   "source": [
    "df_saber_11_v2.groupby(['ESTU_GENERO'])['DESEMP_MATEMATICAS'].agg(['mean','max','min'])"
   ]
  },
  {
   "cell_type": "markdown",
   "id": "5b02a950-951b-4165-af1e-3f9627a344fa",
   "metadata": {},
   "source": [
    "### Análisis según condiciones de vivienda del estudiante para las pruebas matemáticas\n",
    "\n",
    "#### Estrato vivivenda"
   ]
  },
  {
   "cell_type": "code",
   "execution_count": 57,
   "id": "af2fdcde-f0d8-4f98-a47a-074c585d741a",
   "metadata": {},
   "outputs": [
    {
     "data": {
      "text/html": [
       "<div>\n",
       "<style scoped>\n",
       "    .dataframe tbody tr th:only-of-type {\n",
       "        vertical-align: middle;\n",
       "    }\n",
       "\n",
       "    .dataframe tbody tr th {\n",
       "        vertical-align: top;\n",
       "    }\n",
       "\n",
       "    .dataframe thead th {\n",
       "        text-align: right;\n",
       "    }\n",
       "</style>\n",
       "<table border=\"1\" class=\"dataframe\">\n",
       "  <thead>\n",
       "    <tr style=\"text-align: right;\">\n",
       "      <th></th>\n",
       "      <th>mean</th>\n",
       "      <th>max</th>\n",
       "      <th>min</th>\n",
       "    </tr>\n",
       "    <tr>\n",
       "      <th>FAMI_ESTRATOVIVIENDA</th>\n",
       "      <th></th>\n",
       "      <th></th>\n",
       "      <th></th>\n",
       "    </tr>\n",
       "  </thead>\n",
       "  <tbody>\n",
       "    <tr>\n",
       "      <th>0</th>\n",
       "      <td>225.098908</td>\n",
       "      <td>447</td>\n",
       "      <td>11</td>\n",
       "    </tr>\n",
       "    <tr>\n",
       "      <th>1</th>\n",
       "      <td>236.935463</td>\n",
       "      <td>500</td>\n",
       "      <td>98</td>\n",
       "    </tr>\n",
       "    <tr>\n",
       "      <th>2</th>\n",
       "      <td>250.436230</td>\n",
       "      <td>500</td>\n",
       "      <td>23</td>\n",
       "    </tr>\n",
       "    <tr>\n",
       "      <th>3</th>\n",
       "      <td>262.735574</td>\n",
       "      <td>475</td>\n",
       "      <td>12</td>\n",
       "    </tr>\n",
       "    <tr>\n",
       "      <th>4</th>\n",
       "      <td>276.225207</td>\n",
       "      <td>492</td>\n",
       "      <td>83</td>\n",
       "    </tr>\n",
       "    <tr>\n",
       "      <th>5</th>\n",
       "      <td>280.037944</td>\n",
       "      <td>479</td>\n",
       "      <td>128</td>\n",
       "    </tr>\n",
       "    <tr>\n",
       "      <th>6</th>\n",
       "      <td>279.812300</td>\n",
       "      <td>470</td>\n",
       "      <td>121</td>\n",
       "    </tr>\n",
       "  </tbody>\n",
       "</table>\n",
       "</div>"
      ],
      "text/plain": [
       "                            mean  max  min\n",
       "FAMI_ESTRATOVIVIENDA                      \n",
       "0                     225.098908  447   11\n",
       "1                     236.935463  500   98\n",
       "2                     250.436230  500   23\n",
       "3                     262.735574  475   12\n",
       "4                     276.225207  492   83\n",
       "5                     280.037944  479  128\n",
       "6                     279.812300  470  121"
      ]
     },
     "execution_count": 57,
     "metadata": {},
     "output_type": "execute_result"
    }
   ],
   "source": [
    "df_saber_11_v2.groupby(['FAMI_ESTRATOVIVIENDA'])['PUNT_GLOBAL'].agg(['mean','max','min'])"
   ]
  },
  {
   "cell_type": "code",
   "execution_count": 59,
   "id": "e0024b3b-49c8-4552-bebb-698de5d12137",
   "metadata": {},
   "outputs": [
    {
     "data": {
      "text/html": [
       "<div>\n",
       "<style scoped>\n",
       "    .dataframe tbody tr th:only-of-type {\n",
       "        vertical-align: middle;\n",
       "    }\n",
       "\n",
       "    .dataframe tbody tr th {\n",
       "        vertical-align: top;\n",
       "    }\n",
       "\n",
       "    .dataframe thead th {\n",
       "        text-align: right;\n",
       "    }\n",
       "</style>\n",
       "<table border=\"1\" class=\"dataframe\">\n",
       "  <thead>\n",
       "    <tr style=\"text-align: right;\">\n",
       "      <th></th>\n",
       "      <th>mean</th>\n",
       "      <th>max</th>\n",
       "      <th>min</th>\n",
       "    </tr>\n",
       "    <tr>\n",
       "      <th>FAMI_ESTRATOVIVIENDA</th>\n",
       "      <th></th>\n",
       "      <th></th>\n",
       "      <th></th>\n",
       "    </tr>\n",
       "  </thead>\n",
       "  <tbody>\n",
       "    <tr>\n",
       "      <th>0</th>\n",
       "      <td>46.232223</td>\n",
       "      <td>100</td>\n",
       "      <td>0</td>\n",
       "    </tr>\n",
       "    <tr>\n",
       "      <th>1</th>\n",
       "      <td>48.743795</td>\n",
       "      <td>100</td>\n",
       "      <td>0</td>\n",
       "    </tr>\n",
       "    <tr>\n",
       "      <th>2</th>\n",
       "      <td>51.512483</td>\n",
       "      <td>100</td>\n",
       "      <td>0</td>\n",
       "    </tr>\n",
       "    <tr>\n",
       "      <th>3</th>\n",
       "      <td>53.853682</td>\n",
       "      <td>100</td>\n",
       "      <td>0</td>\n",
       "    </tr>\n",
       "    <tr>\n",
       "      <th>4</th>\n",
       "      <td>56.413591</td>\n",
       "      <td>100</td>\n",
       "      <td>0</td>\n",
       "    </tr>\n",
       "    <tr>\n",
       "      <th>5</th>\n",
       "      <td>57.046832</td>\n",
       "      <td>100</td>\n",
       "      <td>17</td>\n",
       "    </tr>\n",
       "    <tr>\n",
       "      <th>6</th>\n",
       "      <td>56.973308</td>\n",
       "      <td>100</td>\n",
       "      <td>18</td>\n",
       "    </tr>\n",
       "  </tbody>\n",
       "</table>\n",
       "</div>"
      ],
      "text/plain": [
       "                           mean  max  min\n",
       "FAMI_ESTRATOVIVIENDA                     \n",
       "0                     46.232223  100    0\n",
       "1                     48.743795  100    0\n",
       "2                     51.512483  100    0\n",
       "3                     53.853682  100    0\n",
       "4                     56.413591  100    0\n",
       "5                     57.046832  100   17\n",
       "6                     56.973308  100   18"
      ]
     },
     "execution_count": 59,
     "metadata": {},
     "output_type": "execute_result"
    }
   ],
   "source": [
    "df_saber_11_v2.groupby(['FAMI_ESTRATOVIVIENDA'])['PUNT_MATEMATICAS'].agg(['mean','max','min'])"
   ]
  },
  {
   "cell_type": "code",
   "execution_count": 60,
   "id": "459854bf-1ffd-42df-a40c-987a7e8e1d8f",
   "metadata": {},
   "outputs": [
    {
     "data": {
      "text/html": [
       "<div>\n",
       "<style scoped>\n",
       "    .dataframe tbody tr th:only-of-type {\n",
       "        vertical-align: middle;\n",
       "    }\n",
       "\n",
       "    .dataframe tbody tr th {\n",
       "        vertical-align: top;\n",
       "    }\n",
       "\n",
       "    .dataframe thead th {\n",
       "        text-align: right;\n",
       "    }\n",
       "</style>\n",
       "<table border=\"1\" class=\"dataframe\">\n",
       "  <thead>\n",
       "    <tr style=\"text-align: right;\">\n",
       "      <th></th>\n",
       "      <th>mean</th>\n",
       "      <th>max</th>\n",
       "      <th>min</th>\n",
       "    </tr>\n",
       "    <tr>\n",
       "      <th>FAMI_ESTRATOVIVIENDA</th>\n",
       "      <th></th>\n",
       "      <th></th>\n",
       "      <th></th>\n",
       "    </tr>\n",
       "  </thead>\n",
       "  <tbody>\n",
       "    <tr>\n",
       "      <th>0</th>\n",
       "      <td>2.188231</td>\n",
       "      <td>4</td>\n",
       "      <td>1</td>\n",
       "    </tr>\n",
       "    <tr>\n",
       "      <th>1</th>\n",
       "      <td>2.344713</td>\n",
       "      <td>4</td>\n",
       "      <td>1</td>\n",
       "    </tr>\n",
       "    <tr>\n",
       "      <th>2</th>\n",
       "      <td>2.505234</td>\n",
       "      <td>4</td>\n",
       "      <td>1</td>\n",
       "    </tr>\n",
       "    <tr>\n",
       "      <th>3</th>\n",
       "      <td>2.629048</td>\n",
       "      <td>4</td>\n",
       "      <td>1</td>\n",
       "    </tr>\n",
       "    <tr>\n",
       "      <th>4</th>\n",
       "      <td>2.743738</td>\n",
       "      <td>4</td>\n",
       "      <td>1</td>\n",
       "    </tr>\n",
       "    <tr>\n",
       "      <th>5</th>\n",
       "      <td>2.764357</td>\n",
       "      <td>4</td>\n",
       "      <td>1</td>\n",
       "    </tr>\n",
       "    <tr>\n",
       "      <th>6</th>\n",
       "      <td>2.748238</td>\n",
       "      <td>4</td>\n",
       "      <td>1</td>\n",
       "    </tr>\n",
       "  </tbody>\n",
       "</table>\n",
       "</div>"
      ],
      "text/plain": [
       "                          mean  max  min\n",
       "FAMI_ESTRATOVIVIENDA                    \n",
       "0                     2.188231    4    1\n",
       "1                     2.344713    4    1\n",
       "2                     2.505234    4    1\n",
       "3                     2.629048    4    1\n",
       "4                     2.743738    4    1\n",
       "5                     2.764357    4    1\n",
       "6                     2.748238    4    1"
      ]
     },
     "execution_count": 60,
     "metadata": {},
     "output_type": "execute_result"
    }
   ],
   "source": [
    "df_saber_11_v2.groupby(['FAMI_ESTRATOVIVIENDA'])['DESEMP_MATEMATICAS'].agg(['mean','max','min'])"
   ]
  },
  {
   "cell_type": "markdown",
   "id": "b56ec951-e807-4333-9b12-a1207e32afbd",
   "metadata": {},
   "source": [
    "#### Si la familia tiene o no tiene Internet"
   ]
  },
  {
   "cell_type": "code",
   "execution_count": 61,
   "id": "bcdce714-9b69-4f76-90d9-4847f977f6b4",
   "metadata": {},
   "outputs": [
    {
     "data": {
      "text/html": [
       "<div>\n",
       "<style scoped>\n",
       "    .dataframe tbody tr th:only-of-type {\n",
       "        vertical-align: middle;\n",
       "    }\n",
       "\n",
       "    .dataframe tbody tr th {\n",
       "        vertical-align: top;\n",
       "    }\n",
       "\n",
       "    .dataframe thead th {\n",
       "        text-align: right;\n",
       "    }\n",
       "</style>\n",
       "<table border=\"1\" class=\"dataframe\">\n",
       "  <thead>\n",
       "    <tr style=\"text-align: right;\">\n",
       "      <th></th>\n",
       "      <th>mean</th>\n",
       "      <th>max</th>\n",
       "      <th>min</th>\n",
       "    </tr>\n",
       "    <tr>\n",
       "      <th>FAMI_TIENEINTERNET</th>\n",
       "      <th></th>\n",
       "      <th></th>\n",
       "      <th></th>\n",
       "    </tr>\n",
       "  </thead>\n",
       "  <tbody>\n",
       "    <tr>\n",
       "      <th>0.0</th>\n",
       "      <td>46.437708</td>\n",
       "      <td>100</td>\n",
       "      <td>0</td>\n",
       "    </tr>\n",
       "    <tr>\n",
       "      <th>1.0</th>\n",
       "      <td>53.298253</td>\n",
       "      <td>100</td>\n",
       "      <td>0</td>\n",
       "    </tr>\n",
       "  </tbody>\n",
       "</table>\n",
       "</div>"
      ],
      "text/plain": [
       "                         mean  max  min\n",
       "FAMI_TIENEINTERNET                     \n",
       "0.0                 46.437708  100    0\n",
       "1.0                 53.298253  100    0"
      ]
     },
     "execution_count": 61,
     "metadata": {},
     "output_type": "execute_result"
    }
   ],
   "source": [
    "df_saber_11_v2.groupby(['FAMI_TIENEINTERNET'])['PUNT_MATEMATICAS'].agg(['mean','max','min'])"
   ]
  },
  {
   "cell_type": "code",
   "execution_count": 62,
   "id": "208ac3dc-0111-469e-ae2a-ac8c2ee3f1c3",
   "metadata": {},
   "outputs": [
    {
     "data": {
      "text/html": [
       "<div>\n",
       "<style scoped>\n",
       "    .dataframe tbody tr th:only-of-type {\n",
       "        vertical-align: middle;\n",
       "    }\n",
       "\n",
       "    .dataframe tbody tr th {\n",
       "        vertical-align: top;\n",
       "    }\n",
       "\n",
       "    .dataframe thead th {\n",
       "        text-align: right;\n",
       "    }\n",
       "</style>\n",
       "<table border=\"1\" class=\"dataframe\">\n",
       "  <thead>\n",
       "    <tr style=\"text-align: right;\">\n",
       "      <th></th>\n",
       "      <th>mean</th>\n",
       "      <th>max</th>\n",
       "      <th>min</th>\n",
       "    </tr>\n",
       "    <tr>\n",
       "      <th>FAMI_TIENEINTERNET</th>\n",
       "      <th></th>\n",
       "      <th></th>\n",
       "      <th></th>\n",
       "    </tr>\n",
       "  </thead>\n",
       "  <tbody>\n",
       "    <tr>\n",
       "      <th>0.0</th>\n",
       "      <td>2.207519</td>\n",
       "      <td>4</td>\n",
       "      <td>1</td>\n",
       "    </tr>\n",
       "    <tr>\n",
       "      <th>1.0</th>\n",
       "      <td>2.599978</td>\n",
       "      <td>4</td>\n",
       "      <td>1</td>\n",
       "    </tr>\n",
       "  </tbody>\n",
       "</table>\n",
       "</div>"
      ],
      "text/plain": [
       "                        mean  max  min\n",
       "FAMI_TIENEINTERNET                    \n",
       "0.0                 2.207519    4    1\n",
       "1.0                 2.599978    4    1"
      ]
     },
     "execution_count": 62,
     "metadata": {},
     "output_type": "execute_result"
    }
   ],
   "source": [
    "df_saber_11_v2.groupby(['FAMI_TIENEINTERNET'])['DESEMP_MATEMATICAS'].agg(['mean','max','min'])"
   ]
  },
  {
   "cell_type": "markdown",
   "id": "512f2806-e1c8-4d60-ba7b-1c7d13d85ebf",
   "metadata": {},
   "source": [
    "#### Si la familia tiene o no tiene computador"
   ]
  },
  {
   "cell_type": "code",
   "execution_count": 64,
   "id": "177decb5-8075-4c2a-a080-af7ecae08a6a",
   "metadata": {},
   "outputs": [
    {
     "data": {
      "text/html": [
       "<div>\n",
       "<style scoped>\n",
       "    .dataframe tbody tr th:only-of-type {\n",
       "        vertical-align: middle;\n",
       "    }\n",
       "\n",
       "    .dataframe tbody tr th {\n",
       "        vertical-align: top;\n",
       "    }\n",
       "\n",
       "    .dataframe thead th {\n",
       "        text-align: right;\n",
       "    }\n",
       "</style>\n",
       "<table border=\"1\" class=\"dataframe\">\n",
       "  <thead>\n",
       "    <tr style=\"text-align: right;\">\n",
       "      <th></th>\n",
       "      <th>mean</th>\n",
       "      <th>max</th>\n",
       "      <th>min</th>\n",
       "    </tr>\n",
       "    <tr>\n",
       "      <th>FAMI_TIENECOMPUTADOR</th>\n",
       "      <th></th>\n",
       "      <th></th>\n",
       "      <th></th>\n",
       "    </tr>\n",
       "  </thead>\n",
       "  <tbody>\n",
       "    <tr>\n",
       "      <th>0.0</th>\n",
       "      <td>47.214174</td>\n",
       "      <td>100</td>\n",
       "      <td>0</td>\n",
       "    </tr>\n",
       "    <tr>\n",
       "      <th>1.0</th>\n",
       "      <td>53.857000</td>\n",
       "      <td>100</td>\n",
       "      <td>0</td>\n",
       "    </tr>\n",
       "  </tbody>\n",
       "</table>\n",
       "</div>"
      ],
      "text/plain": [
       "                           mean  max  min\n",
       "FAMI_TIENECOMPUTADOR                     \n",
       "0.0                   47.214174  100    0\n",
       "1.0                   53.857000  100    0"
      ]
     },
     "execution_count": 64,
     "metadata": {},
     "output_type": "execute_result"
    }
   ],
   "source": [
    "df_saber_11_v2.groupby(['FAMI_TIENECOMPUTADOR'])['PUNT_MATEMATICAS'].agg(['mean','max','min'])"
   ]
  },
  {
   "cell_type": "code",
   "execution_count": 65,
   "id": "72476851-cf91-4e8e-919a-83060f52c410",
   "metadata": {},
   "outputs": [
    {
     "data": {
      "text/html": [
       "<div>\n",
       "<style scoped>\n",
       "    .dataframe tbody tr th:only-of-type {\n",
       "        vertical-align: middle;\n",
       "    }\n",
       "\n",
       "    .dataframe tbody tr th {\n",
       "        vertical-align: top;\n",
       "    }\n",
       "\n",
       "    .dataframe thead th {\n",
       "        text-align: right;\n",
       "    }\n",
       "</style>\n",
       "<table border=\"1\" class=\"dataframe\">\n",
       "  <thead>\n",
       "    <tr style=\"text-align: right;\">\n",
       "      <th></th>\n",
       "      <th>mean</th>\n",
       "      <th>max</th>\n",
       "      <th>min</th>\n",
       "    </tr>\n",
       "    <tr>\n",
       "      <th>FAMI_TIENECOMPUTADOR</th>\n",
       "      <th></th>\n",
       "      <th></th>\n",
       "      <th></th>\n",
       "    </tr>\n",
       "  </thead>\n",
       "  <tbody>\n",
       "    <tr>\n",
       "      <th>0.0</th>\n",
       "      <td>2.255302</td>\n",
       "      <td>4</td>\n",
       "      <td>1</td>\n",
       "    </tr>\n",
       "    <tr>\n",
       "      <th>1.0</th>\n",
       "      <td>2.629957</td>\n",
       "      <td>4</td>\n",
       "      <td>1</td>\n",
       "    </tr>\n",
       "  </tbody>\n",
       "</table>\n",
       "</div>"
      ],
      "text/plain": [
       "                          mean  max  min\n",
       "FAMI_TIENECOMPUTADOR                    \n",
       "0.0                   2.255302    4    1\n",
       "1.0                   2.629957    4    1"
      ]
     },
     "execution_count": 65,
     "metadata": {},
     "output_type": "execute_result"
    }
   ],
   "source": [
    "df_saber_11_v2.groupby(['FAMI_TIENECOMPUTADOR'])['DESEMP_MATEMATICAS'].agg(['mean','max','min'])"
   ]
  },
  {
   "cell_type": "code",
   "execution_count": null,
   "id": "95adf869-d59c-475e-a8b9-f94afa51d141",
   "metadata": {},
   "outputs": [],
   "source": []
  }
 ],
 "metadata": {
  "kernelspec": {
   "display_name": "Python 3 (ipykernel)",
   "language": "python",
   "name": "python3"
  },
  "language_info": {
   "codemirror_mode": {
    "name": "ipython",
    "version": 3
   },
   "file_extension": ".py",
   "mimetype": "text/x-python",
   "name": "python",
   "nbconvert_exporter": "python",
   "pygments_lexer": "ipython3",
   "version": "3.9.7"
  }
 },
 "nbformat": 4,
 "nbformat_minor": 5
}
