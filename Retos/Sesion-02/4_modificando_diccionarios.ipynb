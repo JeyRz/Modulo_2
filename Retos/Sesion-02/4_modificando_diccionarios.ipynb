{
 "cells": [
  {
   "cell_type": "markdown",
   "metadata": {},
   "source": [
    "## Ejemplo 4: Modificando diccionarios\n",
    "\n",
    "### 1. Objetivos:\n",
    "    - Practicar los 3 métodos básicos de modificación de diccionarios: agregar datos, modificar datos y borrar llaves.\n",
    " \n",
    "---\n",
    "    \n",
    "### 2. Desarrollo:"
   ]
  },
  {
   "cell_type": "markdown",
   "metadata": {},
   "source": [
    "Tenemos 3 maneras básicas de modificar nuestros diccionarios:"
   ]
  },
  {
   "cell_type": "markdown",
   "metadata": {},
   "source": [
    "#### Agregar datos\n",
    "\n",
    "Para agregar un dato a un diccionario ya existente, basta con \"llamar\" la llave que queremos agregar y asignarle un valor.\n",
    "\n",
    "Dado el siguiente diccionario, agrega el valor del email isabel@gmail.com e imprime el diccionario resultante:"
   ]
  },
  {
   "cell_type": "code",
   "execution_count": 1,
   "metadata": {},
   "outputs": [],
   "source": [
    "from pprint import pprint"
   ]
  },
  {
   "cell_type": "code",
   "execution_count": 2,
   "metadata": {},
   "outputs": [
    {
     "name": "stdout",
     "output_type": "stream",
     "text": [
      "{'dir': {'calle': 'Pilares',\n",
      "         'colonia': 'Del Valle Centro',\n",
      "         'cp': '03100',\n",
      "         'num': 69},\n",
      " 'nombre': 'Isabel',\n",
      " 'tel': 5546352431}\n"
     ]
    }
   ],
   "source": [
    "info_de_contacto = {\n",
    "    \"nombre\": \"Isabel\",\n",
    "    \"tel\": 5546352431,\n",
    "    \"dir\": {\n",
    "        \"colonia\": \"Del Valle Centro\",\n",
    "        \"calle\": \"Pilares\",\n",
    "        \"num\": 69,\n",
    "        \"cp\": \"03100\"\n",
    "    }\n",
    "}\n",
    "\n",
    "pprint(info_de_contacto)"
   ]
  },
  {
   "cell_type": "code",
   "execution_count": 3,
   "metadata": {},
   "outputs": [
    {
     "name": "stdout",
     "output_type": "stream",
     "text": [
      "{'dir': {'calle': 'Pilares',\n",
      "         'colonia': 'Del Valle Centro',\n",
      "         'cp': '03100',\n",
      "         'num': 69},\n",
      " 'email': 'isabel@gmail.com',\n",
      " 'nombre': 'Isabel',\n",
      " 'tel': 5546352431}\n"
     ]
    }
   ],
   "source": [
    "info_de_contacto[\"email\"] = \"isabel@gmail.com\"\n",
    "pprint(info_de_contacto)"
   ]
  },
  {
   "cell_type": "markdown",
   "metadata": {},
   "source": [
    "#### Modificar pares llave-valor existentes\n",
    "\n",
    "Para modificar un par llave-valor ya existente, basta con reasignar a una llave de nuestro diccionario el nuevo valor que queremos agregar. Por ejemplo, imaginemos que el número de la casa de la dirección no es 69, si no 96, realiza el cambio e imprime el resultado:"
   ]
  },
  {
   "cell_type": "code",
   "execution_count": 4,
   "metadata": {},
   "outputs": [
    {
     "name": "stdout",
     "output_type": "stream",
     "text": [
      "{'dir': {'calle': 'Pilares',\n",
      "         'colonia': 'Del Valle Centro',\n",
      "         'cp': '03100',\n",
      "         'num': 96},\n",
      " 'email': 'isabel@gmail.com',\n",
      " 'nombre': 'Isabel',\n",
      " 'tel': 5546352431}\n"
     ]
    }
   ],
   "source": [
    "info_de_contacto[\"dir\"][\"num\"] = 96\n",
    "pprint(info_de_contacto)"
   ]
  },
  {
   "cell_type": "markdown",
   "metadata": {},
   "source": [
    "#### Eliminando datos\n",
    "\n",
    "Para eliminar datos, se puede usar el método `pop`. Como bien recordarás, el nombre de este método es idéntico al método para eliminar elementos de una lista. La diferencia es que el método `pop` de las listas recibe índices como argumentos, el método `pop` de diccionarios recibe llaves como argumentos, así que vamos a eliminar el número de teléfono:"
   ]
  },
  {
   "cell_type": "code",
   "execution_count": 8,
   "metadata": {},
   "outputs": [
    {
     "data": {
      "text/plain": [
       "'Null'"
      ]
     },
     "execution_count": 8,
     "metadata": {},
     "output_type": "execute_result"
    }
   ],
   "source": [
    "info_de_contacto.pop(\"telefono\",\"Null\") # Null es un valor por defecto si no encuentra la llave que se coloca en el pop"
   ]
  },
  {
   "cell_type": "code",
   "execution_count": 9,
   "metadata": {},
   "outputs": [
    {
     "name": "stdout",
     "output_type": "stream",
     "text": [
      "5546352431\n",
      "{'dir': {'calle': 'Pilares',\n",
      "         'colonia': 'Del Valle Centro',\n",
      "         'cp': '03100',\n",
      "         'num': 96},\n",
      " 'email': 'isabel@gmail.com',\n",
      " 'nombre': 'Isabel'}\n"
     ]
    }
   ],
   "source": [
    "tel = info_de_contacto.pop(\"tel\")\n",
    "print(tel)\n",
    "pprint(info_de_contacto)"
   ]
  },
  {
   "cell_type": "markdown",
   "metadata": {},
   "source": [
    "Vayamos ahora a nuestro cuarto Reto para practicar estas herramientas a profundidad.\n",
    "\n",
    "---"
   ]
  },
  {
   "cell_type": "markdown",
   "metadata": {},
   "source": [
    "## Reto 4: Modificando diccionarios\n",
    "\n",
    "### 1. Objetivos:\n",
    "    - Practicar agregar datos, modificar datos y eliminar datos de diccionarios\n",
    " \n",
    "### 2. Desarrollo:"
   ]
  },
  {
   "cell_type": "markdown",
   "metadata": {},
   "source": [
    "Debajo tienes un diccionario que contiene algo de información sobre una persona:"
   ]
  },
  {
   "cell_type": "code",
   "execution_count": 8,
   "metadata": {},
   "outputs": [],
   "source": [
    "registro = {\n",
    "    \"id\": \"23f-58j-kju7-54re\",\n",
    "    \"nombre\": \"Alberto\",\n",
    "    \"apellido_materno\": \"Gutierrez\",\n",
    "    \"apellido_paterno\": \"Sosa\",\n",
    "    \"profesion\": \"Contador\",\n",
    "    \"ultimo_nivel_de_estudios\": \"Maestría\",\n",
    "    \"lugar_de_estudios\": \"UAM\",\n",
    "    \"numero_de_cuenta\": \"25367890\",\n",
    "    \"nip_de_cajero\": \"142\"\n",
    "}\n",
    "\n",
    "mi_registro = registro\n",
    "mi_registro[\"id\"] = \"78f-58j-tghu7-34pi\"\n",
    "mi_registro[\"nombre\"] = \"Jeimy\"\n",
    "mi_registro[\"apellido_materno\"] = \"Pinilla\"\n",
    "mi_registro[\"apellido_paterno\"] = \"Ramírez\"\n",
    "mi_registro[\"profesion\"] = \"Ing. Sistemas\"\n",
    "mi_registro[\"lugar_de_estudios\"] = \"Universidad de los Andes\"\n",
    "mi_registro[\"numero_de_cuenta\"] = \"87562034\"\n",
    "mi_registro[\"nip_de_cajero\"] = \"567\"\n",
    "mi_registro[\"fecha_de_nacimiento\"] = \"17 de Agosto 1984\"\n",
    "mi_registro[\"lugar_de_nacimiento\"] = \"Bogotá, Colombia\""
   ]
  },
  {
   "cell_type": "markdown",
   "metadata": {},
   "source": [
    "Ahora, tenemos una serie de `prints` que imprimen esta información en forma de tabla:"
   ]
  },
  {
   "cell_type": "code",
   "execution_count": 9,
   "metadata": {},
   "outputs": [
    {
     "name": "stdout",
     "output_type": "stream",
     "text": [
      "Registro con id: 78f-58j-tghu7-34pi\n",
      "\n",
      "---------------------------------------\n",
      "\n",
      "Nombre                    | Jeimy                    \n",
      "Apellido Materno          | Pinilla                  \n",
      "Apellido Paterno          | Ramírez                  \n",
      "Profesión                 | Ing. Sistemas            \n",
      "Último nivel de estudios  | Maestría                 \n",
      "Lugar de estudios         | Universidad de los Andes \n",
      "Fecha de nacimiento       | 17 de Agosto 1984        \n",
      "Lugar de nacimiento       | Bogotá, Colombia         \n"
     ]
    }
   ],
   "source": [
    "print(f'Registro con id: {mi_registro[\"id\"]}\\n')\n",
    "print(f'---------------------------------------\\n')\n",
    "print(f'{(\"Nombre\"):25} | {mi_registro[\"nombre\"]:25}')\n",
    "print(f'{(\"Apellido Materno\"):25} | {mi_registro[\"apellido_materno\"]:25}')\n",
    "print(f'{(\"Apellido Paterno\"):25} | {mi_registro[\"apellido_paterno\"]:25}')\n",
    "print(f'{(\"Profesión\"):25} | {mi_registro[\"profesion\"]:25}')\n",
    "print(f'{(\"Último nivel de estudios\"):25} | {mi_registro[\"ultimo_nivel_de_estudios\"]:25}')\n",
    "print(f'{(\"Lugar de estudios\"):25} | {mi_registro[\"lugar_de_estudios\"]:25}')\n",
    "print(f'{(\"Fecha de nacimiento\"):25} | {mi_registro[\"fecha_de_nacimiento\"]:25}')\n",
    "print(f'{(\"Lugar de nacimiento\"):25} | {mi_registro[\"lugar_de_nacimiento\"]:25}')"
   ]
  },
  {
   "cell_type": "markdown",
   "metadata": {},
   "source": [
    "El reto tienen 3 partes y todas las operaciones se realizan **sin modificar directamente el diccionario original**, en su lugar hacer lo siguiente:\n",
    "\n",
    "1. Usando la técnica para modificar valores en un diccionario, cambia la información del diccionario para que sea la tuya.\n",
    "2. Usando la técnica para agregar datos al diccionario agrega las llaves que estén siendo accesadas en el `print` pero que no han sido agregadas al diccionario.\n",
    "3. Usando la técnica para eliminar datos del diccionario, elimina los datos sensibles que no quieras que estén incluidos en el diccionario."
   ]
  },
  {
   "cell_type": "code",
   "execution_count": 10,
   "metadata": {},
   "outputs": [
    {
     "data": {
      "text/plain": [
       "{'id': '78f-58j-tghu7-34pi',\n",
       " 'nombre': 'Jeimy',\n",
       " 'apellido_materno': 'Pinilla',\n",
       " 'apellido_paterno': 'Ramírez',\n",
       " 'profesion': 'Ing. Sistemas',\n",
       " 'ultimo_nivel_de_estudios': 'Maestría',\n",
       " 'lugar_de_estudios': 'Universidad de los Andes',\n",
       " 'fecha_de_nacimiento': '17 de Agosto 1984',\n",
       " 'lugar_de_nacimiento': 'Bogotá, Colombia'}"
      ]
     },
     "execution_count": 10,
     "metadata": {},
     "output_type": "execute_result"
    }
   ],
   "source": [
    "mi_registro.pop(\"numero_de_cuenta\")\n",
    "mi_registro.pop(\"nip_de_cajero\")\n",
    "mi_registro"
   ]
  },
  {
   "cell_type": "code",
   "execution_count": null,
   "metadata": {},
   "outputs": [],
   "source": []
  }
 ],
 "metadata": {
  "kernelspec": {
   "display_name": "Python 3 (ipykernel)",
   "language": "python",
   "name": "python3"
  },
  "language_info": {
   "codemirror_mode": {
    "name": "ipython",
    "version": 3
   },
   "file_extension": ".py",
   "mimetype": "text/x-python",
   "name": "python",
   "nbconvert_exporter": "python",
   "pygments_lexer": "ipython3",
   "version": "3.9.7"
  }
 },
 "nbformat": 4,
 "nbformat_minor": 4
}
