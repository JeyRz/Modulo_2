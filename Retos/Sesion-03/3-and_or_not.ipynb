{
 "cells": [
  {
   "cell_type": "markdown",
   "metadata": {},
   "source": [
    "## Ejemplo 3: Los operadores lógicos AND, OR y NOT\n",
    "\n",
    "### 1. Objetivos:\n",
    "- Aprender a extender las capacidades de los `operadores de comparación` usando `and` y `or`.\n",
    "- Usar `and` y `or` para llamar `filter` con múltiples filtros.\n",
    " \n",
    "---\n",
    "    \n",
    "### 2. Desarrollo:"
   ]
  },
  {
   "cell_type": "markdown",
   "metadata": {},
   "source": [
    "Muchas veces una sola `sentencia de comparación` no va ser suficiente para filtrar los datos como queremos. En ese caso los operadores `and`, `or` y `not` puede ayudarnos a crear la sentencia que necesitamos."
   ]
  },
  {
   "cell_type": "markdown",
   "metadata": {},
   "source": [
    "### AND\n",
    "Los operadores lógicos funcionan sobre operadores o expresiones que regresen un valor lógico verdadero o falso (True o False), entonces para el operador lógigo `and` los posibles resultados en base al valor de los dos operandos es el siguiente:\n",
    "\n",
    "| Operando 1 | Operando 2 | Resultado |\n",
    "| ---------- | ---------- | --------- |\n",
    "| True       | True       | True      |\n",
    "| True       | False      | False     |\n",
    "| False      | True       | False     |\n",
    "| False      | False      | False     |\n",
    "\n",
    "esta es conocida como la tabla de verdad para el operador *y* (and)"
   ]
  },
  {
   "cell_type": "markdown",
   "metadata": {},
   "source": [
    "El operador `and` lo podemos aplicar cuando necesitemos que se cumplan dos o más condiciones de manera simúltánea, por ejemplo, vamos a determinar si un número cualquiera es divisible entre 3 y al mismo tiempo que sea menor que 100. Vamos a asumir que anterior mente ya habíamos creado la siguiente dos funciones por separado (que bien podría quedar todo en una sola función!):"
   ]
  },
  {
   "cell_type": "code",
   "execution_count": 1,
   "metadata": {},
   "outputs": [],
   "source": [
    "def es_divisible_entre_3(numero):\n",
    "    if numero % 3 == 0:\n",
    "        return True\n",
    "    else:\n",
    "        return False"
   ]
  },
  {
   "cell_type": "code",
   "execution_count": 2,
   "metadata": {},
   "outputs": [],
   "source": [
    "def es_menor_que_100(numero):\n",
    "    if numero < 100:\n",
    "        return True\n",
    "    else:\n",
    "        return False"
   ]
  },
  {
   "cell_type": "markdown",
   "metadata": {},
   "source": [
    "A continuación aplicamos ambas funciones a los números 10, 60, 99 y 120 evaluando cada número con ambas funciones al mismo tiempo y conectando ambos resultados con el operador `and`:"
   ]
  },
  {
   "cell_type": "code",
   "execution_count": 3,
   "metadata": {},
   "outputs": [
    {
     "data": {
      "text/plain": [
       "False"
      ]
     },
     "execution_count": 3,
     "metadata": {},
     "output_type": "execute_result"
    }
   ],
   "source": [
    "es_divisible_entre_3(10) and es_menor_que_100 (10)"
   ]
  },
  {
   "cell_type": "code",
   "execution_count": 4,
   "metadata": {},
   "outputs": [
    {
     "data": {
      "text/plain": [
       "True"
      ]
     },
     "execution_count": 4,
     "metadata": {},
     "output_type": "execute_result"
    }
   ],
   "source": [
    "es_divisible_entre_3(60) and es_menor_que_100 (60)"
   ]
  },
  {
   "cell_type": "code",
   "execution_count": 5,
   "metadata": {},
   "outputs": [
    {
     "data": {
      "text/plain": [
       "True"
      ]
     },
     "execution_count": 5,
     "metadata": {},
     "output_type": "execute_result"
    }
   ],
   "source": [
    "es_divisible_entre_3(99) and es_menor_que_100 (9)"
   ]
  },
  {
   "cell_type": "code",
   "execution_count": 6,
   "metadata": {},
   "outputs": [
    {
     "data": {
      "text/plain": [
       "False"
      ]
     },
     "execution_count": 6,
     "metadata": {},
     "output_type": "execute_result"
    }
   ],
   "source": [
    "es_divisible_entre_3(120) and es_menor_que_100 (120)"
   ]
  },
  {
   "cell_type": "markdown",
   "metadata": {},
   "source": [
    "Pero si queremos usar `filter(función, lista)` sólo acepta pasar una función, así que vamos a contruir una nueva función que conecte las dos funciones anteriores con el nombre `es_divisible_entre_3_y_menor_que_100`:"
   ]
  },
  {
   "cell_type": "code",
   "execution_count": 10,
   "metadata": {},
   "outputs": [],
   "source": [
    "def es_divisible_entre_3_y_menor_que_100(numero):\n",
    "    return es_divisible_entre_3(numero) and es_menor_que_100(numero)"
   ]
  },
  {
   "cell_type": "markdown",
   "metadata": {},
   "source": [
    "Y entonces ahora ya podemos aplicar nuestra nueva función a una lista, si tenemos una lista de 100 números en el rango de 0 a 1000:"
   ]
  },
  {
   "cell_type": "code",
   "execution_count": 8,
   "metadata": {},
   "outputs": [
    {
     "name": "stdout",
     "output_type": "stream",
     "text": [
      "[544, 972, 475, 490, 414, 602, 378, 374, 555, 751, 916, 536, 143, 542, 280, 993, 702, 186, 343, 6, 907, 265, 180, 449, 735, 29, 962, 575, 569, 375, 427, 705, 361, 89, 741, 573, 394, 140, 880, 405, 669, 338, 515, 302, 873, 264, 785, 321, 565, 537, 100, 77, 853, 187, 708, 27, 783, 769, 914, 344, 641, 841, 502, 678, 342, 497, 21, 134, 451, 420, 310, 738, 761, 339, 888, 368, 282, 296, 142, 16, 596, 126, 465, 547, 257, 301, 82, 617, 504, 479, 106, 940, 309, 153, 470, 826, 433, 2, 26, 862]\n",
      "Total de números = 100\n"
     ]
    }
   ],
   "source": [
    "from random import sample\n",
    "\n",
    "numeros = sample(range(1000), 100)\n",
    "print(numeros)\n",
    "print(\"Total de números =\", len(numeros))"
   ]
  },
  {
   "cell_type": "markdown",
   "metadata": {},
   "source": [
    "Vamos a encontrar cuáles de estos números son divisibles entre 3 y menores que 100 usando `filter` y nuestra función:"
   ]
  },
  {
   "cell_type": "code",
   "execution_count": 11,
   "metadata": {},
   "outputs": [
    {
     "name": "stdout",
     "output_type": "stream",
     "text": [
      "[6, 27, 21]\n"
     ]
    }
   ],
   "source": [
    "print ( list( filter (es_divisible_entre_3_y_menor_que_100, numeros) ) )"
   ]
  },
  {
   "cell_type": "markdown",
   "metadata": {},
   "source": [
    "Y que pasa si queremos obtener todos los números que son divisibles entre 3 y que están en el intervalo de 100 a 200, entonces nos conviene evaluar si usamos alguna de nuestras funciones anteriores o construimos una nueva, pero aún así el operador `and` se tendrá que usar para conectar las diferentes condiciones, entonces vamos acrear una función llamada `es_divisible_entre_3_y_esta_entre_100_y_200`:"
   ]
  },
  {
   "cell_type": "code",
   "execution_count": 25,
   "metadata": {},
   "outputs": [],
   "source": [
    "def es_divisible_entre_3_y_esta_entre_100_y_200(numero):\n",
    "    return es_divisible_entre_3(numero)  and 100 <= numero <= 200"
   ]
  },
  {
   "cell_type": "markdown",
   "metadata": {},
   "source": [
    "Y se aplica con filter:"
   ]
  },
  {
   "cell_type": "code",
   "execution_count": 26,
   "metadata": {},
   "outputs": [
    {
     "data": {
      "text/plain": [
       "[186, 180, 126, 153]"
      ]
     },
     "execution_count": 26,
     "metadata": {},
     "output_type": "execute_result"
    }
   ],
   "source": [
    "list( filter(es_divisible_entre_3_y_esta_entre_100_y_200, numeros) )"
   ]
  },
  {
   "cell_type": "markdown",
   "metadata": {},
   "source": [
    "O usando listas de compresión en Python y nuestra función creada:"
   ]
  },
  {
   "cell_type": "code",
   "execution_count": 27,
   "metadata": {},
   "outputs": [
    {
     "data": {
      "text/plain": [
       "[186, 180, 126, 153]"
      ]
     },
     "execution_count": 27,
     "metadata": {},
     "output_type": "execute_result"
    }
   ],
   "source": [
    "[x for x in numeros if es_divisible_entre_3_y_esta_entre_100_y_200(x)]"
   ]
  },
  {
   "cell_type": "markdown",
   "metadata": {},
   "source": [
    "O la forma Pythonesca 1 sólo usando listas de compresión:"
   ]
  },
  {
   "cell_type": "code",
   "execution_count": 31,
   "metadata": {},
   "outputs": [
    {
     "data": {
      "text/plain": [
       "[186, 180, 126, 153]"
      ]
     },
     "execution_count": 31,
     "metadata": {},
     "output_type": "execute_result"
    }
   ],
   "source": [
    "[x for x in numeros if x%3 == 0 and x >= 100 and x <= 200]\n",
    "\n",
    "[x for x in numeros if x%3 == 0 and 100 <= x <= 200]"
   ]
  },
  {
   "cell_type": "markdown",
   "metadata": {},
   "source": [
    "O la forma Pythones 2 usando filter, funciones lambda e if en línea de Python, recuerda que la función para filter tiene que regresar verdadero o falso:"
   ]
  },
  {
   "cell_type": "code",
   "execution_count": 42,
   "metadata": {},
   "outputs": [
    {
     "data": {
      "text/plain": [
       "[186, 180, 126, 153]"
      ]
     },
     "execution_count": 42,
     "metadata": {},
     "output_type": "execute_result"
    }
   ],
   "source": [
    "list ( filter (lambda x: True if x%3 == 0 and x >= 100 and x <= 200 else False, numeros) )\n",
    "\n",
    "list ( filter (lambda x: x%3 == 0 and 100 <= x <= 200, numeros) )"
   ]
  },
  {
   "cell_type": "markdown",
   "metadata": {},
   "source": [
    "### OR\n",
    "El operador lógico `or` tiene los siguientes resultados en base al valor de sus los dos operandos:\n",
    "\n",
    "| Operando 1 | Operando 2 | Resultado |\n",
    "| ---------- | ---------- | --------- |\n",
    "| True       | True       | True      |\n",
    "| True       | False      | True      |\n",
    "| False      | True       | True      |\n",
    "| False      | False      | False     |\n",
    "\n",
    "esta es conocida como la tabla de verdad para el operador *o* (or)"
   ]
  },
  {
   "cell_type": "markdown",
   "metadata": {},
   "source": [
    "El operador `or` lo podemos aplicar cuando necesitemos que se cumplan dos o más condiciones, pero no necesariamente de manera simultánea, en este caso vasta con que se cumpla una para dar por verdadera toda la operación, por ejemplo de nuestra lista de números, queremos encontrar ahora todos los números que **not** están en el intervalor de 100 a 200, entonces contruyamos la función `no_esta_entre_100_y_200`, las posibilidades son que el número sea menor a 100 **o** (or) que el número sea mayor a 200 (dificilmente un número va a cumplir ambas condiciones), entonces la función queda así:"
   ]
  },
  {
   "cell_type": "code",
   "execution_count": 54,
   "metadata": {},
   "outputs": [],
   "source": [
    "def no_esta_entre_100_y_200(numero):\n",
    "    #return  not 100 < numero > 200\n",
    "    return not 100 < numero < 200"
   ]
  },
  {
   "cell_type": "markdown",
   "metadata": {},
   "source": [
    "Aplicando con `filter` a nuestra lista `numeros`:"
   ]
  },
  {
   "cell_type": "code",
   "execution_count": 55,
   "metadata": {},
   "outputs": [
    {
     "name": "stdout",
     "output_type": "stream",
     "text": [
      "[544, 972, 475, 490, 414, 602, 378, 374, 555, 751, 916, 536, 542, 280, 993, 702, 343, 6, 907, 265, 449, 735, 29, 962, 575, 569, 375, 427, 705, 361, 89, 741, 573, 394, 880, 405, 669, 338, 515, 302, 873, 264, 785, 321, 565, 537, 100, 77, 853, 708, 27, 783, 769, 914, 344, 641, 841, 502, 678, 342, 497, 21, 451, 420, 310, 738, 761, 339, 888, 368, 282, 296, 16, 596, 465, 547, 257, 301, 82, 617, 504, 479, 940, 309, 470, 826, 433, 2, 26, 862]\n",
      "90\n"
     ]
    }
   ],
   "source": [
    "resultado = list ( filter(no_esta_entre_100_y_200, numeros) )\n",
    "\n",
    "print(resultado)\n",
    "print(len\n",
    "      (resultado))"
   ]
  },
  {
   "cell_type": "markdown",
   "metadata": {},
   "source": [
    "### NOT\n",
    "El operador lógico no (`not`) o negación sólo aplica a un operando y la tabla de verdad es:\n",
    "\n",
    "| Operando | Resultado |\n",
    "| -------- | --------- |\n",
    "| True     | False     |\n",
    "| False    | True      |"
   ]
  },
  {
   "cell_type": "markdown",
   "metadata": {},
   "source": [
    "El operador `not` lo podemos aplicar cuando necesitemos invertir el valor de una operación, por ejemplo de nuestra lista de números, queremos encontrar ahora todos los números que **not** son dibisibles entre 3, entonces podríamos contruir otra función, pero vamos a usar nuevamente el concepto de función lambda (que ya casi revisamos) para construir una función compacta, veamos como lo aplicamos directamente a `filter`:"
   ]
  },
  {
   "cell_type": "code",
   "execution_count": 57,
   "metadata": {},
   "outputs": [
    {
     "name": "stdout",
     "output_type": "stream",
     "text": [
      "[544, 475, 490, 602, 374, 751, 916, 536, 143, 542, 280, 343, 907, 265, 449, 29, 962, 575, 569, 427, 361, 89, 394, 140, 880, 338, 515, 302, 785, 565, 100, 77, 853, 187, 769, 914, 344, 641, 841, 502, 497, 134, 451, 310, 761, 368, 296, 142, 16, 596, 547, 257, 301, 82, 617, 479, 106, 940, 470, 826, 433, 2, 26, 862]\n",
      "Número de elementos: 64\n"
     ]
    }
   ],
   "source": [
    "resultado = list ( filter ( lambda x: not es_divisible_entre_3(x), numeros) )\n",
    "\n",
    "print(resultado)\n",
    "print(\"Número de elementos:\", len(resultado))"
   ]
  },
  {
   "cell_type": "markdown",
   "metadata": {},
   "source": [
    "El operador `not` estratégicamente aplicado nos puede ahorrar mucho trabajo o simplificar algunas operaciones y para ello se recomienda leer algún libro sobre Princípios de Lógica para aprender como crear y transformar las operaciones lógicas o también puedes experimentar con Python y aprender por tu cuenta."
   ]
  },
  {
   "cell_type": "markdown",
   "metadata": {},
   "source": [
    "---\n",
    "---\n",
    "## Reto 3: And, Or y Not\n",
    "\n",
    "### 1. Objetivos:\n",
    "- Practicar el operador `and`, `or` y `not` para realizar filtros más complejos\n",
    " \n",
    "### 2. Desarrollo:"
   ]
  },
  {
   "cell_type": "markdown",
   "metadata": {},
   "source": [
    "#### a) Filtrando valores atípicos en ambos extremos.\n",
    "\n",
    "Regresemos a nuestro ejemplo de EyePoker Inc. Esta vez tenemos un nuevo conjunto de datos con más empleados (la industria de picadores de ojos va en aumento vertiginoso). Además incluye los sueldos de algunos internos. Estos sueldos son muy bajos (simbólicos, podríamos llamarlos), como puedes ver:"
   ]
  },
  {
   "cell_type": "code",
   "execution_count": 1,
   "metadata": {},
   "outputs": [
    {
     "name": "stdout",
     "output_type": "stream",
     "text": [
      "[18, 48, 49, 49, 60, 69, 57, 78, 30, 40, 37, 35, 36, 38, 25, 21, 57, 32, 1, 34, 2, 34, 38, 44, 35, 20, 52, 29, 49, 29, 31, 0, 48, 81, 59, 39, 6, 34, 26, 9, 65, 46, 54, 53, 45, 25, 40, 33, 17, 36, 71, 25, 20, 32, 3, 60, 35, 29, 38, 60, 49, 73, 60, 47, 41, 19, 29, 26, 37, 42, 41, 39, 48, 10, 26, 8, 12, 36, 45, 83, 12, 60, 43, 44, 26, 15, 28, 59, 2, 57, 39, 35, 45, 30, 24, 42, 33, 40, 96, 20]\n",
      "El total de sueldos es de: 100\n"
     ]
    }
   ],
   "source": [
    "import random\n",
    "\n",
    "sueldos = [int(abs(random.gauss(40, 20))) for _ in range(100)]\n",
    "print(sueldos)\n",
    "print(\"El total de sueldos es de:\", len(sueldos))"
   ]
  },
  {
   "cell_type": "markdown",
   "metadata": {},
   "source": [
    "En realidad a nosotros sólo nos interesa analizar los sueldos de los empleados que tiene la empresa a largo plazo. Como tenemos bastantes internos, es muy probable que la inclusión de estos sueldos vaya a distorsionar nuestro cálculo del sueldo `típico` en la empresa, además recuerda que estas cantidades están dadas en miles."
   ]
  },
  {
   "cell_type": "code",
   "execution_count": 2,
   "metadata": {},
   "outputs": [
    {
     "name": "stdout",
     "output_type": "stream",
     "text": [
      "El sueldo \"típico\" en EyePoker Inc. con todos los datos es: $ 37870.00\n"
     ]
    }
   ],
   "source": [
    "print(f'El sueldo \"típico\" en EyePoker Inc. con todos los datos es: $ {sum(sueldos) / len(sueldos) * 1000:.2f}')"
   ]
  },
  {
   "cell_type": "markdown",
   "metadata": {},
   "source": [
    "Para evitar esta distorsión y calcular solamente el sueldo `típico` de los empleados que están contratados a largo plazo, vamos a filtrar nuestra lista.\n",
    "\n",
    "Lo que tienes que hacer es lo siguiente:\n",
    "\n",
    "1. Define una función que regrese `True` cuando el argumento sea mayor que 20.\n",
    "2. Define una función que regrese `True` cuando el argumento sea menor que 40.\n",
    "3. Define una tercera función que una las dos primeras funciones usando un operador `and`.\n",
    "4. Filtrar la lista y asignarla a `sueldos_filtrados`."
   ]
  },
  {
   "cell_type": "code",
   "execution_count": 3,
   "metadata": {},
   "outputs": [
    {
     "name": "stdout",
     "output_type": "stream",
     "text": [
      "[48, 49, 49, 60, 69, 57, 78, 30, 40, 37, 35, 36, 38, 25, 21, 57, 32, 34, 34, 38, 44, 35, 52, 29, 49, 29, 31, 48, 81, 59, 39, 34, 26, 65, 46, 54, 53, 45, 25, 40, 33, 36, 71, 25, 32, 60, 35, 29, 38, 60, 49, 73, 60, 47, 41, 29, 26, 37, 42, 41, 39, 48, 26, 36, 45, 83, 60, 43, 44, 26, 28, 59, 57, 39, 35, 45, 30, 24, 42, 33, 40, 96]\n"
     ]
    }
   ],
   "source": [
    "def mayor_a_20(sueldo):\n",
    "    return sueldo > 20\n",
    "\n",
    "print(list(filter(mayor_a_20, sueldos)))"
   ]
  },
  {
   "cell_type": "code",
   "execution_count": 4,
   "metadata": {},
   "outputs": [
    {
     "name": "stdout",
     "output_type": "stream",
     "text": [
      "[18, 30, 37, 35, 36, 38, 25, 21, 32, 1, 34, 2, 34, 38, 35, 20, 29, 29, 31, 0, 39, 6, 34, 26, 9, 25, 33, 17, 36, 25, 20, 32, 3, 35, 29, 38, 19, 29, 26, 37, 39, 10, 26, 8, 12, 36, 12, 26, 15, 28, 2, 39, 35, 30, 24, 33, 20]\n"
     ]
    }
   ],
   "source": [
    "# Aquí va tu segunda función\n",
    "def menor_a_40(sueldo):\n",
    "    return sueldo < 40\n",
    "\n",
    "print(list(filter(menor_a_40, sueldos)))"
   ]
  },
  {
   "cell_type": "code",
   "execution_count": 5,
   "metadata": {},
   "outputs": [
    {
     "name": "stdout",
     "output_type": "stream",
     "text": [
      "[30, 37, 35, 36, 38, 25, 21, 32, 34, 34, 38, 35, 29, 29, 31, 39, 34, 26, 25, 33, 36, 25, 32, 35, 29, 38, 29, 26, 37, 39, 26, 36, 26, 28, 39, 35, 30, 24, 33]\n"
     ]
    }
   ],
   "source": [
    "# Aquí va tu tercera función\n",
    "def may_20_men_40(sueldo):\n",
    "    return mayor_a_20(sueldo) and menor_a_40(sueldo)\n",
    "print(list(filter(may_20_men_40, sueldos)))"
   ]
  },
  {
   "cell_type": "code",
   "execution_count": 6,
   "metadata": {},
   "outputs": [],
   "source": [
    "sueldos_filtrados = list(filter(may_20_men_40, sueldos))"
   ]
  },
  {
   "cell_type": "markdown",
   "metadata": {},
   "source": [
    "Finalmente tu función de validación ..."
   ]
  },
  {
   "cell_type": "code",
   "execution_count": 7,
   "metadata": {},
   "outputs": [
    {
     "name": "stdout",
     "output_type": "stream",
     "text": [
      "Tú cálculo del sueldo \"típico\" de $ 31897.44 en EyePoker Inc. es aceptable, estás contratado!\n"
     ]
    }
   ],
   "source": [
    "from base64 import b64decode\n",
    "\n",
    "datos = b'CmRlZiBzdWVsZG9fZXNwZXJhZG8oc3VlbGRvcyk6CiAgICBudWV2b3Nfc3VlbGRvcyA9IFt4IGZvciB4IGluIHN1ZWxkb3MgaWYgeD4yMCBhbmQgeDw0MF0KICAgIHJldHVybiBzdW0obnVldm9zX3N1ZWxkb3MpIC8gbGVuKG51ZXZvc19zdWVsZG9zKSAqIDEwMDAK'\n",
    "eval(compile(b64decode(datos), \"\", \"exec\"))\n",
    "\n",
    "sueldo_tipico = sum(sueldos_filtrados) / len(sueldos_filtrados) * 1000\n",
    "if sueldo_tipico == sueldo_esperado(sueldos):\n",
    "    print(f'Tú cálculo del sueldo \"típico\" de $ {sueldo_tipico:.2f} en EyePoker Inc. es aceptable, estás contratado!')\n",
    "else:\n",
    "    print(f'Tú cálculo del sueldo \"típico\" de $ {sueldo_tipico:.2f} en EyePoker Inc. no es aceptable!')\n",
    "    print(f'El sueldo \"típico\" esperado es de $ {sueldo_esperado(sueldos):.2f}, hay un error en tus \"sueldos_filtrados\"')"
   ]
  },
  {
   "cell_type": "markdown",
   "metadata": {},
   "source": [
    "#### b) Filtrando palabras\n",
    "\n",
    "Eres el organizador del Concurso Nacional de Deletreo \"Salvador Novo\". Por una bella coincidencia, este año el día del concurso cae justo el mismo día que el Día del Orgullo LGBT. Dado que Salvador Novo era homosexual, te parece muy apropiado que el concurso de deletreo funcione como una celebración de su \"belicosa homosexualidad\" (como la llamaba Carlos Monsiváis). Se te ocurre hacer lo siguiente:\n",
    "\n",
    "De la lista de palabras que tenías originalmente para el concurso, vas a filtrar las palabras para que sólo tengas palabras que empiecen con \"l\" **o** o con \"g\" **o** con \"b\" **o** con \"t\".\n",
    "\n",
    "Aquí está tu lista original de palabras:"
   ]
  },
  {
   "cell_type": "code",
   "execution_count": 8,
   "metadata": {},
   "outputs": [],
   "source": [
    "palabras = ['cabildo', 'genocidio', 'severo', 'jarana', 'enigmático', 'jaguar', 'solidaridad', 'reivindicar', 'bálsamo', 'panteón',\n",
    "            'cabestrillo', 'boicotear', 'letargo', 'jaqueca', 'tentáculo', 'legislar', 'gnomo', 'blasfemia', 'camposanto',\n",
    "            'factible', 'eficaz', 'sintonía', 'lloriquear', 'fachada', 'edificante', 'pétalo', 'libélula', 'pavimento', 'llovizna',\n",
    "            'racimo', 'gargantilla', 'relieve', 'bóveda', 'tecnicismo', 'terraplén', 'basílica']"
   ]
  },
  {
   "cell_type": "markdown",
   "metadata": {},
   "source": [
    "1. Escribe 4 funciones, para cada una de las letras del acrónimo LGBT. Las funciones van a regresar `True` sólo si la palabra comienza con la letra que le corresponde.\n",
    "\n",
    "    Por ejemplo, la función `palabra_comienza_con_l` va a regresar `True` sólo si la palabra comienza con `l`.\n",
    "\n",
    "2. Después, define una función que sea la unión de estas 4 funciones y regrese `True` si la palabra comienza con alguna de las letras del acrónimo LGBT.\n",
    "\n",
    "3. Finalmente filtra la `lista` `palabras` para tener una nueva lista que será la `lista` usada para el concurso.\n",
    "\n",
    "> **Tip #1**: Las `strings` pueden ser accedas igual que las listas, así que si quieres acceder a la primera letra de una palabra basta con usar `palabra[0]`, como si fuera el primer índice de una `lista`.\n",
    "\n",
    "> **Tip #2**: Hasta ahora sólo hemos usando operadores `lógicos` con 1 o 2 comparaciones. Juntar más de dos comparaciones es tan fácil como escribir: \n",
    "\n",
    "```python\n",
    "comparacion_1 or comparacion_2 or comparacion_3 or comparacion_4\n",
    "```"
   ]
  },
  {
   "cell_type": "code",
   "execution_count": 16,
   "metadata": {},
   "outputs": [
    {
     "data": {
      "text/plain": [
       "['letargo', 'legislar', 'lloriquear', 'libélula', 'llovizna']"
      ]
     },
     "execution_count": 16,
     "metadata": {},
     "output_type": "execute_result"
    }
   ],
   "source": [
    "def inicia_con_l(palabra):\n",
    "    return palabra[0] == 'l'\n",
    "\n",
    "list( filter(inicia_con_l, palabras) )"
   ]
  },
  {
   "cell_type": "code",
   "execution_count": 17,
   "metadata": {},
   "outputs": [
    {
     "data": {
      "text/plain": [
       "['genocidio', 'gnomo', 'gargantilla']"
      ]
     },
     "execution_count": 17,
     "metadata": {},
     "output_type": "execute_result"
    }
   ],
   "source": [
    "# Aquí va la función para filtrar \"g\"\n",
    "def inicia_con_g(palabra):\n",
    "    return palabra[0] == 'g'\n",
    "\n",
    "list( filter(inicia_con_g, palabras) )"
   ]
  },
  {
   "cell_type": "code",
   "execution_count": 18,
   "metadata": {},
   "outputs": [
    {
     "data": {
      "text/plain": [
       "['bálsamo', 'boicotear', 'blasfemia', 'bóveda', 'basílica']"
      ]
     },
     "execution_count": 18,
     "metadata": {},
     "output_type": "execute_result"
    }
   ],
   "source": [
    "# Aquí va la función para filtrar \"b\"\n",
    "def inicia_con_b(palabra):\n",
    "    return palabra[0] == 'b'\n",
    "\n",
    "list( filter(inicia_con_b, palabras) )"
   ]
  },
  {
   "cell_type": "code",
   "execution_count": 19,
   "metadata": {},
   "outputs": [
    {
     "data": {
      "text/plain": [
       "['tentáculo', 'tecnicismo', 'terraplén']"
      ]
     },
     "execution_count": 19,
     "metadata": {},
     "output_type": "execute_result"
    }
   ],
   "source": [
    "# Aquí va la función para filtrar \"t\"\n",
    "def inicia_con_t(palabra):\n",
    "    return palabra[0] == 't'\n",
    "\n",
    "list( filter(inicia_con_t, palabras) )"
   ]
  },
  {
   "cell_type": "code",
   "execution_count": 20,
   "metadata": {},
   "outputs": [
    {
     "data": {
      "text/plain": [
       "['genocidio',\n",
       " 'bálsamo',\n",
       " 'boicotear',\n",
       " 'letargo',\n",
       " 'tentáculo',\n",
       " 'legislar',\n",
       " 'gnomo',\n",
       " 'blasfemia',\n",
       " 'lloriquear',\n",
       " 'libélula',\n",
       " 'llovizna',\n",
       " 'gargantilla',\n",
       " 'bóveda',\n",
       " 'tecnicismo',\n",
       " 'terraplén',\n",
       " 'basílica']"
      ]
     },
     "execution_count": 20,
     "metadata": {},
     "output_type": "execute_result"
    }
   ],
   "source": [
    "# Aquí va la función para unir las 4 funciones anteriores\n",
    "def inicia_con_l_g_b_t(palabra):\n",
    "    return inicia_con_l(palabra) or inicia_con_g(palabra) or inicia_con_b(palabra) or inicia_con_t(palabra)\n",
    "\n",
    "list( filter(inicia_con_l_g_b_t, palabras) )"
   ]
  },
  {
   "cell_type": "code",
   "execution_count": 21,
   "metadata": {},
   "outputs": [],
   "source": [
    "palabras_filtradas = list( filter(inicia_con_l_g_b_t, palabras) )"
   ]
  },
  {
   "cell_type": "markdown",
   "metadata": {},
   "source": [
    "A continuación ejecuta tu celda de validación!"
   ]
  },
  {
   "cell_type": "code",
   "execution_count": 22,
   "metadata": {},
   "outputs": [
    {
     "name": "stdout",
     "output_type": "stream",
     "text": [
      "== Validando lista oficial de palabras ==\n",
      "-----------------------------------------\n",
      "0) Tú valor: genocidio, ok\n",
      "1) Tú valor: bálsamo, ok\n",
      "2) Tú valor: boicotear, ok\n",
      "3) Tú valor: letargo, ok\n",
      "4) Tú valor: tentáculo, ok\n",
      "5) Tú valor: legislar, ok\n",
      "6) Tú valor: gnomo, ok\n",
      "7) Tú valor: blasfemia, ok\n",
      "8) Tú valor: lloriquear, ok\n",
      "9) Tú valor: libélula, ok\n",
      "10) Tú valor: llovizna, ok\n",
      "11) Tú valor: gargantilla, ok\n",
      "12) Tú valor: bóveda, ok\n",
      "13) Tú valor: tecnicismo, ok\n",
      "14) Tú valor: terraplén, ok\n",
      "15) Tú valor: basílica, ok\n",
      "-----------------------------------------\n",
      "Cero errores, felicidadez misión cumplida!\n"
     ]
    }
   ],
   "source": [
    "titulo = f'== Validando lista oficial de palabras =='\n",
    "print(titulo)\n",
    "print(\"-\"*len(titulo))\n",
    "errores = 0\n",
    "for i, valor in enumerate([x for x in palabras if \"lgbt\".find(x[0]) >= 0]):\n",
    "    try:\n",
    "        if valor == palabras_filtradas[i]:\n",
    "            print(f\"{i}) Tú valor: {palabras_filtradas[i]}, ok\")\n",
    "        else:\n",
    "            print(f\"{i}) Tú valor: {palabras_filtradas[i]}, error. El valor esperado es {valor}\")\n",
    "            errores += 1\n",
    "    except IndexError:\n",
    "        print(f\"{i}) Tú valor: None, error. El valor esperado es {valor}\")\n",
    "        errores += 1\n",
    "print(\"-\" * len(titulo))\n",
    "if errores:\n",
    "    print(f\"Se encontraron {errores} errores, intenta de nuevo!\")\n",
    "else:\n",
    "    print(\"Cero errores, felicidadez misión cumplida!\")"
   ]
  },
  {
   "cell_type": "code",
   "execution_count": null,
   "metadata": {},
   "outputs": [],
   "source": []
  }
 ],
 "metadata": {
  "kernelspec": {
   "display_name": "Python 3 (ipykernel)",
   "language": "python",
   "name": "python3"
  },
  "language_info": {
   "codemirror_mode": {
    "name": "ipython",
    "version": 3
   },
   "file_extension": ".py",
   "mimetype": "text/x-python",
   "name": "python",
   "nbconvert_exporter": "python",
   "pygments_lexer": "ipython3",
   "version": "3.9.7"
  }
 },
 "nbformat": 4,
 "nbformat_minor": 4
}
