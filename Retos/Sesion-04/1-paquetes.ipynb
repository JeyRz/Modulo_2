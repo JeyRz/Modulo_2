{
 "cells": [
  {
   "cell_type": "markdown",
   "metadata": {},
   "source": [
    "## Ejemplo 1: Paquetes\n",
    "\n",
    "### 1. Objetivos:\n",
    "    - Aprender la sintaxis de la importación de paquetes para utilizarla a lo largo del módulo\n",
    " \n",
    "---\n",
    "    \n",
    "### 2. Desarrollo:"
   ]
  },
  {
   "cell_type": "markdown",
   "metadata": {},
   "source": [
    "Antes de importar paquetes hay que instalarlos en nuestra computadora. Esto se puede hacer de dos maneras:\n",
    "\n",
    "1. Yendo a nuestra terminal y usando el comando `pip install nombre_del_paquete`\n",
    "2. Corriendo código como el siguiente desde nuestro Jupyter Notebook ejecutando el mismo comando, pero anteponiendo un símbolo de `!`."
   ]
  },
  {
   "cell_type": "markdown",
   "metadata": {},
   "source": [
    "Vayamos instalar nuestro paquete `Pandas`, para buscar o consultar éste o cualquier otro paquete disponible para Python puedes dar un vistazo al sitio [PyPi](https://pypi.org).\n",
    "\n",
    "Entonces el comando a ejecutar en la siguiente celda es el siguiente:\n",
    "\n",
    "`!pip install pandas`"
   ]
  },
  {
   "cell_type": "code",
   "execution_count": 1,
   "metadata": {},
   "outputs": [
    {
     "name": "stdout",
     "output_type": "stream",
     "text": [
      "Collecting pandas\n",
      "  Downloading pandas-1.3.5-cp310-cp310-win_amd64.whl (10.2 MB)\n",
      "Collecting numpy>=1.21.0\n",
      "  Downloading numpy-1.22.1-cp310-cp310-win_amd64.whl (14.7 MB)\n",
      "Requirement already satisfied: pytz>=2017.3 in c:\\users\\jramirez\\appdata\\local\\programs\\python\\python310\\lib\\site-packages (from pandas) (2021.3)\n",
      "Requirement already satisfied: python-dateutil>=2.7.3 in c:\\users\\jramirez\\appdata\\local\\programs\\python\\python310\\lib\\site-packages (from pandas) (2.8.2)\n",
      "Requirement already satisfied: six>=1.5 in c:\\users\\jramirez\\appdata\\local\\programs\\python\\python310\\lib\\site-packages (from python-dateutil>=2.7.3->pandas) (1.16.0)\n",
      "Installing collected packages: numpy, pandas\n",
      "Successfully installed numpy-1.22.1 pandas-1.3.5\n"
     ]
    },
    {
     "name": "stderr",
     "output_type": "stream",
     "text": [
      "WARNING: You are using pip version 21.2.3; however, version 21.3.1 is available.\n",
      "You should consider upgrading via the 'C:\\Users\\jramirez\\AppData\\Local\\Programs\\Python\\Python310\\python.exe -m pip install --upgrade pip' command.\n"
     ]
    }
   ],
   "source": [
    "!pip install pandas"
   ]
  },
  {
   "cell_type": "markdown",
   "metadata": {},
   "source": [
    "Una vez terminada la instalación, podemos importarlo con:\n",
    "\n",
    "    import pandas\n",
    "    \n",
    "o como lo importan en Ciencia de Datos:\n",
    "\n",
    "    import pandas as pd"
   ]
  },
  {
   "cell_type": "code",
   "execution_count": 3,
   "metadata": {},
   "outputs": [],
   "source": [
    "import pandas as pd"
   ]
  },
  {
   "cell_type": "markdown",
   "metadata": {},
   "source": [
    "La última forma de importarlo es una forma de asignarle un \"alias\" al nombre del paquete, de manera que haya que escribir menos para usarlo."
   ]
  },
  {
   "cell_type": "markdown",
   "metadata": {},
   "source": [
    "Para usar un módulo incluido en un paquete, basta con usar la sintaxis:\n",
    "\n",
    "`nombre_de_paquete.nombre_de_modulo`.\n",
    "\n",
    "En esta sesión usaremos las siguientes dos clases de `pandas` para crear dos nuevos tipos de datos, las Series y los DataFrames.\n",
    "\n",
    "Ejecutamos los comando siguientes, sólo para validar que `pandas` ha sido instalado correctamente:\n",
    "\n",
    "    pd.Series\n",
    "    pd.DataFrame\n"
   ]
  },
  {
   "cell_type": "code",
   "execution_count": 4,
   "metadata": {},
   "outputs": [
    {
     "data": {
      "text/plain": [
       "pandas.core.series.Series"
      ]
     },
     "execution_count": 4,
     "metadata": {},
     "output_type": "execute_result"
    }
   ],
   "source": [
    "pd.Series"
   ]
  },
  {
   "cell_type": "code",
   "execution_count": 7,
   "metadata": {},
   "outputs": [
    {
     "data": {
      "text/plain": [
       "pandas.core.frame.DataFrame"
      ]
     },
     "execution_count": 7,
     "metadata": {},
     "output_type": "execute_result"
    }
   ],
   "source": [
    "pd.DataFrame"
   ]
  },
  {
   "cell_type": "code",
   "execution_count": null,
   "metadata": {},
   "outputs": [],
   "source": []
  }
 ],
 "metadata": {
  "kernelspec": {
   "display_name": "Python 3 (ipykernel)",
   "language": "python",
   "name": "python3"
  },
  "language_info": {
   "codemirror_mode": {
    "name": "ipython",
    "version": 3
   },
   "file_extension": ".py",
   "mimetype": "text/x-python",
   "name": "python",
   "nbconvert_exporter": "python",
   "pygments_lexer": "ipython3",
   "version": "3.10.0"
  }
 },
 "nbformat": 4,
 "nbformat_minor": 4
}
